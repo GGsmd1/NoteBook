{
 "cells": [
  {
   "cell_type": "markdown",
   "metadata": {},
   "source": [
    "##  pandas\n",
    "### 简介\n",
    "* 官方链接：http://pandas.pydata.org/\n",
    "* pandas = pannel data + data analysis\n",
    "* 简介：Pandas是python的一个数据分析包，最初由AQR Capital Management于2008年4月开发，并于2009年底开源出来，目前由专注于Python数据包开发的PyData开发team继续开发和维护，属于PyData项目的一部分。Pandas最初被作为金融数据分析工具开发出来，因此，pandas为时间序列分析提供了很好的支持。\n",
    "* 作者：Wes McKinney\n",
    "\n",
    "### 基本功能\n",
    "* 开发pandas时提出的需求\n",
    "  * 具备按轴自动或显示数据对齐功能的数据结构\n",
    "  * 集成时间序列功能\n",
    "  * 既能处理时间序列数据也能处理非时间序列数据的数据结构\n",
    "  * 数学运算和约减（比如对某个轴求和）可以根据不同的元数据（轴编号）执行\n",
    "  * 灵活处理缺失数据\n",
    "  * 合并及其它出现在常见数据库（例如基于SQL的）中的关系型运算"
   ]
  },
  {
   "cell_type": "markdown",
   "metadata": {},
   "source": [
    "### 数据结构 \n",
    "#### Series\n",
    "* Series是一种类似于一维数组的对象，它由一组数据（各种NumPy数据类型）以及一组于之相关的数据标签（即索引）组成\n",
    "* Series的字符串表现形式为：索引在左边，值在右边。\n",
    "* 创建\n",
    "* 读写\n",
    "* 运算"
   ]
  },
  {
   "cell_type": "code",
   "execution_count": 1,
   "metadata": {
    "collapsed": true
   },
   "outputs": [],
   "source": [
    "import pandas as pd"
   ]
  },
  {
   "cell_type": "code",
   "execution_count": 2,
   "metadata": {},
   "outputs": [
    {
     "name": "stdout",
     "output_type": "stream",
     "text": [
      "用数组生成Series\n",
      "0    4\n",
      "1    7\n",
      "2   -5\n",
      "3    3\n",
      "dtype: int64\n",
      "[ 4  7 -5  3]\n",
      "RangeIndex(start=0, stop=4, step=1)\n",
      "\n",
      "指定Series的index\n",
      "d    4\n",
      "b    7\n",
      "a   -5\n",
      "c    3\n",
      "dtype: int64\n",
      "Index(['d', 'b', 'a', 'c'], dtype='object')\n",
      "-5\n",
      "c    3\n",
      "a   -5\n",
      "d    6\n",
      "dtype: int64\n",
      "d    6\n",
      "b    7\n",
      "c    3\n",
      "dtype: int64\n",
      "True\n",
      "False\n",
      "\n",
      "使用字典生成Series\n",
      "Ohio      45000\n",
      "Oregon    16000\n",
      "Texas     71000\n",
      "Utah       5000\n",
      "dtype: int64\n",
      "\n",
      "使用字典生成Series，并额外指定index，不匹配部分为NaN。\n",
      "California        NaN\n",
      "Ohio          45000.0\n",
      "Oregon        16000.0\n",
      "Texas         71000.0\n",
      "dtype: float64\n",
      "\n",
      "Series相加，相同索引部分相加。\n",
      "California         NaN\n",
      "Ohio           90000.0\n",
      "Oregon         32000.0\n",
      "Texas         142000.0\n",
      "Utah               NaN\n",
      "dtype: float64\n",
      "\n",
      "指定Series及其索引的名字\n",
      "state\n",
      "California        NaN\n",
      "Ohio          45000.0\n",
      "Oregon        16000.0\n",
      "Texas         71000.0\n",
      "Name: population, dtype: float64\n",
      "替换index\n",
      "Bob      4\n",
      "Steve    7\n",
      "Jeff    -5\n",
      "Ryan     3\n",
      "dtype: int64\n"
     ]
    }
   ],
   "source": [
    "print('用数组生成Series')\n",
    "obj = pd.Series([4, 7, -5, 3])\n",
    "print(obj)\n",
    "print(obj.values)\n",
    "print(obj.index)\n",
    "print()\n",
    "print('指定Series的index')\n",
    "obj2 = pd.Series([4, 7, -5, 3], index=['d', 'b', 'a', 'c'])\n",
    "print(obj2)\n",
    "print(obj2.index)\n",
    "print(obj2['a'])\n",
    "obj2['d'] = 6\n",
    "print(obj2[['c', 'a' ,'d']])\n",
    "print(obj2[obj2 > 0])# 找出大于0的元素\n",
    "print('b' in obj2)# 判断索引是否存在\n",
    "print('e' in obj2)\n",
    "print()\n",
    "print('使用字典生成Series')\n",
    "sdata = {'Ohio':45000, 'Texas':71000, 'Oregon':16000, 'Utah':5000}\n",
    "obj3 = pd.Series(sdata)\n",
    "print(obj3)\n",
    "print()\n",
    "print('使用字典生成Series，并额外指定index，不匹配部分为NaN。')\n",
    "states = ['California', 'Ohio', 'Oregon', 'Texas']\n",
    "obj4 = pd.Series(sdata, index=states)\n",
    "print(obj4)\n",
    "print()\n",
    "print('Series相加，相同索引部分相加。')\n",
    "print(obj4 + obj3)\n",
    "print()\n",
    "print('指定Series及其索引的名字')\n",
    "obj4.name = 'population'\n",
    "obj4.index.name = 'state'\n",
    "print(obj4)\n",
    "print('替换index')\n",
    "obj.index = ['Bob', 'Steve', 'Jeff', 'Ryan']\n",
    "print(obj)"
   ]
  },
  {
   "cell_type": "markdown",
   "metadata": {},
   "source": [
    "#### DataFrame\n",
    "* DateFrame是一个表格型的数据结构，它含有一组有序的列，每列可以是不同的值类型（数值、字符串、布尔值等）\n",
    "* DataFrame既有行索引也有列索引，它可以被看做有Series组成的字段（公用同一个索引）\n",
    "* 可以输入给DataFrame构造器的数据\n",
    "  * 二维ndarray\n",
    "  * 有数组、列表或元组组成的字典\n",
    "  * NumPy的结构化/记录数组\n",
    "  * 由Series组成的字典\n",
    "  * 由字典组成的字典\n",
    "  * 字典或Series的列表\n",
    "  * 由列表或元组组成的列表\n",
    "  * 另一个DataFrame\n",
    "  * NumPy的MaskedArray"
   ]
  },
  {
   "cell_type": "code",
   "execution_count": null,
   "metadata": {
    "collapsed": true
   },
   "outputs": [],
   "source": [
    "print('用字典生成DataFrame,key为列的名字')\n",
    "data = {'state':['Ohio', 'Ohio', 'Ohio', 'Nevada', 'Nevada'], \n",
    "        'year':[2000, 20001, 2002, 2001, 2002]\n",
    "        'pop':[1.5, 1.7, 3.6, 2.4, 2.9]}\n",
    "print(pd.DataFrame(data))\n",
    "print(pd.DataFrame(data, columns=['year', 'state', 'pop']))# 指定列名"
   ]
  }
 ],
 "metadata": {
  "kernelspec": {
   "display_name": "Python 3",
   "language": "python",
   "name": "python3"
  },
  "language_info": {
   "codemirror_mode": {
    "name": "ipython",
    "version": 3
   },
   "file_extension": ".py",
   "mimetype": "text/x-python",
   "name": "python",
   "nbconvert_exporter": "python",
   "pygments_lexer": "ipython3",
   "version": "3.6.1"
  }
 },
 "nbformat": 4,
 "nbformat_minor": 2
}
