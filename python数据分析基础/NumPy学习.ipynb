{
 "cells": [
  {
   "cell_type": "markdown",
   "metadata": {},
   "source": [
    "# NumPy\n",
    "### 简介\n",
    "* 官网链接：http://www.numpy.org/\n",
    "* NumPy是Python语言的一个扩展程序库。支持高级大量的维度数组与矩阵运算，此外也对数组运算挺大量的数据库。\n",
    "* 作者介绍\n",
    "   * Jim Hugunin(作者) http://www.linkedin.com/in/jimhugunin\n",
    "   * Travis Oliphant（商业推广者） http://wwww.linkedin.com/in/teoliphant\n",
    "\n",
    "### 基本功能\n",
    " * 快速高效的多维数组对象ndarray\n",
    " * 用于数组执行元素级计算以及直接对数组执行数学运算是函数\n",
    " * 用于读写硬盘上基于数组的数据集工具\n",
    " * 线性代数运算、傅里叶变换、以及随机数生成\n",
    " * 用于C、C++、Fortran代码集成到Python的工具\n",
    " * 除了为Python提供快速的数组处理能力，Numpy在数据分析方面还有另外一个主要作用，即作为在算法之间传递数据的容器"
   ]
  },
  {
   "cell_type": "markdown",
   "metadata": {},
   "source": [
    "### 效率对比\n",
    " * 三种数据结构：list/array/numpy.array\n",
    " * 三种方法求和：for/sum/numpy.sum"
   ]
  },
  {
   "cell_type": "code",
   "execution_count": 39,
   "metadata": {
    "collapsed": true
   },
   "outputs": [],
   "source": [
    "import numpy as np\n",
    "import matplotlib.pyplot as plt\n",
    "\n",
    "%matplotlib inline"
   ]
  },
  {
   "cell_type": "markdown",
   "metadata": {},
   "source": [
    "### NumPy的ndarray的创建"
   ]
  },
  {
   "cell_type": "code",
   "execution_count": 19,
   "metadata": {
    "scrolled": true
   },
   "outputs": [
    {
     "name": "stdout",
     "output_type": "stream",
     "text": [
      "[ 6.   7.5  8.   0.   1. ]\n",
      "float64\n"
     ]
    }
   ],
   "source": [
    "data = [6, 7.5, 8, 0 , 1]\n",
    "arr = np.array(data)\n",
    "print(arr)\n",
    "print(arr.dtype)"
   ]
  },
  {
   "cell_type": "code",
   "execution_count": 16,
   "metadata": {},
   "outputs": [
    {
     "name": "stdout",
     "output_type": "stream",
     "text": [
      "[[1 2 3 4]\n",
      " [5 6 7 8]]\n",
      "(2, 4)\n"
     ]
    }
   ],
   "source": [
    "data = [[1, 2, 3, 4],[5, 6, 7, 8]]\n",
    "arr = np.array(data)\n",
    "print(arr)\n",
    "print(arr.shape)"
   ]
  },
  {
   "cell_type": "markdown",
   "metadata": {},
   "source": [
    "### NumPy的ndarray NumPy数据类型\n",
    "* 创建ndarray时指定dtype类型\n",
    "* 使用astype显示转换类型"
   ]
  },
  {
   "cell_type": "code",
   "execution_count": null,
   "metadata": {
    "collapsed": true
   },
   "outputs": [],
   "source": []
  },
  {
   "cell_type": "markdown",
   "metadata": {},
   "source": [
    "### NumPy的ndarray数组和标量之间的运算\n",
    "* 不用编写循环即可对数据执行批量运算\n",
    "* 大小相等的数组之间的任何算术运算都会将运算应用到元素级\n",
    "* 数组与标量的算术运算也会将那个标量值传播到各个元素"
   ]
  },
  {
   "cell_type": "code",
   "execution_count": 24,
   "metadata": {},
   "outputs": [
    {
     "name": "stdout",
     "output_type": "stream",
     "text": [
      "[[  1.   4.   9.]\n",
      " [ 16.  25.  36.]]\n",
      "[[ 0.  0.  0.]\n",
      " [ 0.  0.  0.]]\n",
      "\n",
      "[[ 1.          0.5         0.33333333]\n",
      " [ 0.25        0.2         0.16666667]]\n",
      "[[ 1.          1.41421356  1.73205081]\n",
      " [ 2.          2.23606798  2.44948974]]\n"
     ]
    }
   ],
   "source": [
    "# 对应位置元素进行运算\n",
    "# 数组乘法/减法，对应元素相乘/相减\n",
    "arr = np.array([[1.0, 2.0, 3.0], [4., 5., 6.]])\n",
    "print(arr * arr)\n",
    "print(arr - arr)\n",
    "print()\n",
    "# 标量操作作用在数组的每个元素上\n",
    "arr = np.array([[1., 2., 3.], [4., 5., 6.]])\n",
    "print(1 / arr)\n",
    "print(arr ** 0.5) # 开根号"
   ]
  },
  {
   "cell_type": "markdown",
   "metadata": {},
   "source": [
    "### NumPy的ndarray基本的索引和切片\n",
    "* 索引原理\n",
    "* 切片原理"
   ]
  },
  {
   "cell_type": "code",
   "execution_count": 29,
   "metadata": {
    "scrolled": true
   },
   "outputs": [
    {
     "name": "stdout",
     "output_type": "stream",
     "text": [
      "[7 8 9]\n",
      "3\n",
      "3\n",
      "\n",
      "[[1 2 3]\n",
      " [4 5 6]]\n",
      "[7 8 9]\n",
      "[[[42 42 42]\n",
      "  [42 42 42]]\n",
      "\n",
      " [[ 7  8  9]\n",
      "  [10 11 12]]]\n",
      "[[[ 1  2  3]\n",
      "  [ 4  5  6]]\n",
      "\n",
      " [[ 7  8  9]\n",
      "  [10 11 12]]]\n",
      "\n",
      "使用切片访问和操作数组\n",
      "[2 3 4 5 6]\n",
      "[[1 2 3]\n",
      " [4 5 6]]\n",
      "[[2 3]\n",
      " [5 6]]\n",
      "[[1]\n",
      " [4]\n",
      " [7]]\n",
      "[[1 0 0]\n",
      " [4 0 0]\n",
      " [7 8 9]]\n"
     ]
    }
   ],
   "source": [
    "# 通过索引方位二维数组某一行或某个元素\n",
    "arr = np.array([[1, 2, 3], [4, 5, 6], [7, 8, 9]])\n",
    "print(arr[2])\n",
    "print(arr[0][2]) # 上面两种普通Python也能这样用\n",
    "print(arr[0, 2]) # 普通Python数组不能这样用\n",
    "print()\n",
    "\n",
    "# 对更高维数组的访问和操作\n",
    "arr = np.array([[[1, 2, 3], [4, 5, 6]], [[7, 8, 9], [10, 11, 12]]])\n",
    "print(arr[0]) # 结果是个2维数组\n",
    "print(arr[1, 0]) # 结果是个1维数组\n",
    "old_values = arr[0].copy() # 复制arr[0]的值\n",
    "arr[0] = 42 # 把arr[0]所有元素都设置为同一个值\n",
    "print(arr)\n",
    "arr[0] = old_values # 把原来的数组写回去\n",
    "print(arr)\n",
    "print()\n",
    "\n",
    "print('使用切片访问和操作数组')\n",
    "arr = np.array([1, 2, 3, 4, 5, 6 , 7, 8, 9, 10])\n",
    "print(arr[1:6])\n",
    "arr = np.array([[1, 2, 3], [4, 5, 6], [7, 8, 9]])\n",
    "print(arr[: 2]) #打印1、2行\n",
    "print(arr[: 2, 1:]) #打印第1、2行，第2,、3列\n",
    "print(arr[:, : 1]) #打印所有行的第1列\n",
    "arr[:2, 1:] = 0 #打印第1、2行，第2,、3列赋值为0\n",
    "print(arr)\n"
   ]
  },
  {
   "cell_type": "markdown",
   "metadata": {},
   "source": [
    "### NumPy的ndarray布尔型索引\n",
    "* 布尔型数组的长度必须跟索引的轴长度一致\n",
    "* 可以将布尔型数组跟切片、整数（或整数序列）混合使用"
   ]
  },
  {
   "cell_type": "code",
   "execution_count": null,
   "metadata": {
    "collapsed": true
   },
   "outputs": [],
   "source": []
  },
  {
   "cell_type": "markdown",
   "metadata": {},
   "source": [
    "### NumPy的ndarray花式索引\n",
    "* 花式索引（Fancy indexing）是NumPy术语，它指的是利用整数数组进行索引。\n",
    "* 一次传入多个索引数组会有一点特别，它返回的是一个一维数组，其中的元素对应各个元素元组。"
   ]
  },
  {
   "cell_type": "code",
   "execution_count": null,
   "metadata": {
    "collapsed": true
   },
   "outputs": [],
   "source": []
  },
  {
   "cell_type": "markdown",
   "metadata": {},
   "source": [
    "### NumPy的ndarray数组转置和轴对换\n",
    "* 一维/二维数组转置\n",
    "* 高维数组轴对换"
   ]
  },
  {
   "cell_type": "code",
   "execution_count": 38,
   "metadata": {},
   "outputs": [
    {
     "name": "stdout",
     "output_type": "stream",
     "text": [
      "转置矩阵\n",
      "[[ 0  1  2  3  4]\n",
      " [ 5  6  7  8  9]\n",
      " [10 11 12 13 14]]\n",
      "[[ 0  5 10]\n",
      " [ 1  6 11]\n",
      " [ 2  7 12]\n",
      " [ 3  8 13]\n",
      " [ 4  9 14]]\n",
      "\n",
      "转置矩阵做点积\n",
      "[[ 7.72718934  4.66356798  3.44517468]\n",
      " [ 4.66356798  3.79931214  1.07704525]\n",
      " [ 3.44517468  1.07704525  4.79874336]]\n",
      "\n",
      "高维矩阵转换\n",
      "[[[ 0  1  2  3]\n",
      "  [ 4  5  6  7]]\n",
      "\n",
      " [[ 8  9 10 11]\n",
      "  [12 13 14 15]]]\n",
      "[[[ 0  1  2  3]\n",
      "  [ 8  9 10 11]]\n",
      "\n",
      " [[ 4  5  6  7]\n",
      "  [12 13 14 15]]]\n",
      "[[[ 0  4]\n",
      "  [ 1  5]\n",
      "  [ 2  6]\n",
      "  [ 3  7]]\n",
      "\n",
      " [[ 8 12]\n",
      "  [ 9 13]\n",
      "  [10 14]\n",
      "  [11 15]]]\n"
     ]
    }
   ],
   "source": [
    "print('转置矩阵')\n",
    "arr = np.arange(15).reshape((3, 5))\n",
    "print(arr) # 3行5列的矩阵\n",
    "print(arr.T) # 转置成5行3列的矩阵\n",
    "print()\n",
    "print('转置矩阵做点积')\n",
    "arr = np.random.randn(6, 3)\n",
    "print(np.dot(arr.T, arr))\n",
    "print()\n",
    "print('高维矩阵转换')\n",
    "arr = np.arange(16).reshape((2, 2, 4))\n",
    "print(arr)\n",
    "print(arr.transpose((1, 0, 2)))\n",
    "print(arr.swapaxes(1, 2))"
   ]
  },
  {
   "cell_type": "markdown",
   "metadata": {},
   "source": [
    "### NumPy的ndarray快速的元素级数组函数\n",
    "* 一元函数\n",
    "  * abs,fabs：计算整数，浮点数或复数的绝对值，对于非复数值，可以使用更快的fabs。\n",
    "  * sqrt\n",
    "  * sqare\n",
    "  * exp\n",
    "  * log,log10,log2,log1p\n",
    "  * sign\n",
    "  * ceil\n",
    "  * floor\n",
    "  * rint\n",
    "  * modf\n",
    "  * isnan\n",
    "  * isfinite,isinf\n",
    "  * cos,cosh,sin,sinh,tan,tanh：普通型或双曲型三角函数\n",
    "  * arccos,arccosh,arcsin,arcsinh,arctan,arctanh：反三角函数\n",
    "  * logical_not\n",
    "* 二元函数\n",
    "  * add\n",
    "  * subtract\n",
    "  * multiply\n",
    "  * divide,floor_divide\n",
    "  * power\n",
    "  * maximum,fmax\n",
    "  * minimum,fmin\n",
    "  * mod\n",
    "  * copysign\n",
    "  * greater,greater_equal,less,less_equal,equal,not_equal\n",
    "  * logical_and,logical_or,logical_xor"
   ]
  },
  {
   "cell_type": "markdown",
   "metadata": {},
   "source": [
    "### 利用数组进行数据处理 \n",
    "#### 简介\n",
    "* NumPy数组使你可以将许多数据处理任务表述为简洁的数组表达式（否则需要编写循环）。用数组表达式代替循环的做法，通常被称为矢量化。\n",
    "* 矢量化数组运算要比等价的纯Pyhton方式快上一两个数量级"
   ]
  },
  {
   "cell_type": "code",
   "execution_count": null,
   "metadata": {
    "collapsed": true
   },
   "outputs": [],
   "source": []
  },
  {
   "cell_type": "markdown",
   "metadata": {},
   "source": [
    "#### 将条件逻辑表述为数组运算\n",
    "* 列表推导的局限性\n",
    "    * 纯Python代码，速度不够快\n",
    "    * 无法应用于高维数组\n",
    "* np.where和where的嵌套"
   ]
  },
  {
   "cell_type": "code",
   "execution_count": null,
   "metadata": {
    "collapsed": true
   },
   "outputs": [],
   "source": []
  },
  {
   "cell_type": "markdown",
   "metadata": {},
   "source": [
    "#### 数学和统计方法\n",
    "* 数学和统计方法\n",
    "  * sum  对数组中全部或某轴向的元素求和。零长度的数组sum为0\n",
    "  * mean  算术平均数，零长度的数组mean为NaN\n",
    "  * std,var  分别为标准差和方差，自由度可调（默认为n）\n",
    "  * min,max  最小值和最大值\n",
    "  * argmin,argmax  分别为最小值索引和最大值索引\n",
    "  * cumsum  所有元素的累计和\n",
    "  * cumprod  所有元素的累计积\n",
    "* 标准差和方差的解释\n",
    "* cumsum和cumprod的解释\n",
    "* 带axis参数的统计函数"
   ]
  },
  {
   "cell_type": "code",
   "execution_count": null,
   "metadata": {
    "collapsed": true
   },
   "outputs": [],
   "source": []
  },
  {
   "cell_type": "markdown",
   "metadata": {},
   "source": [
    "#### 用于布尔型数组的方法\n",
    "* sum对True值计数\n",
    "* any和all测试布尔型数组，对于非布尔型数组，所有非0元素将会被当做True"
   ]
  },
  {
   "cell_type": "code",
   "execution_count": 42,
   "metadata": {},
   "outputs": [
    {
     "name": "stdout",
     "output_type": "stream",
     "text": [
      "对正数求和\n",
      "49\n",
      "\n",
      "对数组逻辑操作\n",
      "True\n",
      "False\n"
     ]
    }
   ],
   "source": [
    "print('对正数求和')\n",
    "arr = np.random.randn(100)\n",
    "print((arr > 0).sum())\n",
    "print()\n",
    "print('对数组逻辑操作')\n",
    "bools = np.array([False, False, True, True])\n",
    "print(bools.any())\n",
    "print(bools.all())"
   ]
  },
  {
   "cell_type": "markdown",
   "metadata": {},
   "source": [
    "#### 去重以及其它集合操作\n",
    "* 去重以及其它集合操作\n",
    "  * unique(x)\n",
    "  * intersect1d(x, y)\n",
    "  * union1d(x, y)\n",
    "  * in1d(x,y )\n",
    "  * setdiff1d(x, y)\n",
    "  * setxor(x, y)"
   ]
  },
  {
   "cell_type": "code",
   "execution_count": null,
   "metadata": {
    "collapsed": true
   },
   "outputs": [],
   "source": []
  },
  {
   "cell_type": "markdown",
   "metadata": {},
   "source": [
    "### 数组文件的输入输出\n",
    "* 将数组以二进制格式保存到磁盘\n",
    "* 存取文本文件"
   ]
  },
  {
   "cell_type": "code",
   "execution_count": null,
   "metadata": {
    "collapsed": true
   },
   "outputs": [],
   "source": []
  },
  {
   "cell_type": "markdown",
   "metadata": {},
   "source": [
    "### 线性代数\n",
    "* 常用的numpy.linalg函数\n",
    "  * diag\n",
    "  * dot\n",
    "  * trace\n",
    "  * det\n",
    "  * eig\n",
    "  * inv\n",
    "  * pinv\n",
    "  * qr\n",
    "  * svd\n",
    "  * solve\n",
    "  * lstsq"
   ]
  },
  {
   "cell_type": "code",
   "execution_count": null,
   "metadata": {
    "collapsed": true
   },
   "outputs": [],
   "source": []
  },
  {
   "cell_type": "markdown",
   "metadata": {},
   "source": [
    "### 随机数生成\n",
    "* 部分numpy.random函数\n",
    "  * seed \n",
    "  * permutation\n",
    "  * shuffle\n",
    "  * rand\n",
    "  * randint\n",
    "  * randn\n",
    "  * binomial\n",
    "  * "
   ]
  },
  {
   "cell_type": "code",
   "execution_count": null,
   "metadata": {
    "collapsed": true
   },
   "outputs": [],
   "source": []
  },
  {
   "cell_type": "markdown",
   "metadata": {},
   "source": [
    "### 高级应用 \n",
    "#### 数组重塑\n",
    "* reshape重塑数组\n",
    "* -1自动推导维度大小"
   ]
  },
  {
   "cell_type": "code",
   "execution_count": null,
   "metadata": {
    "collapsed": true
   },
   "outputs": [],
   "source": []
  },
  {
   "cell_type": "markdown",
   "metadata": {},
   "source": [
    "#### 数组的合并和拆分\n",
    "* 数组连接函数\n",
    "\n",
    "  * concatenate\n",
    "  * vstack,row_stack\n",
    "  * hstack\n",
    "  * column_stack\n",
    "  * dstack\n",
    "  * split\n",
    "  * hsplit,vsplit,dsplit\n",
    "* _r对象\n",
    "* _c对象"
   ]
  },
  {
   "cell_type": "code",
   "execution_count": null,
   "metadata": {
    "collapsed": true
   },
   "outputs": [],
   "source": []
  },
  {
   "cell_type": "markdown",
   "metadata": {},
   "source": [
    "#### 元素的重复操作\n",
    "* _tile\n",
    "* _repeat"
   ]
  },
  {
   "cell_type": "code",
   "execution_count": null,
   "metadata": {
    "collapsed": true
   },
   "outputs": [],
   "source": []
  },
  {
   "cell_type": "markdown",
   "metadata": {},
   "source": [
    "#### 花式索引的等价函数\n",
    "* take\n",
    "* put\n",
    "\n",
    "##### 例题分析 距离矩阵计算\n",
    "给定m * n阶矩阵X，满足X=[x1, x2, …,xn],这里第i行向量是m维向量。<br>\n",
    "求n * n矩阵，使得Dij = ||xi - xj||^2"
   ]
  },
  {
   "cell_type": "code",
   "execution_count": null,
   "metadata": {
    "collapsed": true
   },
   "outputs": [],
   "source": []
  }
 ],
 "metadata": {
  "kernelspec": {
   "display_name": "Python 3",
   "language": "python",
   "name": "python3"
  },
  "language_info": {
   "codemirror_mode": {
    "name": "ipython",
    "version": 3
   },
   "file_extension": ".py",
   "mimetype": "text/x-python",
   "name": "python",
   "nbconvert_exporter": "python",
   "pygments_lexer": "ipython3",
   "version": "3.6.2"
  }
 },
 "nbformat": 4,
 "nbformat_minor": 2
}
