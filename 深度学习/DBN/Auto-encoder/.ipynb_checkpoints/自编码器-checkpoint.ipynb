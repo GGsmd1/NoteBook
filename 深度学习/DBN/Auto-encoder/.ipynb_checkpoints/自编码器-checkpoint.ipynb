{
 "cells": [
  {
   "cell_type": "markdown",
   "metadata": {},
   "source": [
    "# 自编码器\n",
    "#### https://www.zhihu.com/question/41490383"
   ]
  },
  {
   "cell_type": "markdown",
   "metadata": {},
   "source": [
    "## 一、自编码器简介\n",
    "&emsp;&emsp;先不谈神经网络、深度学习、仅是自编器的的话，其原理很简单。自编码器可以理解为一个试图去还原始输入的系统。如下图所示："
   ]
  },
  {
   "cell_type": "markdown",
   "metadata": {},
   "source": [
    "<img src=\"f5ccfacef17d59e106b012af8676d3b5_hd.jpg\" width = \"60%\"/>"
   ]
  },
  {
   "cell_type": "markdown",
   "metadata": {},
   "source": [
    "&emsp;&emsp;图中，虚线蓝色框内就是一个自编码器模型，它由编码器（Encoder）和解码器（Decoder）两部分组成，本质上都是对输入信号做某种变换。编码器将输入信号$x$变换成编码信号$y$，然后解码器将编码$y$转化成输出信息$\\widetilde{x}$。即\n",
    "$$y = f(x)\\\\ \\widetilde{x} = g(y) = g(f(x))$$"
   ]
  },
  {
   "cell_type": "markdown",
   "metadata": {},
   "source": [
    "&emsp;&emsp;自编码器的目的是，让输出$\\widetilde{x}$尽可能复现输入$x$，即“Tries to copy its input to its output”。但是如果一个自编码器只是简单地学会$g(f(x)) = x$，也就是恒有$x = \\widetilde{x}$，那么这个编码器并没有什么特别的用处（并无卵用）。相反，我们不应该将自编码器设计成输入到输出完全相等。这通常需要向自编码器加一些约束，是它只能近似地复制，并只能复制与训练数据相似的输入。这些约束强制模型考虑输入数据的哪些部分需要被优秀复制，因此它往往能学习到数据的有用特性。"
   ]
  },
  {
   "cell_type": "markdown",
   "metadata": {},
   "source": [
    "&emsp;&emsp;对于自编码器，我们往往并不关心输出是什么（反正只是复现输入）,我们真正关心的是中间层的编码，或者说是从输入到编码的映射。可以这么想，在我们强迫编码$y$和输入$x$不同的情况下，系统还能够去复原原始信号$x$,那么说明编码$y$已经承载了原始数据的所有信息，但以一种不同的形式 —— 这就是特征提取，而且是自动学出来的。实际上，自动学习原始特征表达也是神经网络和深度学习的核心目的之一。"
   ]
  },
  {
   "attachments": {},
   "cell_type": "markdown",
   "metadata": {},
   "source": [
    "<img src='AE.jpg' />"
   ]
  },
  {
   "cell_type": "markdown",
   "metadata": {},
   "source": [
    "自动编码器是一种数据的压缩算法，其中数据的压缩和解压缩函数是数据相关的、有损的、从样本中自动学习的。在大部分提到自动编码器的场合，压缩和解压缩的函数是通过神经网络实现的。\n",
    "\n",
    "1）自动编码器是数据相关的（data-specific 或 data-dependent），这意味着自动编码器只能压缩那些与训练数据类似的数据。比如，使用人脸训练出来的自动编码器在压缩别的图片，比如树木时性能很差，因为它学习到的特征是与人脸相关的。\n",
    "\n",
    "2）自动编码器是有损的，意思是解压缩的输出与原来的输入相比是退化的，MP3，JPEG等压缩算法也是如此。这与无损压缩算法不同。\n",
    "\n",
    "3）自动编码器是从数据样本中自动学习的，这意味着很容易对指定类的输入训练出一种特定的编码器，而不需要完成任何新工作。\n",
    "\n",
    "搭建一个自动编码器需要完成下面三样工作：搭建编码器，搭建解码器，设定一个损失函数，用以衡量由于压缩而损失掉的信息。编码器和解码器一般都是参数化的方程，并关于损失函数可导，典型情况是使用神经网络。编码器和解码器的参数可以通过最小化损失函数而优化，例如SGD。\n",
    "\n",
    "自编码器是一个自监督的算法，并不是一个无监督算法。自监督学习是监督学习的一个实例，其标签产生自输入数据。要获得一个自监督的模型，你需要一个靠谱的目标跟一个损失函数，仅仅把目标设定为重构输入可能不是正确的选项。基本上，要求模型在像素级上精确重构输入不是机器学习的兴趣所在，学习到高级的抽象特征才是。事实上，当主要任务是分类、定位之类的任务时，那些对这类任务而言的最好的特征基本上都是重构输入时的最差的那种特征。\n",
    "\n",
    "目前自编码器的应用主要有两个方面，第一是数据去噪，第二是为进行可视化而降维。配合适当的维度和稀疏约束，自编码器可以学习到比PCA等技术更有意思的数据投影。\n",
    "\n",
    "对于2D的数据可视化，t-SNE（读作tee-snee）或许是目前最好的算法，但通常还是需要原数据的维度相对低一些。所以，可视化高维数据的一个好办法是首先使用自编码器将维度降低到较低的水平（如32维），然后再使用t-SNE将其投影在2D平面上。"
   ]
  },
  {
   "cell_type": "markdown",
   "metadata": {
    "collapsed": true
   },
   "source": [
    "## 二、几种编码器\n",
    "自编码器（autoencoder）是神经网络的一种，经过训练后能尝试将输入复制到输出。自编码器（autoencoder）内部有一个隐藏层 $h$，可以产生编码（code）表示输入。该网络可以看作由两部分组成：一个由函数 $h = f(x)$ 表示的编码器和一个生成重构的解码器 $r = g(h)$。如果一个自编码器只是简单地学会将处处设置为 $g(f(x)) = x$，那么这个自编码器就没什么特别的用处。相反，我们不应该将自编码器设计成输入到输出完全相等。这通常需要向自编码器强加一些约束，使它只能近似地复制，并只能复制与训练数据相似的输入。这些约束强制模型考虑输入数据的哪些部分需要被优先复制，因此它往往能学习到数据的有用特性。"
   ]
  },
  {
   "cell_type": "markdown",
   "metadata": {},
   "source": [
    "### 1. 欠完备自编码器\n",
    "从自编码器获得有用特征的一种方法是限制 $h$ 的维度比 $x$ 小，这种编码维度小于输入维度的自编码器称为欠完备（undercomplete）自编码器。学习欠完备的表示将强制自编码器捕捉训练数据中最显著的特征。\n",
    "\n",
    "学习过程可以简单地描述为最小化一个损失函数 $L(x,g(f(x)))$，其中 $L$ 是一个损失函数，惩罚$g(f(x))$ 与 $x$ 的差异，如均方误差。当解码器是线性的且 $L$ 是均方误差，欠完备的自编码器会学习出与 PCA 相同的生成子空间。这种情况下，自编码器在训练来执行复制任务的同时学到了训据的主元子空间。如果编码器和解码器被赋予过大的容量，自编码器会执行复制任务而捕捉不到任何有关数据分布的有用信息。"
   ]
  },
  {
   "cell_type": "markdown",
   "metadata": {},
   "source": [
    "### 2.  正则自编码器\n",
    "正则自编码器使用的损失函数可以鼓励模型学习其他特性（除了将输入复制到输出），而不必限制使用浅层的编码器和解码器以及小的编码维数来限制模型的容量。这些特性包括稀疏表示、表示的小导数、以及对噪声或输入缺失的鲁棒性。即使模型容量大到足以学习一个无意义的恒等函数，非线性且过完备的正则自编码器仍然能够从数据中学到一些关于数据分布的有用信息。"
   ]
  },
  {
   "cell_type": "markdown",
   "metadata": {},
   "source": [
    "#### 2.1 稀疏自编码器\n",
    "稀疏自编码器简单地在训练时结合编码层的稀疏惩罚 $Ω(h)$ 和重构误差：$L(x,g(f(x))) + Ω(h)$，其中 $g(h)$ 是解码器的输出，通常 $h$ 是编码器的输出，即 $h = f(x)$。稀疏自编码器一般用来学习特征，以便用于像分类这样的任务。稀疏正则化的自编码器必须反映训练数据集的独特统计特征，而不是简单地充当恒等函数。以这种方式训练，执行附带稀疏惩罚的复制任务可以得到能学习有用特征的模型。"
   ]
  },
  {
   "cell_type": "markdown",
   "metadata": {},
   "source": [
    "#### 2.2 去噪自编码器\n",
    "去噪自编码器（denoisingautoencoder, DAE）最小化 $L(x,g(f(˜ x)))$，其中 $˜ x$ 是被某种噪声损坏的 $x$ 的副本。因此去噪自编码器必须撤消这些损坏，而不是简单地复制输入。"
   ]
  },
  {
   "cell_type": "markdown",
   "metadata": {},
   "source": [
    "## 三、使用Keras建立简单的自编码器"
   ]
  },
  {
   "cell_type": "markdown",
   "metadata": {},
   "source": [
    "### 1. 单隐含层自编码器\n",
    "建立一个全连接的编码器和解码器。也可以单独使用编码器和解码器，在此使用Keras的函数式模型API即Model可以灵活地构建自编码器。"
   ]
  },
  {
   "cell_type": "code",
   "execution_count": 1,
   "metadata": {},
   "outputs": [
    {
     "name": "stderr",
     "output_type": "stream",
     "text": [
      "Using TensorFlow backend.\n"
     ]
    }
   ],
   "source": [
    "# 加入必要的库\n",
    "from keras.layers import Input, Dense\n",
    "from keras.models import Model\n",
    "from keras.datasets import mnist\n",
    "import numpy as np\n",
    "import matplotlib.pyplot as plt\n",
    "%matplotlib inline"
   ]
  },
  {
   "cell_type": "code",
   "execution_count": 2,
   "metadata": {},
   "outputs": [],
   "source": [
    "# 加载数据\n",
    "(x_train, _), (x_test, _) = mnist.load_data()"
   ]
  },
  {
   "cell_type": "code",
   "execution_count": 3,
   "metadata": {},
   "outputs": [
    {
     "data": {
      "text/plain": [
       "((60000, 784), (10000, 784))"
      ]
     },
     "execution_count": 3,
     "metadata": {},
     "output_type": "execute_result"
    }
   ],
   "source": [
    "# 数据规范化\n",
    "x_train = x_train.astype('float32') / 255.\n",
    "x_test = x_test.astype('float32') / 255.\n",
    "# x_train shape(60000, 28, 28) reshpe(60000, 784)\n",
    "# x_test shape(10000, 28, 28) reshape (10000, 784)\n",
    "# np.prod([28, 28]),元素逐个相乘\n",
    "x_train = x_train.reshape(len(x_train), np.prod(x_train.shape[1:]))\n",
    "x_test = x_test.reshape(len(x_test), np.prod(x_test.shape[1:]))\n",
    "\n",
    "x_train.shape, x_test.shape"
   ]
  },
  {
   "cell_type": "code",
   "execution_count": 8,
   "metadata": {},
   "outputs": [
    {
     "name": "stdout",
     "output_type": "stream",
     "text": [
      "Train on 60000 samples, validate on 10000 samples\n",
      "Epoch 1/50\n",
      "60000/60000 [==============================] - 9s - loss: 0.4754 - val_loss: 0.2868\n",
      "Epoch 2/50\n",
      "60000/60000 [==============================] - 9s - loss: 0.2787 - val_loss: 0.2725\n",
      "Epoch 3/50\n",
      "60000/60000 [==============================] - 10s - loss: 0.2695 - val_loss: 0.2648\n",
      "Epoch 4/50\n",
      "60000/60000 [==============================] - 9s - loss: 0.2607 - val_loss: 0.2542\n",
      "Epoch 5/50\n",
      "60000/60000 [==============================] - 9s - loss: 0.2486 - val_loss: 0.2408\n",
      "Epoch 6/50\n",
      "60000/60000 [==============================] - 10s - loss: 0.2354 - val_loss: 0.2280\n",
      "Epoch 7/50\n",
      "60000/60000 [==============================] - 9s - loss: 0.2239 - val_loss: 0.2175\n",
      "Epoch 8/50\n",
      "60000/60000 [==============================] - 9s - loss: 0.2147 - val_loss: 0.2092\n",
      "Epoch 9/50\n",
      "60000/60000 [==============================] - 9s - loss: 0.2073 - val_loss: 0.2027\n",
      "Epoch 10/50\n",
      "60000/60000 [==============================] - 10s - loss: 0.2013 - val_loss: 0.1971\n",
      "Epoch 11/50\n",
      "60000/60000 [==============================] - 9s - loss: 0.1961 - val_loss: 0.1923\n",
      "Epoch 12/50\n",
      "60000/60000 [==============================] - 9s - loss: 0.1916 - val_loss: 0.1880\n",
      "Epoch 13/50\n",
      "60000/60000 [==============================] - 9s - loss: 0.1875 - val_loss: 0.1841\n",
      "Epoch 14/50\n",
      "60000/60000 [==============================] - 10s - loss: 0.1838 - val_loss: 0.1806\n",
      "Epoch 15/50\n",
      "60000/60000 [==============================] - 9s - loss: 0.1804 - val_loss: 0.1774\n",
      "Epoch 16/50\n",
      "60000/60000 [==============================] - 11s - loss: 0.1773 - val_loss: 0.1744\n",
      "Epoch 17/50\n",
      "60000/60000 [==============================] - 11s - loss: 0.1744 - val_loss: 0.1716\n",
      "Epoch 18/50\n",
      "60000/60000 [==============================] - 11s - loss: 0.1717 - val_loss: 0.1689\n",
      "Epoch 19/50\n",
      "60000/60000 [==============================] - 9s - loss: 0.1692 - val_loss: 0.1665\n",
      "Epoch 20/50\n",
      "60000/60000 [==============================] - 9s - loss: 0.1668 - val_loss: 0.1642\n",
      "Epoch 21/50\n",
      "60000/60000 [==============================] - 10s - loss: 0.1645 - val_loss: 0.1620\n",
      "Epoch 22/50\n",
      "60000/60000 [==============================] - 9s - loss: 0.1624 - val_loss: 0.1599\n",
      "Epoch 23/50\n",
      "60000/60000 [==============================] - 10s - loss: 0.1603 - val_loss: 0.1579\n",
      "Epoch 24/50\n",
      "60000/60000 [==============================] - 9s - loss: 0.1584 - val_loss: 0.1560\n",
      "Epoch 25/50\n",
      "60000/60000 [==============================] - 9s - loss: 0.1566 - val_loss: 0.1542\n",
      "Epoch 26/50\n",
      "60000/60000 [==============================] - 9s - loss: 0.1548 - val_loss: 0.1525\n",
      "Epoch 27/50\n",
      "60000/60000 [==============================] - 9s - loss: 0.1531 - val_loss: 0.1509\n",
      "Epoch 28/50\n",
      "60000/60000 [==============================] - 9s - loss: 0.1515 - val_loss: 0.1493\n",
      "Epoch 29/50\n",
      "60000/60000 [==============================] - 10s - loss: 0.1499 - val_loss: 0.1477\n",
      "Epoch 30/50\n",
      "60000/60000 [==============================] - 10s - loss: 0.1484 - val_loss: 0.1463\n",
      "Epoch 31/50\n",
      "60000/60000 [==============================] - 10s - loss: 0.1470 - val_loss: 0.1449\n",
      "Epoch 32/50\n",
      "60000/60000 [==============================] - 10s - loss: 0.1456 - val_loss: 0.1435\n",
      "Epoch 33/50\n",
      "60000/60000 [==============================] - 9s - loss: 0.1442 - val_loss: 0.1421\n",
      "Epoch 34/50\n",
      "60000/60000 [==============================] - 9s - loss: 0.1429 - val_loss: 0.1408\n",
      "Epoch 35/50\n",
      "60000/60000 [==============================] - 9s - loss: 0.1416 - val_loss: 0.1395\n",
      "Epoch 36/50\n",
      "60000/60000 [==============================] - 9s - loss: 0.1403 - val_loss: 0.1382\n",
      "Epoch 37/50\n",
      "60000/60000 [==============================] - 9s - loss: 0.1391 - val_loss: 0.1369\n",
      "Epoch 38/50\n",
      "60000/60000 [==============================] - 9s - loss: 0.1379 - val_loss: 0.1358\n",
      "Epoch 39/50\n",
      "60000/60000 [==============================] - 9s - loss: 0.1367 - val_loss: 0.1346\n",
      "Epoch 40/50\n",
      "60000/60000 [==============================] - 9s - loss: 0.1355 - val_loss: 0.1335\n",
      "Epoch 41/50\n",
      "60000/60000 [==============================] - 9s - loss: 0.1344 - val_loss: 0.1324\n",
      "Epoch 42/50\n",
      "60000/60000 [==============================] - 9s - loss: 0.1333 - val_loss: 0.1313\n",
      "Epoch 43/50\n",
      "60000/60000 [==============================] - 10s - loss: 0.1322 - val_loss: 0.1302\n",
      "Epoch 44/50\n",
      "60000/60000 [==============================] - 10s - loss: 0.1312 - val_loss: 0.1292\n",
      "Epoch 45/50\n",
      "60000/60000 [==============================] - 9s - loss: 0.1302 - val_loss: 0.1282\n",
      "Epoch 46/50\n",
      "60000/60000 [==============================] - 9s - loss: 0.1292 - val_loss: 0.1272\n",
      "Epoch 47/50\n",
      "60000/60000 [==============================] - 9s - loss: 0.1282 - val_loss: 0.1262\n",
      "Epoch 48/50\n",
      "60000/60000 [==============================] - 9s - loss: 0.1273 - val_loss: 0.1253\n",
      "Epoch 49/50\n",
      "60000/60000 [==============================] - 9s - loss: 0.1264 - val_loss: 0.1244\n",
      "Epoch 50/50\n",
      "60000/60000 [==============================] - 9s - loss: 0.1254 - val_loss: 0.1235\n"
     ]
    }
   ],
   "source": [
    "encoding_dim = 32\n",
    "input_img = Input(shape=(784, ))\n",
    "\n",
    "encoded = Dense(encoding_dim, activation='relu')(input_img)\n",
    "decoded = Dense(784, activation='sigmoid')(encoded)\n",
    "\n",
    "encoder = Model(inputs=input_img, outputs=encoded)\n",
    "autoencoder = Model(inputs=input_img, outputs=decoded)\n",
    "\n",
    "encoder_input = Input(shape=(encoding_dim, ))\n",
    "decoder_layer = autoencoder.layers[-1]\n",
    "decoder = Model(inputs=encoder_input, outputs=decoder_layer(encoder_input))\n",
    "\n",
    "# \n",
    "autoencoder.compile(optimizer='adadelta', loss='binary_crossentropy')\n",
    "# 训练数据\n",
    "autoencoder.fit(x_train, x_train, epochs=50, batch_size=256, shuffle=True, validation_data=(x_test, x_test))\n",
    "\n",
    "# 编码\n",
    "encoded_imgs = encoder.predict(x_test)\n",
    "# 解码\n",
    "decoded_imgs = decoder.predict(encoded_imgs)"
   ]
  },
  {
   "cell_type": "code",
   "execution_count": 7,
   "metadata": {},
   "outputs": [
    {
     "data": {
      "image/png": "[encoded data removed]",
      "text/plain": [
       "<matplotlib.figure.Figure at 0x2b14b103048>"
      ]
     },
     "metadata": {},
     "output_type": "display_data"
    }
   ],
   "source": [
    "# 将十个样本图片可视化\n",
    "n = 10\n",
    "plt.figure(figsize=(20, 4))\n",
    "for i in range(n):  \n",
    "    ax = plt.subplot(2, n, i + 1)  \n",
    "    plt.imshow(x_test[i].reshape(28, 28))  \n",
    "    plt.gray()  \n",
    "    ax.get_xaxis().set_visible(False)  \n",
    "    ax.get_yaxis().set_visible(False)  \n",
    "  \n",
    "    ax = plt.subplot(2, n, i + 1 + n)  \n",
    "    plt.imshow(decoded_imgs[i].reshape(28, 28))  \n",
    "    plt.gray()  \n",
    "    ax.get_xaxis().set_visible(False)  \n",
    "    ax.get_yaxis().set_visible(False)  \n",
    "plt.show() "
   ]
  },
  {
   "cell_type": "markdown",
   "metadata": {},
   "source": [
    "### 2. 稀疏自编码器、深层自编码器"
   ]
  },
  {
   "cell_type": "markdown",
   "metadata": {},
   "source": [
    "为码字加上稀疏性约束。如果我们对隐层单元施加稀疏性约束的话，会得到更为紧凑的表达，只有一小部分神经元会被激活。在Keras中，我们可以通过添加一个activity_regularizer达到对某层激活值进行约束的目的。\n",
    "\n",
    "encoded = Dense(encoding_dim, activation='relu',activity_regularizer=regularizers.activity_l1(10e-5))(input_img)\n",
    "\n",
    "把多个自编码器叠起来即加深自编码器的深度，50个epoch后，损失val_loss:0.0926，比1个隐含层的自编码器要好一些。"
   ]
  },
  {
   "cell_type": "code",
   "execution_count": 9,
   "metadata": {},
   "outputs": [
    {
     "name": "stdout",
     "output_type": "stream",
     "text": [
      "Train on 60000 samples, validate on 10000 samples\n",
      "Epoch 1/50\n",
      "60000/60000 [==============================] - 9s - loss: 0.3453 - val_loss: 0.2650\n",
      "Epoch 2/50\n",
      "60000/60000 [==============================] - 8s - loss: 0.2539 - val_loss: 0.2390\n",
      "Epoch 3/50\n",
      "60000/60000 [==============================] - 9s - loss: 0.2271 - val_loss: 0.2132\n",
      "Epoch 4/50\n",
      "60000/60000 [==============================] - 9s - loss: 0.2052 - val_loss: 0.1952\n",
      "Epoch 5/50\n",
      "60000/60000 [==============================] - 8s - loss: 0.1900 - val_loss: 0.1823\n",
      "Epoch 6/50\n",
      "60000/60000 [==============================] - 9s - loss: 0.1790 - val_loss: 0.1730\n",
      "Epoch 7/50\n",
      "60000/60000 [==============================] - 9s - loss: 0.1707 - val_loss: 0.1654\n",
      "Epoch 8/50\n",
      "60000/60000 [==============================] - 9s - loss: 0.1632 - val_loss: 0.1583\n",
      "Epoch 9/50\n",
      "60000/60000 [==============================] - 9s - loss: 0.1560 - val_loss: 0.1510\n",
      "Epoch 10/50\n",
      "60000/60000 [==============================] - 9s - loss: 0.1493 - val_loss: 0.1448\n",
      "Epoch 11/50\n",
      "60000/60000 [==============================] - 8s - loss: 0.1433 - val_loss: 0.1391\n",
      "Epoch 12/50\n",
      "60000/60000 [==============================] - 9s - loss: 0.1381 - val_loss: 0.1342\n",
      "Epoch 13/50\n",
      "60000/60000 [==============================] - 10s - loss: 0.1334 - val_loss: 0.1297\n",
      "Epoch 14/50\n",
      "60000/60000 [==============================] - 10s - loss: 0.1294 - val_loss: 0.1259\n",
      "Epoch 15/50\n",
      "60000/60000 [==============================] - 10s - loss: 0.1259 - val_loss: 0.1227\n",
      "Epoch 16/50\n",
      "60000/60000 [==============================] - 10s - loss: 0.1231 - val_loss: 0.1202\n",
      "Epoch 17/50\n",
      "60000/60000 [==============================] - 10s - loss: 0.1207 - val_loss: 0.1179\n",
      "Epoch 18/50\n",
      "60000/60000 [==============================] - 10s - loss: 0.1187 - val_loss: 0.1158\n",
      "Epoch 19/50\n",
      "60000/60000 [==============================] - 9s - loss: 0.1168 - val_loss: 0.1141\n",
      "Epoch 20/50\n",
      "60000/60000 [==============================] - 10s - loss: 0.1151 - val_loss: 0.1126\n",
      "Epoch 21/50\n",
      "60000/60000 [==============================] - 10s - loss: 0.1137 - val_loss: 0.1110\n",
      "Epoch 22/50\n",
      "60000/60000 [==============================] - 10s - loss: 0.1122 - val_loss: 0.1102\n",
      "Epoch 23/50\n",
      "60000/60000 [==============================] - 9s - loss: 0.1108 - val_loss: 0.1083s\n",
      "Epoch 24/50\n",
      "60000/60000 [==============================] - 10s - loss: 0.1096 - val_loss: 0.1073\n",
      "Epoch 25/50\n",
      "60000/60000 [==============================] - 9s - loss: 0.1083 - val_loss: 0.1072\n",
      "Epoch 26/50\n",
      "60000/60000 [==============================] - 9s - loss: 0.1073 - val_loss: 0.1054\n",
      "Epoch 27/50\n",
      "60000/60000 [==============================] - 9s - loss: 0.1063 - val_loss: 0.1040\n",
      "Epoch 28/50\n",
      "60000/60000 [==============================] - 9s - loss: 0.1053 - val_loss: 0.1037\n",
      "Epoch 29/50\n",
      "60000/60000 [==============================] - 9s - loss: 0.1043 - val_loss: 0.1022\n",
      "Epoch 30/50\n",
      "60000/60000 [==============================] - 9s - loss: 0.1035 - val_loss: 0.1013\n",
      "Epoch 31/50\n",
      "60000/60000 [==============================] - 10s - loss: 0.1027 - val_loss: 0.1005\n",
      "Epoch 32/50\n",
      "60000/60000 [==============================] - 9s - loss: 0.1018 - val_loss: 0.1001\n",
      "Epoch 33/50\n",
      "60000/60000 [==============================] - 9s - loss: 0.1012 - val_loss: 0.0994\n",
      "Epoch 34/50\n",
      "60000/60000 [==============================] - 9s - loss: 0.1006 - val_loss: 0.1000\n",
      "Epoch 35/50\n",
      "60000/60000 [==============================] - 9s - loss: 0.0999 - val_loss: 0.0981\n",
      "Epoch 36/50\n",
      "60000/60000 [==============================] - 9s - loss: 0.0993 - val_loss: 0.0982\n",
      "Epoch 37/50\n",
      "60000/60000 [==============================] - 9s - loss: 0.0988 - val_loss: 0.0969\n",
      "Epoch 38/50\n",
      "60000/60000 [==============================] - 9s - loss: 0.0982 - val_loss: 0.0964\n",
      "Epoch 39/50\n",
      "60000/60000 [==============================] - 9s - loss: 0.0976 - val_loss: 0.0969\n",
      "Epoch 40/50\n",
      "60000/60000 [==============================] - 9s - loss: 0.0970 - val_loss: 0.0956\n",
      "Epoch 41/50\n",
      "60000/60000 [==============================] - 9s - loss: 0.0966 - val_loss: 0.0951\n",
      "Epoch 42/50\n",
      "60000/60000 [==============================] - 9s - loss: 0.0961 - val_loss: 0.0942\n",
      "Epoch 43/50\n",
      "60000/60000 [==============================] - 9s - loss: 0.0956 - val_loss: 0.0943\n",
      "Epoch 44/50\n",
      "60000/60000 [==============================] - 9s - loss: 0.0951 - val_loss: 0.0936\n",
      "Epoch 45/50\n",
      "60000/60000 [==============================] - 9s - loss: 0.0948 - val_loss: 0.0937\n",
      "Epoch 46/50\n",
      "60000/60000 [==============================] - 9s - loss: 0.0945 - val_loss: 0.0933\n",
      "Epoch 47/50\n",
      "60000/60000 [==============================] - 9s - loss: 0.0941 - val_loss: 0.0925\n",
      "Epoch 48/50\n",
      "60000/60000 [==============================] - 9s - loss: 0.0937 - val_loss: 0.0922\n",
      "Epoch 49/50\n",
      "60000/60000 [==============================] - 9s - loss: 0.0933 - val_loss: 0.0918\n",
      "Epoch 50/50\n",
      "60000/60000 [==============================] - 9s - loss: 0.0930 - val_loss: 0.0913\n"
     ]
    }
   ],
   "source": [
    "input_img = Input(shape=(784,))  \n",
    "encoded = Dense(128, activation='relu')(input_img)  \n",
    "encoded = Dense(64, activation='relu')(encoded)  \n",
    "decoded_input = Dense(32, activation='relu')(encoded)  \n",
    "  \n",
    "decoded = Dense(64, activation='relu')(decoded_input)  \n",
    "decoded = Dense(128, activation='relu')(decoded)  \n",
    "decoded = Dense(784, activation='sigmoid')(encoded)  \n",
    "  \n",
    "autoencoder = Model(inputs=input_img, outputs=decoded)  \n",
    "encoder = Model(inputs=input_img, outputs=decoded_input)  \n",
    "  \n",
    "autoencoder.compile(optimizer='adadelta', loss='binary_crossentropy')  \n",
    "  \n",
    "autoencoder.fit(x_train, x_train, epochs=50, batch_size=256,   \n",
    "                shuffle=True, validation_data=(x_test, x_test))  \n",
    "  \n",
    "encoded_imgs = encoder.predict(x_test)  \n",
    "decoded_imgs = autoencoder.predict(x_test)"
   ]
  },
  {
   "cell_type": "code",
   "execution_count": 10,
   "metadata": {},
   "outputs": [
    {
     "data": {
      "image/png": "[encoded data removed]",
      "text/plain": [
       "<matplotlib.figure.Figure at 0x2b14ab6ae48>"
      ]
     },
     "metadata": {},
     "output_type": "display_data"
    }
   ],
   "source": [
    "# 将十个样本图片可视化\n",
    "n = 10\n",
    "plt.figure(figsize=(20, 4))\n",
    "for i in range(n):  \n",
    "    ax = plt.subplot(2, n, i + 1)  \n",
    "    plt.imshow(x_test[i].reshape(28, 28))  \n",
    "    plt.gray()  \n",
    "    ax.get_xaxis().set_visible(False)  \n",
    "    ax.get_yaxis().set_visible(False)  \n",
    "  \n",
    "    ax = plt.subplot(2, n, i + 1 + n)  \n",
    "    plt.imshow(decoded_imgs[i].reshape(28, 28))  \n",
    "    plt.gray()  \n",
    "    ax.get_xaxis().set_visible(False)  \n",
    "    ax.get_yaxis().set_visible(False)  \n",
    "plt.show() "
   ]
  },
  {
   "cell_type": "markdown",
   "metadata": {},
   "source": [
    "### 3. 卷积自编码器：用卷积层构建自编码器\n",
    "当输入是图像时，使用卷积神经网络是更好的。卷积自编码器的编码器部分由卷积层和MaxPooling层构成，MaxPooling负责空域下采样。而解码器由卷积层和上采样层构成。50个epoch后，损失val_loss: 0.1018"
   ]
  },
  {
   "cell_type": "code",
   "execution_count": 13,
   "metadata": {
    "collapsed": true
   },
   "outputs": [],
   "source": [
    "from keras.layers import Convolution2D, MaxPooling2D, UpSampling2D\n",
    "from keras.callbacks import TensorBoard "
   ]
  },
  {
   "cell_type": "code",
   "execution_count": null,
   "metadata": {},
   "outputs": [
    {
     "name": "stdout",
     "output_type": "stream",
     "text": [
      "Train on 60000 samples, validate on 10000 samples\n",
      "Epoch 1/10\n",
      "60000/60000 [==============================] - 199s - loss: 0.2648 - val_loss: 0.1931\n",
      "Epoch 2/10\n",
      "20224/60000 [=========>....................] - ETA: 125s - loss: 0.1900"
     ]
    }
   ],
   "source": [
    " (x_train, _), (x_test, _) = mnist.load_data()  \n",
    "x_train = x_train.astype('float32') / 255.  \n",
    "x_test = x_test.astype('float32') / 255.  \n",
    "x_train = np.reshape(x_train, (len(x_train), 28, 28, 1))  \n",
    "x_test = np.reshape(x_test, (len(x_test), 28, 28, 1))  \n",
    "\n",
    "input_img = Input(shape=(28, 28, 1))\n",
    "\n",
    "x = Convolution2D(16, (3, 3), activation='relu', padding='same')(input_img)  \n",
    "x = MaxPooling2D((2, 2), padding='same')(x)  \n",
    "x = Convolution2D(8, (3, 3), activation='relu', padding='same')(x)  \n",
    "x = MaxPooling2D((2, 2), padding='same')(x)  \n",
    "x = Convolution2D(8, (3, 3), activation='relu', padding='same')(x)  \n",
    "encoded = MaxPooling2D((2, 2), padding='same')(x)  \n",
    "  \n",
    "x = Convolution2D(8, (3, 3), activation='relu', padding='same')(encoded)  \n",
    "x = UpSampling2D((2, 2))(x)  \n",
    "x = Convolution2D(8, (3, 3), activation='relu', padding='same')(x)  \n",
    "x = UpSampling2D((2, 2))(x)  \n",
    "x = Convolution2D(16, (3, 3), activation='relu')(x)  \n",
    "x = UpSampling2D((2, 2))(x)  \n",
    "decoded = Convolution2D(1, (3, 3), activation='sigmoid', padding='same')(x)  \n",
    "  \n",
    "autoencoder = Model(inputs=input_img, outputs=decoded)  \n",
    "autoencoder.compile(optimizer='adadelta', loss='binary_crossentropy')  \n",
    "\n",
    "# 打开一个终端并启动TensorBoard，终端中输入 tensorboard --logdir=/autoencoder  \n",
    "autoencoder.fit(x_train, x_train, epochs=10, batch_size=256,  \n",
    "                shuffle=True, validation_data=(x_test, x_test),  \n",
    "                callbacks=[TensorBoard(log_dir='autoencoder', write_graph=False)])  \n",
    "\n",
    "decoded_imgs = autoencoder.predict(x_test)  "
   ]
  },
  {
   "cell_type": "code",
   "execution_count": null,
   "metadata": {
    "collapsed": true
   },
   "outputs": [],
   "source": [
    "n = 10  \n",
    "plt.figure(figsize=(30, 6))  \n",
    "for i in range(n):  \n",
    "    ax = plt.subplot(3, n, i + 1)  \n",
    "    plt.imshow(x_test[i].reshape(28, 28))  \n",
    "    plt.gray()  \n",
    "    ax.get_xaxis().set_visible(False)  \n",
    "    ax.get_yaxis().set_visible(False)  \n",
    "      \n",
    "    ax = plt.subplot(3, n, i + 1 + n)  \n",
    "    plt.imshow(x_test_noisy[i].reshape(28, 28))  \n",
    "    plt.gray()  \n",
    "    ax.get_xaxis().set_visible(False)  \n",
    "    ax.get_yaxis().set_visible(False)  \n",
    "  \n",
    "    ax = plt.subplot(3, n, i + 1 + 2*n)  \n",
    "    plt.imshow(decoded_imgs[i].reshape(28, 28))  \n",
    "    plt.gray()  \n",
    "    ax.get_xaxis().set_visible(False)  \n",
    "    ax.get_yaxis().set_visible(False)  \n",
    "plt.show()  "
   ]
  },
  {
   "cell_type": "markdown",
   "metadata": {},
   "source": [
    "### 4. 使用自动编码器进行图像去噪\n",
    "我们把训练样本用噪声污染，然后使解码器解码出干净的照片，以获得去噪自动编码器。首先我们把原图片加入高斯噪声，然后把像素值clip到0~1。"
   ]
  },
  {
   "cell_type": "code",
   "execution_count": null,
   "metadata": {
    "collapsed": true
   },
   "outputs": [],
   "source": [
    "(x_train, _), (x_test, _) = mnist.load_data()  \n",
    "x_train = x_train.astype('float32') / 255.  \n",
    "x_test = x_test.astype('float32') / 255.  \n",
    "x_train = np.reshape(x_train, (len(x_train), 28, 28, 1))  \n",
    "x_test = np.reshape(x_test, (len(x_test), 28, 28, 1))  \n",
    "noise_factor = 0.5  \n",
    "x_train_noisy = x_train + noise_factor * np.random.normal(loc=0.0, scale=1.0, size=x_train.shape)   \n",
    "x_test_noisy = x_test + noise_factor * np.random.normal(loc=0.0, scale=1.0, size=x_test.shape)   \n",
    "x_train_noisy = np.clip(x_train_noisy, 0., 1.)  \n",
    "x_test_noisy = np.clip(x_test_noisy, 0., 1.)  \n",
    "print(x_train.shape)  \n",
    "print(x_test.shape)  \n",
    "  \n",
    "input_img = Input(shape=(28, 28, 1))  \n",
    "  \n",
    "x = Convolution2D(32, (3, 3), activation='relu', padding='same')(input_img)  \n",
    "x = MaxPooling2D((2, 2), padding='same')(x)  \n",
    "x = Convolution2D(32, (3, 3), activation='relu', padding='same')(x)  \n",
    "encoded = MaxPooling2D((2, 2), padding='same')(x)  \n",
    "  \n",
    "x = Convolution2D(32, (3, 3), activation='relu', padding='same')(encoded)  \n",
    "x = UpSampling2D((2, 2))(x)  \n",
    "x = Convolution2D(32, (3, 3), activation='relu', padding='same')(x)  \n",
    "x = UpSampling2D((2, 2))(x)  \n",
    "decoded = Convolution2D(1, (3, 3), activation='sigmoid', padding='same')(x)  \n",
    "  \n",
    "autoencoder = Model(inputs=input_img, outputs=decoded)  \n",
    "autoencoder.compile(optimizer='adadelta', loss='binary_crossentropy')  \n",
    "  \n",
    "# 打开一个终端并启动TensorBoard，终端中输入 tensorboard --logdir=/autoencoder  \n",
    "autoencoder.fit(x_train_noisy, x_train, epochs=10, batch_size=256,  \n",
    "                shuffle=True, validation_data=(x_test_noisy, x_test),  \n",
    "                callbacks=[TensorBoard(log_dir='autoencoder', write_graph=False)])  \n",
    "  \n",
    "decoded_imgs = autoencoder.predict(x_test_noisy)  "
   ]
  },
  {
   "cell_type": "code",
   "execution_count": null,
   "metadata": {
    "collapsed": true
   },
   "outputs": [],
   "source": [
    "n = 10  \n",
    "plt.figure(figsize=(30, 6))  \n",
    "for i in range(n):  \n",
    "    ax = plt.subplot(3, n, i + 1)  \n",
    "    plt.imshow(x_test[i].reshape(28, 28))  \n",
    "    plt.gray()  \n",
    "    ax.get_xaxis().set_visible(False)  \n",
    "    ax.get_yaxis().set_visible(False)  \n",
    "      \n",
    "    ax = plt.subplot(3, n, i + 1 + n)  \n",
    "    plt.imshow(x_test_noisy[i].reshape(28, 28))  \n",
    "    plt.gray()  \n",
    "    ax.get_xaxis().set_visible(False)  \n",
    "    ax.get_yaxis().set_visible(False)  \n",
    "  \n",
    "    ax = plt.subplot(3, n, i + 1 + 2*n)  \n",
    "    plt.imshow(decoded_imgs[i].reshape(28, 28))  \n",
    "    plt.gray()  \n",
    "    ax.get_xaxis().set_visible(False)  \n",
    "    ax.get_yaxis().set_visible(False)  \n",
    "plt.show()  "
   ]
  }
 ],
 "metadata": {
  "kernelspec": {
   "display_name": "Python 3",
   "language": "python",
   "name": "python3"
  },
  "language_info": {
   "codemirror_mode": {
    "name": "ipython",
    "version": 3
   },
   "file_extension": ".py",
   "mimetype": "text/x-python",
   "name": "python",
   "nbconvert_exporter": "python",
   "pygments_lexer": "ipython3",
   "version": "3.6.2"
  }
 },
 "nbformat": 4,
 "nbformat_minor": 2
}
