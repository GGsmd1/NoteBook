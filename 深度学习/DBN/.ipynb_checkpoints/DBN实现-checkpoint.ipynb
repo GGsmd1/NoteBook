{
 "cells": [
  {
   "cell_type": "code",
   "execution_count": 1,
   "metadata": {
    "collapsed": true
   },
   "outputs": [],
   "source": [
    "import numpy as np\n",
    "import pandas as pd"
   ]
  },
  {
   "cell_type": "markdown",
   "metadata": {},
   "source": [
    "__加载数据__"
   ]
  },
  {
   "cell_type": "code",
   "execution_count": 2,
   "metadata": {},
   "outputs": [
    {
     "data": {
      "text/plain": [
       "(array([[0, 0, 0, ..., 0, 0, 0],\n",
       "        [0, 0, 0, ..., 0, 0, 0],\n",
       "        [0, 0, 0, ..., 0, 0, 0],\n",
       "        ..., \n",
       "        [0, 0, 0, ..., 0, 0, 0],\n",
       "        [0, 0, 0, ..., 0, 0, 0],\n",
       "        [0, 0, 0, ..., 0, 0, 0]], dtype=int64),\n",
       " array([0, 4, 1, ..., 5, 6, 8], dtype=int64),\n",
       " array([[0, 0, 0, ..., 0, 0, 0],\n",
       "        [0, 0, 0, ..., 0, 0, 0],\n",
       "        [0, 0, 0, ..., 0, 0, 0],\n",
       "        ..., \n",
       "        [0, 0, 0, ..., 0, 0, 0],\n",
       "        [0, 0, 0, ..., 0, 0, 0],\n",
       "        [0, 0, 0, ..., 0, 0, 0]], dtype=int64),\n",
       " array([2, 1, 0, ..., 4, 5, 6], dtype=int64))"
      ]
     },
     "execution_count": 2,
     "metadata": {},
     "output_type": "execute_result"
    }
   ],
   "source": [
    "# 加载训练数据\n",
    "train_data = pd.read_csv(\"mnist_train.csv\").values\n",
    "# 加载测试数据\n",
    "test_data = pd.read_csv(\"mnist_test.csv\").values\n",
    "\n",
    "# 将数据分解成特征X，与类别标签Y\n",
    "train_x = train_data[:, 1:]\n",
    "train_y = train_data[:, 0]\n",
    "test_x = test_data[:, 1:]\n",
    "test_y = test_data[:, 0]\n",
    "train_x, train_y, test_x, test_y"
   ]
  },
  {
   "cell_type": "markdown",
   "metadata": {},
   "source": [
    "#### Sigmoid函数"
   ]
  },
  {
   "cell_type": "code",
   "execution_count": 3,
   "metadata": {
    "collapsed": true
   },
   "outputs": [],
   "source": [
    "def sigmoid(X):\n",
    "    return 1 / (1 + np.exp(-x))"
   ]
  },
  {
   "cell_type": "markdown",
   "metadata": {},
   "source": [
    "__构造受限玻尔兹曼机（RBM）__"
   ]
  },
  {
   "cell_type": "code",
   "execution_count": 4,
   "metadata": {
    "collapsed": true
   },
   "outputs": [],
   "source": [
    "# 受限玻尔兹曼机（RBM）类\n",
    "class RBM:\n",
    "    def __init__(self, size=[], learning_rate=0.01, numepochs=1):\n",
    "        #{W, b, c}为参数，W为神经元相连接的权重，b为显示层的偏置值，c为隐藏层的偏置值\n",
    "        self.W = np.zeros(size)\n",
    "        self.b = np.zeros((1, size[0]))\n",
    "        self.c = np.zeros((1, size[1]))\n",
    "        \n",
    "        self.learning_rate = learning_rate\n",
    "        sefl.numepochs = numepochs\n",
    "    \n",
    "    # RBM 训练\n",
    "    def train(self, X):\n",
    "        print('begin train , X.shape',X.shape,'numepochs:',self.numepochs)\n",
    "        m, n = X.shape\n",
    "        for i in range(self.numepochs):\n",
    "            for x in X:\n",
    "                h1 = sigmoid(c + x.dot(W))\n",
    "                v2 = sigmoid(b + h1.dot(W.T))\n",
    "                h2 = sigmoid(c + v2.dot(W))\n",
    "                \n",
    "                a1 = x.T.dot(h1)\n",
    "                a2 = v2.T.dot(h2)\n",
    "                \n",
    "                self.W = self.W + self.learning_rate * (a1 - a2)\n",
    "                self.b = self.b + self.learning_rate * (v1 - v2)\n",
    "                self.c = self.c + self.learning_rate * (h1 - h2)"
   ]
  },
  {
   "cell_type": "code",
   "execution_count": null,
   "metadata": {
    "collapsed": true
   },
   "outputs": [],
   "source": [
    "rbm = RBM(size=[28*28, 10])\n",
    "rbm.train(train_x[:10,:])"
   ]
  },
  {
   "cell_type": "markdown",
   "metadata": {},
   "source": [
    "__构造深度置信网络（DBN）__"
   ]
  },
  {
   "cell_type": "code",
   "execution_count": null,
   "metadata": {
    "collapsed": true
   },
   "outputs": [],
   "source": [
    "class DBN:\n",
    "    pass"
   ]
  }
 ],
 "metadata": {
  "kernelspec": {
   "display_name": "Python 3",
   "language": "python",
   "name": "python3"
  },
  "language_info": {
   "codemirror_mode": {
    "name": "ipython",
    "version": 3
   },
   "file_extension": ".py",
   "mimetype": "text/x-python",
   "name": "python",
   "nbconvert_exporter": "python",
   "pygments_lexer": "ipython3",
   "version": "3.6.2"
  }
 },
 "nbformat": 4,
 "nbformat_minor": 2
}
