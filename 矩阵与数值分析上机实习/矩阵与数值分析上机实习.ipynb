{
 "cells": [
  {
   "cell_type": "markdown",
   "metadata": {},
   "source": [
    "# <center>矩阵与数值分析上机实习</center>"
   ]
  },
  {
   "cell_type": "markdown",
   "metadata": {},
   "source": [
    "* 全世界石油产量（百万桶每日）如下表所示，确定并画出经过这些点的 $9$ 阶多项式，并使用该多项式估计 $2010$年的石油产量。龙格现象在这个例子中出现了吗？以你的观点，插值多项式是描述这些数据好的模型吗？请解释。\n",
    "<img src='img02.png', width='50%'/>"
   ]
  },
  {
   "cell_type": "markdown",
   "metadata": {},
   "source": [
    "将年份 $1994-2003$ 区间缩放到 $0-9$ "
   ]
  },
  {
   "cell_type": "code",
   "execution_count": 1,
   "metadata": {
    "collapsed": true
   },
   "outputs": [],
   "source": [
    "import numpy as np\n",
    "import matplotlib.pyplot as plt\n",
    "%matplotlib inline"
   ]
  },
  {
   "cell_type": "code",
   "execution_count": 2,
   "metadata": {
    "collapsed": true
   },
   "outputs": [],
   "source": [
    "x_k = [0, 1, 2, 3, 4, 5, 6, 7, 8, 9]\n",
    "y_k = [67.052, 68.008, 69.803, 72.024, 73.400, 72.063, 74.669, 74.487, 74.065, 76.777]"
   ]
  },
  {
   "cell_type": "code",
   "execution_count": 3,
   "metadata": {},
   "outputs": [
    {
     "data": {
      "text/plain": [
       "[<matplotlib.lines.Line2D at 0x7df0f60>]"
      ]
     },
     "execution_count": 3,
     "metadata": {},
     "output_type": "execute_result"
    },
    {
     "data": {
      "image/png": "[encoded data removed]",
      "text/plain": [
       "<matplotlib.figure.Figure at 0x7df0f28>"
      ]
     },
     "metadata": {},
     "output_type": "display_data"
    }
   ],
   "source": [
    "plt.scatter(x_k, y_k, c='r')\n",
    "plt.plot(x_k, y_k)"
   ]
  },
  {
   "cell_type": "code",
   "execution_count": 4,
   "metadata": {},
   "outputs": [
    {
     "data": {
      "text/plain": [
       "[<matplotlib.lines.Line2D at 0x7ed5a90>]"
      ]
     },
     "execution_count": 4,
     "metadata": {},
     "output_type": "execute_result"
    },
    {
     "data": {
      "image/png": "[encoded data removed]",
      "text/plain": [
       "<matplotlib.figure.Figure at 0x7ed5c18>"
      ]
     },
     "metadata": {},
     "output_type": "display_data"
    }
   ],
   "source": [
    "A = []\n",
    "for i in range(len(x_k)):\n",
    "    x = []\n",
    "    for j in range((len(x_k)-1), -1, -1):\n",
    "        x.append(x_k[i] ** j)\n",
    "    A.append(x)\n",
    "A = np.array(A)\n",
    "b = np.array(y_k)\n",
    "w = np.linalg.solve(A, b)\n",
    "\n",
    "def f(x, w):\n",
    "    X = []\n",
    "    for i in range((len(w)-1), -1, -1):\n",
    "        X.append(x ** i)\n",
    "    X = np.array(X)\n",
    "    \n",
    "    return X.dot(w.T)\n",
    "\n",
    "x = np.arange(0, 9, 0.01)\n",
    "y = []\n",
    "for i in range(len(x)):\n",
    "    y.append(f(x[i], w))\n",
    "plt.scatter(x_k, y_k, c='r')\n",
    "plt.plot(x, y)"
   ]
  },
  {
   "cell_type": "markdown",
   "metadata": {},
   "source": [
    "* 用最小二乘法拟合题目 $1$ 中的 $10$ 个数据点，拟合曲线为 $(1)$ 直线；$(2)$ 抛物线，以及 $(3)$ 三次曲线，并计算它们的均方误差。使用所有的拟合曲线估计 $2010$ 年的产量，在均方误差意义下，哪个拟合最好？"
   ]
  },
  {
   "cell_type": "code",
   "execution_count": 5,
   "metadata": {
    "collapsed": true
   },
   "outputs": [],
   "source": [
    "def create_A(x, n):\n",
    "    A = []\n",
    "    for i in range(len(x)):\n",
    "        row = []\n",
    "        for j in range(n, -1, -1):\n",
    "            row.append(x[i] ** j)\n",
    "        A.append(row)\n",
    "    return np.array(A)"
   ]
  },
  {
   "cell_type": "code",
   "execution_count": 6,
   "metadata": {
    "collapsed": true
   },
   "outputs": [],
   "source": [
    "def get_w(X, y):\n",
    "    return np.linalg.inv(X.T.dot(X)).dot(X.T).dot(y)"
   ]
  },
  {
   "cell_type": "code",
   "execution_count": 7,
   "metadata": {
    "collapsed": true
   },
   "outputs": [],
   "source": [
    "def fun1(x, w):\n",
    "    row = []\n",
    "    for i in range(len(w)-1, -1, -1):\n",
    "        row.append(x ** i)\n",
    "    row = np.array(row)\n",
    "    return row.dot(w.T)"
   ]
  },
  {
   "cell_type": "markdown",
   "metadata": {},
   "source": [
    "（1） 拟合直线  $y = ax + b$"
   ]
  },
  {
   "cell_type": "code",
   "execution_count": 8,
   "metadata": {},
   "outputs": [
    {
     "data": {
      "text/plain": [
       "array([  0.96934545,  67.87274545])"
      ]
     },
     "execution_count": 8,
     "metadata": {},
     "output_type": "execute_result"
    }
   ],
   "source": [
    "X = create_A(x_k, 1)\n",
    "y = np.array(y_k).T\n",
    "w = get_w(X, y)\n",
    "w"
   ]
  },
  {
   "cell_type": "code",
   "execution_count": 9,
   "metadata": {},
   "outputs": [
    {
     "data": {
      "text/plain": [
       "83.382272727272664"
      ]
     },
     "execution_count": 9,
     "metadata": {},
     "output_type": "execute_result"
    }
   ],
   "source": [
    "fun1(16, w)"
   ]
  },
  {
   "cell_type": "code",
   "execution_count": 10,
   "metadata": {},
   "outputs": [
    {
     "data": {
      "text/plain": [
       "[<matplotlib.lines.Line2D at 0x8072eb8>]"
      ]
     },
     "execution_count": 10,
     "metadata": {},
     "output_type": "execute_result"
    },
    {
     "data": {
      "image/png": "[encoded data removed]",
      "text/plain": [
       "<matplotlib.figure.Figure at 0x8072160>"
      ]
     },
     "metadata": {},
     "output_type": "display_data"
    }
   ],
   "source": [
    "x = np.arange(0, 9, 0.1)\n",
    "y = []\n",
    "for i in range(len(x)):\n",
    "    y.append(fun1(x[i], w))\n",
    "plt.scatter(x_k, y_k)\n",
    "plt.plot(x, y)"
   ]
  },
  {
   "cell_type": "markdown",
   "metadata": {},
   "source": [
    "（2） 拟合抛物线 $y = ax^2 + bx + c$"
   ]
  },
  {
   "cell_type": "code",
   "execution_count": 11,
   "metadata": {},
   "outputs": [
    {
     "data": {
      "text/plain": [
       "array([ -0.07235227,   1.62051591,  67.00451818])"
      ]
     },
     "execution_count": 11,
     "metadata": {},
     "output_type": "execute_result"
    }
   ],
   "source": [
    "X = create_A(x_k, 2)\n",
    "y = np.array(y_k).T\n",
    "w = get_w(X, y)\n",
    "w"
   ]
  },
  {
   "cell_type": "code",
   "execution_count": 12,
   "metadata": {},
   "outputs": [
    {
     "data": {
      "text/plain": [
       "74.410590909089393"
      ]
     },
     "execution_count": 12,
     "metadata": {},
     "output_type": "execute_result"
    }
   ],
   "source": [
    "fun1(16, w)"
   ]
  },
  {
   "cell_type": "code",
   "execution_count": 13,
   "metadata": {},
   "outputs": [
    {
     "data": {
      "text/plain": [
       "[<matplotlib.lines.Line2D at 0x8326978>]"
      ]
     },
     "execution_count": 13,
     "metadata": {},
     "output_type": "execute_result"
    },
    {
     "data": {
      "image/png": "[encoded data removed]",
      "text/plain": [
       "<matplotlib.figure.Figure at 0x8326438>"
      ]
     },
     "metadata": {},
     "output_type": "display_data"
    }
   ],
   "source": [
    "x = np.arange(0, 9, 0.1)\n",
    "y = []\n",
    "for i in range(len(x)):\n",
    "    y.append(fun1(x[i], w))\n",
    "plt.scatter(x_k, y_k)\n",
    "plt.plot(x, y)"
   ]
  },
  {
   "cell_type": "markdown",
   "metadata": {},
   "source": [
    "（3） 拟合三次曲线  $y = ax^3 + bx^2 + cx + d$"
   ]
  },
  {
   "cell_type": "code",
   "execution_count": 14,
   "metadata": {},
   "outputs": [
    {
     "data": {
      "text/plain": [
       "array([  1.82130925e-02,  -3.18229021e-01,   2.46013947e+00,\n",
       "         6.65455483e+01])"
      ]
     },
     "execution_count": 14,
     "metadata": {},
     "output_type": "execute_result"
    }
   ],
   "source": [
    "X = create_A(x_k, 3)\n",
    "y = np.array(y_k).T\n",
    "w = get_w(X, y)\n",
    "w"
   ]
  },
  {
   "cell_type": "code",
   "execution_count": 15,
   "metadata": {},
   "outputs": [
    {
     "data": {
      "text/plain": [
       "99.041977156239582"
      ]
     },
     "execution_count": 15,
     "metadata": {},
     "output_type": "execute_result"
    }
   ],
   "source": [
    "fun1(16, w)"
   ]
  },
  {
   "cell_type": "code",
   "execution_count": 16,
   "metadata": {},
   "outputs": [
    {
     "data": {
      "text/plain": [
       "[<matplotlib.lines.Line2D at 0x842e0b8>]"
      ]
     },
     "execution_count": 16,
     "metadata": {},
     "output_type": "execute_result"
    },
    {
     "data": {
      "image/png": "[encoded data removed]",
      "text/plain": [
       "<matplotlib.figure.Figure at 0x842e6d8>"
      ]
     },
     "metadata": {},
     "output_type": "display_data"
    }
   ],
   "source": [
    "x = np.arange(0, 9, 0.1)\n",
    "y = []\n",
    "for i in range(len(x)):\n",
    "    y.append(fun1(x[i], w))\n",
    "plt.scatter(x_k, y_k)\n",
    "plt.plot(x, y)"
   ]
  },
  {
   "cell_type": "markdown",
   "metadata": {},
   "source": [
    "* 用 $Newton$ 法求解方程 $x^3 + x^2 + x - 3 = 0$ 的根，初值选择 $x_0 = -0.7$，迭代 $7$ 步并与真值 $x^* = 1$ 相比较，并列出如下表格\n",
    "<img src='img03.png' width='40%'/>\n",
    "从最后一列能得到什么结论（从收敛阶的角度回答）？把最后一列的值与 $f^{''}(x^{*})\\div (2f^{'}(x^{*}))$ 相比较能得到什么结论？"
   ]
  },
  {
   "cell_type": "code",
   "execution_count": 17,
   "metadata": {
    "collapsed": true
   },
   "outputs": [],
   "source": [
    "# 原函数F(x)\n",
    "def F3(x):\n",
    "    return x ** 3 + x ** 2 + x - 3\n",
    "\n",
    "# 导函数f(x)\n",
    "def f3(x):\n",
    "    return 3 * x ** 2 + 2 * x + 1"
   ]
  },
  {
   "cell_type": "code",
   "execution_count": 18,
   "metadata": {},
   "outputs": [
    {
     "data": {
      "text/plain": [
       "[<matplotlib.lines.Line2D at 0x8523160>]"
      ]
     },
     "execution_count": 18,
     "metadata": {},
     "output_type": "execute_result"
    },
    {
     "data": {
      "image/png": "[encoded data removed]",
      "text/plain": [
       "<matplotlib.figure.Figure at 0x841c7f0>"
      ]
     },
     "metadata": {},
     "output_type": "display_data"
    }
   ],
   "source": [
    "x = np.arange(-2, 2, 0.1)\n",
    "y = []\n",
    "for i in range(len(x)):\n",
    "    y.append(F3(x[i]))\n",
    "plt.plot(x, y)"
   ]
  },
  {
   "cell_type": "code",
   "execution_count": 19,
   "metadata": {
    "collapsed": true
   },
   "outputs": [],
   "source": [
    "def ff3(x):\n",
    "    return 6 * x + 2"
   ]
  },
  {
   "cell_type": "code",
   "execution_count": 20,
   "metadata": {
    "collapsed": true
   },
   "outputs": [],
   "source": [
    "def e_i(x_i, x_true):\n",
    "    return np.abs(x_i - x_true)\n",
    "def ee_i(e_1, e_0):\n",
    "    return e_1 / (e_0 ** 2)"
   ]
  },
  {
   "cell_type": "code",
   "execution_count": 21,
   "metadata": {
    "collapsed": true
   },
   "outputs": [],
   "source": [
    "def newton(x):\n",
    "    return x - F3(x)/f3(x)"
   ]
  },
  {
   "cell_type": "code",
   "execution_count": 22,
   "metadata": {},
   "outputs": [
    {
     "name": "stdout",
     "output_type": "stream",
     "text": [
      "0 -0.7 1.7 -\n",
      "1 2.6205607476635517 1.62056074766 0.560747663551\n",
      "2 1.7084401902625614 0.708440190263 0.269756898741\n",
      "3 1.2063786980181086 0.206378698018 0.411205094191\n",
      "4 1.024161664125103 0.0241616641251 0.567279521786\n",
      "5 1.0003814911210203 0.00038149112102 0.653477665331\n",
      "6 1.0000000969928142 9.69928142247e-08 0.666454786688\n",
      "7 1.0000000000000062 6.2172489379e-15 0.660874714617\n"
     ]
    }
   ],
   "source": [
    "x0 = -0.7\n",
    "x_i = x0\n",
    "for i in range(8):\n",
    "    if i==0:\n",
    "        print(i, x_i, np.abs(x_i - 1), '-')\n",
    "    else:\n",
    "        old_x = x_i\n",
    "        x_i = newton(x_i)\n",
    "        print(i,x_i, e_i(x_i, 1), ee_i(e_i(x_i, 1),e_i(old_x, 1)))"
   ]
  },
  {
   "cell_type": "code",
   "execution_count": 23,
   "metadata": {},
   "outputs": [
    {
     "data": {
      "text/plain": [
       "(1.0000000000000062, 0.6666666666666666)"
      ]
     },
     "execution_count": 23,
     "metadata": {},
     "output_type": "execute_result"
    }
   ],
   "source": [
    "x_i, ff3(1)/(2*f3(1))"
   ]
  },
  {
   "cell_type": "markdown",
   "metadata": {},
   "source": [
    "* 分别使用 $Gauss$ 消元法，$Jacobi$ 迭代法，$Gauss-Seidel$ 迭代法及共轭梯度法求解方程组 $Hx = b$，其中 $H=[1\\div (i+j-1)]_{n \\times n}$ 为 $Hilbert$ 矩阵，$b$ 是全为 $1$ 的向量，$(a) \\ n=4 \\ (b) \\ n=8$。"
   ]
  },
  {
   "cell_type": "code",
   "execution_count": 69,
   "metadata": {
    "collapsed": true
   },
   "outputs": [],
   "source": [
    "# 创建Hilbert矩阵\n",
    "def create_H(n):\n",
    "    H = np.ones((n, n))\n",
    "    for i in range(n):\n",
    "        for j in range(n):\n",
    "            H[i, j] = H[i, j]/(i+1+j+1-1)\n",
    "    return H\n",
    "\n",
    "'''求解方程组'''\n",
    "# Gauss消元法\n",
    "def gauss(H, b):\n",
    "    n = len(b)\n",
    "    for i in range(n - 1):\n",
    "        for j in range(i+1, n):\n",
    "            if H[j, i] != 0.0:\n",
    "                div = H[j, i]/H[i, i]\n",
    "                H[j, (i+1): n] = H[j, (i+1): n] - div * H[i, (i+1): n]\n",
    "                b[j] = b[j] - div * b[i]\n",
    "    for k in range(n-1, -1, -1):\n",
    "        b[k] = (b[k] - np.dot(H[k, (k+1): n], b[(k+1): n])) / H[k, k]\n",
    "    return b\n",
    "\n",
    "# Jacobi迭代法\n",
    "def jacobi(H, b, x0, k):\n",
    "    D = np.diag(np.diag(H))\n",
    "    L = - np.tril(H, -1)\n",
    "    U = - np.triu(H, 1)\n",
    "    B = np.linalg.inv(D).dot(L+U)\n",
    "    f = np.linalg.inv(D).dot(b)\n",
    "    x = B.dot(x0) + f\n",
    "    n = 1\n",
    "    for i in range(k-1):\n",
    "        x0 = x\n",
    "        x = B.dot(x0) + f\n",
    "        n = n + 1\n",
    "    return x\n",
    "\n",
    "# Gauss-Seidel迭代法\n",
    "def gauss_seidel(H, b, x0, k):\n",
    "    D = np.diag(np.diag(H))\n",
    "    L = - np.tril(H, -1)\n",
    "    U = - np.triu(H, 1)\n",
    "    G = np.linalg.inv(D-L).dot(L)\n",
    "    f = np.linalg.inv(D-L).dot(b)\n",
    "    x = G.dot(x0) + f;\n",
    "    for i in range(k-1):\n",
    "        x0 = x\n",
    "        x = G.dot(x0) + f\n",
    "    return x"
   ]
  },
  {
   "cell_type": "code",
   "execution_count": 70,
   "metadata": {
    "collapsed": true
   },
   "outputs": [],
   "source": [
    "n = 4\n",
    "H = create_H(n)\n",
    "b = np.ones((n, 1))"
   ]
  },
  {
   "cell_type": "code",
   "execution_count": 71,
   "metadata": {},
   "outputs": [
    {
     "data": {
      "text/plain": [
       "array([[  -4.],\n",
       "       [  60.],\n",
       "       [-180.],\n",
       "       [ 140.]])"
      ]
     },
     "execution_count": 71,
     "metadata": {},
     "output_type": "execute_result"
    }
   ],
   "source": [
    "gauss(H, b)"
   ]
  },
  {
   "cell_type": "code",
   "execution_count": 72,
   "metadata": {},
   "outputs": [
    {
     "data": {
      "text/plain": [
       "array([[ -9.84072128e+69],\n",
       "       [ -3.44739654e+70],\n",
       "       [ -9.44902744e+70],\n",
       "       [ -7.10224379e+71]])"
      ]
     },
     "execution_count": 72,
     "metadata": {},
     "output_type": "execute_result"
    }
   ],
   "source": [
    "x0 = np.zeros((n, 1))\n",
    "jacobi(H, b, x0, 50)"
   ]
  },
  {
   "cell_type": "code",
   "execution_count": 84,
   "metadata": {},
   "outputs": [
    {
     "data": {
      "text/plain": [
       "array([[ -4.00000000e+00],\n",
       "       [  7.68000000e+02],\n",
       "       [ -5.49600000e+04],\n",
       "       [  2.63984000e+06]])"
      ]
     },
     "execution_count": 84,
     "metadata": {},
     "output_type": "execute_result"
    }
   ],
   "source": [
    "x0 = np.zeros((n, 1))\n",
    "gauss_seidel(H, b, x0, 20)"
   ]
  },
  {
   "cell_type": "code",
   "execution_count": 151,
   "metadata": {
    "collapsed": true
   },
   "outputs": [],
   "source": [
    "n = 8\n",
    "H = create_H(n)\n",
    "b = np.ones((n, 1))"
   ]
  },
  {
   "cell_type": "code",
   "execution_count": 152,
   "metadata": {},
   "outputs": [
    {
     "data": {
      "text/plain": [
       "array([[ -8.00000015e+00],\n",
       "       [  5.04000005e+02],\n",
       "       [ -7.56000004e+03],\n",
       "       [  4.62000001e+04],\n",
       "       [ -1.38600000e+05],\n",
       "       [  2.16216000e+05],\n",
       "       [ -1.68168000e+05],\n",
       "       [  5.14799999e+04]])"
      ]
     },
     "execution_count": 152,
     "metadata": {},
     "output_type": "execute_result"
    }
   ],
   "source": [
    "gauss(H, b)"
   ]
  },
  {
   "cell_type": "markdown",
   "metadata": {},
   "source": [
    "* 编程计算三次样条 $S$，满足 $S(0)=1, S(1)=3, S(2)=3, S(3)=4, S(4)=2$，其中边界条件 $S^{'}(0)=S^{''}(0)=0$"
   ]
  },
  {
   "cell_type": "code",
   "execution_count": null,
   "metadata": {
    "collapsed": true
   },
   "outputs": [],
   "source": []
  },
  {
   "cell_type": "markdown",
   "metadata": {},
   "source": [
    "* 取不同的初值用弦截法求方程 $x^3+2x^2+10x-100=0$ 的实根，列表或者画图说明收敛速度。"
   ]
  },
  {
   "cell_type": "code",
   "execution_count": 24,
   "metadata": {},
   "outputs": [
    {
     "data": {
      "text/plain": [
       "<matplotlib.collections.PathCollection at 0x83a6748>"
      ]
     },
     "execution_count": 24,
     "metadata": {},
     "output_type": "execute_result"
    },
    {
     "data": {
      "image/png": "[encoded data removed]",
      "text/plain": [
       "<matplotlib.figure.Figure at 0x8283e80>"
      ]
     },
     "metadata": {},
     "output_type": "display_data"
    }
   ],
   "source": [
    "def f4(x):\n",
    "    return x ** 3 + 2 * x ** 2 + 10 * x - 100\n",
    "\n",
    "x = np.arange(-5, 5, 0.1)\n",
    "y = []\n",
    "for i in range(len(x)):\n",
    "    y.append(f4(x[i]))\n",
    "plt.plot(x, y)\n",
    "x0 = 4\n",
    "x1 = 1\n",
    "y0 = f4(x0)\n",
    "y1 = f4(x1)\n",
    "plt.scatter([x0, x1], [y0, y1])"
   ]
  },
  {
   "cell_type": "code",
   "execution_count": 25,
   "metadata": {
    "collapsed": true
   },
   "outputs": [],
   "source": [
    "def iter4(x1, x0):\n",
    "    return x1 - (f4(x1) * (x1 - x0))/(f4(x1) - f4(x0))"
   ]
  },
  {
   "cell_type": "code",
   "execution_count": 26,
   "metadata": {},
   "outputs": [
    {
     "name": "stdout",
     "output_type": "stream",
     "text": [
      "3.1219512195121952\n",
      "3.7092310257312757\n",
      "3.442969525792038\n",
      "3.4597053840248164\n",
      "3.4605899507712587\n",
      "3.4605867261345815\n",
      "3.460586726723287\n",
      "3.460586726723288\n"
     ]
    }
   ],
   "source": [
    "for i in range(2, 10):\n",
    "    x2 = iter4(x1, x0)\n",
    "    x0 = x1\n",
    "    x1 = x2\n",
    "    print(x1)"
   ]
  },
  {
   "cell_type": "markdown",
   "metadata": {},
   "source": [
    "* 令 $f(x)=e^{3x}cos(\\pi x)$，考虑积分 $\\int_{0}^{2\\pi}f(x)dx$ 。区间分为 $50,100,200,500,1000$ 等，分别用复合梯形以及复合 $Simpson$ 积分公式计算积分值，将数值积分的结果与精准值比较，列表说明误差的收敛性。"
   ]
  },
  {
   "cell_type": "code",
   "execution_count": 110,
   "metadata": {
    "collapsed": true
   },
   "outputs": [],
   "source": [
    "def f8(x):\n",
    "    return np.exp(3 * x) * np.cos(np.pi * x)\n",
    "\n",
    "def complex_echelon(a, b, ns):\n",
    "    Ts = {}\n",
    "    for n in ns:\n",
    "        d = (b - a) / n\n",
    "        x = np.linspace(a+d, b-d, n-1)\n",
    "        T = (b - a)/(2 * n) * (f8(a) + f8(b) + np.sum(f8(x)))\n",
    "        Ts[n] = T\n",
    "    return Ts\n",
    "\n",
    "def complex_simpson(a, b, ns):\n",
    "    Ts = {}\n",
    "    for n in ns:\n",
    "        d = (b - a) / (2 * n)\n",
    "        x = np.linspace(a+d, b-d, 2 * n -1)\n",
    "        i = np.array(range(len(x)))\n",
    "        x1 = x[(i+1)%2==0]\n",
    "        x2 = x[(i+1)%2!=0]\n",
    "        T = (b - a)/(6 * n) * (f8(a) + f8(b) + 2 * np.sum(f8(x1)) + 4 * np.sum(f8(x2)))\n",
    "        Ts[n] = T\n",
    "    return Ts"
   ]
  },
  {
   "cell_type": "code",
   "execution_count": 115,
   "metadata": {},
   "outputs": [
    {
     "data": {
      "text/plain": [
       "{50: 20600260.144037433,\n",
       " 100: 19121240.373277199,\n",
       " 200: 18372164.87582387,\n",
       " 500: 17919443.637618996,\n",
       " 1000: 17767981.868488476}"
      ]
     },
     "execution_count": 115,
     "metadata": {},
     "output_type": "execute_result"
    }
   ],
   "source": [
    "a = 0\n",
    "b = 2 * np.pi\n",
    "ns = [50, 100, 200, 500, 1000]\n",
    "complex_echelon(a, b, ns)"
   ]
  },
  {
   "cell_type": "code",
   "execution_count": 116,
   "metadata": {},
   "outputs": [
    {
     "data": {
      "text/plain": [
       "{50: 35231407.868334904,\n",
       " 100: 35232416.23782251,\n",
       " 200: 35232479.168076426,\n",
       " 500: 35232483.254452005,\n",
       " 1000: 35232483.355091162}"
      ]
     },
     "execution_count": 116,
     "metadata": {},
     "output_type": "execute_result"
    }
   ],
   "source": [
    "a = 0\n",
    "b = 2 * np.pi\n",
    "ns = [50, 100, 200, 500, 1000]\n",
    "complex_simpson(a, b, ns)"
   ]
  },
  {
   "cell_type": "code",
   "execution_count": 118,
   "metadata": {},
   "outputs": [
    {
     "data": {
      "text/plain": [
       "(35232483.36180031, 0.015568195862194167)"
      ]
     },
     "execution_count": 118,
     "metadata": {},
     "output_type": "execute_result"
    }
   ],
   "source": [
    "from scipy.integrate import quad\n",
    "quad(lambda  x:f8(x),0, 2 * np.pi)"
   ]
  },
  {
   "cell_type": "markdown",
   "metadata": {},
   "source": [
    "* 列表说明收敛性"
   ]
  },
  {
   "cell_type": "markdown",
   "metadata": {},
   "source": [
    "* 分别用 $2$ 点，$3$ 点以及 $5$ 点的 $Gauss$ 型积分公式计算如下定积分：\n",
    "$$(1) \\ \\int_{-1}^{1}\\frac{x^2}{\\sqrt{1-x^2}}dx,\\ (2) \\ \\int_{0}^{\\frac{\\pi}{2}}\\frac{sinx}{x}dx$$"
   ]
  },
  {
   "cell_type": "code",
   "execution_count": 132,
   "metadata": {
    "collapsed": true
   },
   "outputs": [],
   "source": [
    "def f9_1(x):\n",
    "    return x ** 2 / np.sqrt(1 - x ** 2)\n",
    "\n",
    "def f9_2(x):\n",
    "    return np.sin(x) / x\n",
    "\n",
    "def point_2(f, a, b):\n",
    "    c = (a + b) / 2\n",
    "    t = b - c\n",
    "    x0 = c + t * - 1 / np.sqrt(3)\n",
    "    x1 = c + t * 1 / np.sqrt(3)\n",
    "    A0 = 1\n",
    "    A1 = 2\n",
    "    return t * (f(x0) + f(x1))\n",
    "\n",
    "def point_3():\n",
    "    return \n",
    "\n",
    "def point_5():\n",
    "    return"
   ]
  },
  {
   "cell_type": "code",
   "execution_count": 134,
   "metadata": {},
   "outputs": [
    {
     "data": {
      "text/plain": [
       "0.81649658092772637"
      ]
     },
     "execution_count": 134,
     "metadata": {},
     "output_type": "execute_result"
    }
   ],
   "source": [
    "point_2(f9_1, -1, 1)"
   ]
  },
  {
   "cell_type": "code",
   "execution_count": 135,
   "metadata": {},
   "outputs": [
    {
     "data": {
      "text/plain": [
       "(1.5707963267946612, 3.896782452272873e-09)"
      ]
     },
     "execution_count": 135,
     "metadata": {},
     "output_type": "execute_result"
    }
   ],
   "source": [
    "quad(lambda  x:f9_1(x),-1, 1)"
   ]
  },
  {
   "cell_type": "code",
   "execution_count": 133,
   "metadata": {},
   "outputs": [
    {
     "data": {
      "text/plain": [
       "1.3704190473439428"
      ]
     },
     "execution_count": 133,
     "metadata": {},
     "output_type": "execute_result"
    }
   ],
   "source": [
    "point_2(f9_2, 0, np.pi/2)"
   ]
  },
  {
   "cell_type": "code",
   "execution_count": 136,
   "metadata": {},
   "outputs": [
    {
     "data": {
      "text/plain": [
       "(1.3707621681544881, 1.5218517203702133e-14)"
      ]
     },
     "execution_count": 136,
     "metadata": {},
     "output_type": "execute_result"
    }
   ],
   "source": [
    "quad(lambda  x:f9_2(x), 0, np.pi/2)"
   ]
  },
  {
   "cell_type": "markdown",
   "metadata": {},
   "source": [
    "* 考虑微分方程初值问题：\n",
    "    \\begin{equation}\n",
    "    \\left\\{\n",
    "    \\begin{aligned}\n",
    "    &\\frac{dy}{dx} = ycost\\\\\n",
    "    &y(0) = 1\n",
    "    \\end{aligned}\n",
    "    \\right.\n",
    "    \\end{equation}\n",
    "\n",
    " 分别用 $Euler$ 法，改进的 $Euler$ 法，$Runge-Kutta$ 法求解该方程。分别取步长为 $0.1,0.01,0.001$，计算到 $x(1)$，画图说明结果。"
   ]
  },
  {
   "cell_type": "code",
   "execution_count": 150,
   "metadata": {
    "collapsed": true
   },
   "outputs": [],
   "source": [
    "hs = [0.1, 0.01, 0.001]\n",
    "def euler():\n",
    "    U = {}\n",
    "    for h in hs:\n",
    "        u = 1\n",
    "        t0 = -1\n",
    "        for i in range((int)(1/h)+1):\n",
    "            u0 = u\n",
    "            t0 = t0 + 1\n",
    "            u = u0 + h * (u0 * np.cos(t0))\n",
    "        U[h] = u\n",
    "    return U\n",
    "\n",
    "def impove_euler():\n",
    "    return\n",
    "\n",
    "def runge_kutta():\n",
    "    return"
   ]
  },
  {
   "cell_type": "code",
   "execution_count": 149,
   "metadata": {},
   "outputs": [
    {
     "data": {
      "text/plain": [
       "{0.001: 1.0007256246773777, 0.01: 0.99357509972434743, 0.1: 1.0158487547305843}"
      ]
     },
     "execution_count": 149,
     "metadata": {},
     "output_type": "execute_result"
    }
   ],
   "source": [
    "euler()"
   ]
  },
  {
   "cell_type": "markdown",
   "metadata": {},
   "source": [
    "* 画图说明结果"
   ]
  }
 ],
 "metadata": {
  "kernelspec": {
   "display_name": "Python 3",
   "language": "python",
   "name": "python3"
  },
  "language_info": {
   "codemirror_mode": {
    "name": "ipython",
    "version": 3
   },
   "file_extension": ".py",
   "mimetype": "text/x-python",
   "name": "python",
   "nbconvert_exporter": "python",
   "pygments_lexer": "ipython3",
   "version": "3.6.1"
  }
 },
 "nbformat": 4,
 "nbformat_minor": 2
}
