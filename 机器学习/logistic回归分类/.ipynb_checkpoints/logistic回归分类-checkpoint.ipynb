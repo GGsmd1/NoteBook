{
 "cells": [
  {
   "cell_type": "markdown",
   "metadata": {
    "collapsed": true
   },
   "source": [
    "# Logistic回归分类"
   ]
  },
  {
   "cell_type": "markdown",
   "metadata": {},
   "source": [
    "在分类问题中，你要预测的变量 y是离散的值，我们将学习一种叫做逻辑回归(Logistic Regression)的算法，这是目前最流行使用最广泛的一种学习算法。"
   ]
  },
  {
   "cell_type": "markdown",
   "metadata": {},
   "source": [
    "## 概述"
   ]
  },
  {
   "cell_type": "markdown",
   "metadata": {},
   "source": [
    "Logistic回归是一种简单的分类算法，提到“回归”，很多人可能觉得与分类没什么关系，Logistic回归通过对数据分类边界的拟合来实现分类。而“回归”也就意味着最佳拟合。要进行最佳拟合，则需要寻找到最佳的拟合参数，一些最优化方法就可以用于最佳回归系数的确定。"
   ]
  },
  {
   "cell_type": "markdown",
   "metadata": {},
   "source": [
    "## Sigmoid函数"
   ]
  },
  {
   "cell_type": "markdown",
   "metadata": {},
   "source": [
    "单位阶跃函数（或者称为海维塞德阶跃函数）：在二分问题下，函数的输出类别是0和1，Simoid函数就是属于这种函数<br>\n",
    "其函数表达式为：$\\sigma(z) = \\frac{1}{1+e^{-z}}$"
   ]
  },
  {
   "cell_type": "code",
   "execution_count": 2,
   "metadata": {
    "collapsed": true
   },
   "outputs": [],
   "source": [
    "import numpy as np\n",
    "import matplotlib.pyplot as plt\n",
    "%matplotlib inline"
   ]
  },
  {
   "cell_type": "code",
   "execution_count": 3,
   "metadata": {
    "collapsed": true
   },
   "outputs": [],
   "source": [
    "def sigmoid(z):\n",
    "    return 1 / (1 + np.exp(-z))"
   ]
  },
  {
   "cell_type": "code",
   "execution_count": 4,
   "metadata": {},
   "outputs": [
    {
     "data": {
      "text/plain": [
       "[<matplotlib.lines.Line2D at 0x24882ad3978>]"
      ]
     },
     "execution_count": 4,
     "metadata": {},
     "output_type": "execute_result"
    },
    {
     "data": {
      "image/png": "[encoded data removed]",
      "text/plain": [
       "<matplotlib.figure.Figure at 0x24882871048>"
      ]
     },
     "metadata": {},
     "output_type": "display_data"
    }
   ],
   "source": [
    "x = np.arange(-10, 10, 0.1)\n",
    "y = sigmoid(x)\n",
    "plt.plot(x, y)"
   ]
  },
  {
   "cell_type": "markdown",
   "metadata": {},
   "source": []
  },
  {
   "cell_type": "code",
   "execution_count": 28,
   "metadata": {},
   "outputs": [
    {
     "data": {
      "image/png": "[encoded data removed]",
      "text/plain": [
       "<matplotlib.figure.Figure at 0x24883176710>"
      ]
     },
     "metadata": {},
     "output_type": "display_data"
    }
   ],
   "source": [
    "# 加载数据\n",
    "def loadDataSet():\n",
    "    feature = []\n",
    "    label = []\n",
    "    fp = open('testSet.txt')\n",
    "    for line in fp.readlines():\n",
    "        lineArr = line.strip().split(\"\\t\") #每行按\\t分割  \n",
    "        feature.append( [1.0, float(lineArr[0]), float(lineArr[1])])  \n",
    "        label.append(float(lineArr[2]))\n",
    "    return np.array(feature), np.array(label)\n",
    "\n",
    "# 梯度上升\n",
    "def gradAscent(x, y):\n",
    "    m, n = np.shape(x)\n",
    "    alpha = 0.001      #初始化 alpha的值  \n",
    "    maxCycles = 500    #最大迭代次数  \n",
    "    w = np.ones((n,1)) #初始化最佳回归系数 \n",
    "    b = 1.0\n",
    "    for i in range(maxCycles):\n",
    "        h = sigmoid(x.dot(w))\n",
    "        error = y - h.T\n",
    "        w = w + alpha * x.T.dot(error.T)\n",
    "    return w\n",
    "\n",
    "def plotBestFit(w,data_x,label_y):  \n",
    "    import matplotlib.pyplot as plt  \n",
    "    m, n = np.shape(data_x)\n",
    "    xcord1 = [];ycord1=[]  \n",
    "    xcord2 = [];ycord2=[]  \n",
    "  \n",
    "    for i in range(m):  \n",
    "        if int(label_y[i])==1:  \n",
    "            xcord1.append(data_x[i,1])  \n",
    "            ycord1.append(data_x[i,2])  \n",
    "        else:  \n",
    "            xcord2.append(data_x[i,1])  \n",
    "            ycord2.append(data_x[i,2])  \n",
    "  \n",
    "    fig = plt.figure()  \n",
    "    ax = fig.add_subplot(111)  \n",
    "    ax.scatter(xcord1,ycord1,s=30,c='red', marker='s')  \n",
    "    ax.scatter(xcord2,ycord2,s=30,c=\"green\")  \n",
    "    x = np.arange(-3.0,3.0,0.1)  \n",
    "    y = (-w[0] - w[1] * x) / w[2]\n",
    "    ax.plot(x,y)  \n",
    "    plt.xlabel(\"x1\")     #X轴的标签  \n",
    "    plt.ylabel(\"x2\")     #Y轴的标签  \n",
    "    plt.show()  \n",
    "\n",
    "x, y = loadDataSet()\n",
    "w = gradAscent(x, y)\n",
    "plotBestFit(w, x, y)"
   ]
  }
 ],
 "metadata": {
  "kernelspec": {
   "display_name": "Python 3",
   "language": "python",
   "name": "python3"
  },
  "language_info": {
   "codemirror_mode": {
    "name": "ipython",
    "version": 3
   },
   "file_extension": ".py",
   "mimetype": "text/x-python",
   "name": "python",
   "nbconvert_exporter": "python",
   "pygments_lexer": "ipython3",
   "version": "3.6.2"
  }
 },
 "nbformat": 4,
 "nbformat_minor": 2
}
