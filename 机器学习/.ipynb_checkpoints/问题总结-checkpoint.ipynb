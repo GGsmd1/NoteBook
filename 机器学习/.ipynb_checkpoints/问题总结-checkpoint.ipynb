{
 "cells": [
  {
   "cell_type": "markdown",
   "metadata": {},
   "source": [
    "# 总结一下机器学习方面的笔试题"
   ]
  },
  {
   "cell_type": "markdown",
   "metadata": {},
   "source": [
    "### 生成模型与判别模型的区别"
   ]
  },
  {
   "cell_type": "markdown",
   "metadata": {},
   "source": []
  },
  {
   "cell_type": "markdown",
   "metadata": {},
   "source": [
    "### 分类模型与回归模型的区别"
   ]
  },
  {
   "cell_type": "markdown",
   "metadata": {},
   "source": []
  },
  {
   "cell_type": "markdown",
   "metadata": {},
   "source": [
    "### 梯度下降法优化方法的原理与步骤"
   ]
  },
  {
   "cell_type": "code",
   "execution_count": null,
   "metadata": {
    "collapsed": true
   },
   "outputs": [],
   "source": []
  },
  {
   "cell_type": "markdown",
   "metadata": {},
   "source": [
    "### 欠拟合与过拟合，避免过拟合的方法"
   ]
  },
  {
   "cell_type": "code",
   "execution_count": null,
   "metadata": {
    "collapsed": true
   },
   "outputs": [],
   "source": []
  },
  {
   "cell_type": "markdown",
   "metadata": {},
   "source": [
    "### 决策树的原理、过程、终止条件，如何防止过拟合？"
   ]
  },
  {
   "cell_type": "code",
   "execution_count": null,
   "metadata": {
    "collapsed": true
   },
   "outputs": [],
   "source": []
  },
  {
   "cell_type": "markdown",
   "metadata": {},
   "source": [
    "### K-means 的原理，选择聚类中心的方法"
   ]
  },
  {
   "cell_type": "code",
   "execution_count": null,
   "metadata": {
    "collapsed": true
   },
   "outputs": [],
   "source": []
  },
  {
   "cell_type": "markdown",
   "metadata": {},
   "source": [
    "### Random Forest 与GBDT的区别"
   ]
  },
  {
   "cell_type": "code",
   "execution_count": null,
   "metadata": {
    "collapsed": true
   },
   "outputs": [],
   "source": []
  },
  {
   "cell_type": "markdown",
   "metadata": {},
   "source": [
    "### SVM的推导"
   ]
  },
  {
   "cell_type": "code",
   "execution_count": null,
   "metadata": {
    "collapsed": true
   },
   "outputs": [],
   "source": []
  },
  {
   "cell_type": "markdown",
   "metadata": {},
   "source": [
    "### BAT机器学习面试题系列（持续更新中......）"
   ]
  },
  {
   "cell_type": "markdown",
   "metadata": {},
   "source": [
    "[BAT机器学习面试1000题系列（第1~60题）](https://mp.weixin.qq.com/s?__biz=MzI4MTQ2NjU5NA==&mid=2247485444&idx=1&sn=adafa4394cc0fecd33c374e3f62c4f2a&chksm=eba98b89dcde029fd4baea2e360c1bd5c4be0dc7faf5980a26788b5d22f250d5d98c91b37354&scene=21#wechat_redirect)<br>\n",
    "[BAT机器学习面试1000题系列（第61~100题）](https://mp.weixin.qq.com/s?__biz=MzI4MTQ2NjU5NA==&mid=2247485444&idx=2&sn=2a9a45139850d822193648addf8930ec&chksm=eba98b89dcde029f845cef9322c21591e630ffeb66c5a9c9cd7a2ef445096818f98d8776183d&scene=21#wechat_redirect)<br>\n",
    "[BAT机器学习面试1000题系列（第101~200题）](https://mp.weixin.qq.com/s?__biz=MzI4MTQ2NjU5NA==&mid=2247485843&idx=1&sn=f25c98c067abde56b3d11918ea614b26&chksm=eba98a1edcde03080cf3557b9ba8673a92eaf7513bc4c743e0f76f5d8f6ae5de5ed9a33c9f9c&scene=21#wechat_redirect)<br>\n",
    "[BAT机器学习面试1000题系列（第201~300题）](https://mp.weixin.qq.com/s?__biz=MzI4MTQ2NjU5NA==&mid=2247486195&idx=2&sn=435a55eaf7e6ba818beb0c1d11ade948&chksm=eba9897edcde00686f374e299590ea68d745c7cefca181a86075e39f1dcea2c1206be4dee91e&scene=21#wechat_redirect)<br>\n",
    "[BAT机器学习面试1000题系列（第301~305题）](https://mp.weixin.qq.com/s?__biz=MzI4MTQ2NjU5NA==&mid=2247486161&idx=2&sn=b5868dffe83fd80c7ad0312695546d8f&chksm=eba9895cdcde004a779d3e8194e68613b7024551417281ed137918acdf6ab50bf31faff38551&scene=21#wechat_redirect)<br>\n",
    "[BAT机器学习面试1000题系列（第306~310题）](https://mp.weixin.qq.com/s?__biz=MzI4MTQ2NjU5NA==&mid=2247486226&idx=3&sn=f600d49a0d9240886f51fffab7aa3229&chksm=eba9889fdcde0189c109cba87690a363020cc0ba5e973a4d7eecd524ee349c2d9d1566d01335&scene=21#wechat_redirect)<br>\n",
    "[BAT机器学习面试1000题系列（第311~315题）](https://mp.weixin.qq.com/s?__biz=MzI4MTQ2NjU5NA==&mid=2247486242&idx=2&sn=73cfa46469e9f637ce4c7ca449dd113e&chksm=eba988afdcde01b9b65ed389a95d842c2055eb24604423bd4ea2bb544c3dd898a58c6e9e0910&scene=21#wechat_redirect)<br>\n",
    "[BAT机器学习面试1000题系列（第316~320题）](http://mp.weixin.qq.com/s/HhsYPXFXAPbSPPpEvzL-CA)<br>\n",
    "[BAT机器学习面试1000题系列（第321~325题）](https://mp.weixin.qq.com/s/3KCCU4t1PUS2LWU487Vr4Q)<br>"
   ]
  },
  {
   "cell_type": "code",
   "execution_count": null,
   "metadata": {
    "collapsed": true
   },
   "outputs": [],
   "source": []
  }
 ],
 "metadata": {
  "kernelspec": {
   "display_name": "Python 3",
   "language": "python",
   "name": "python3"
  },
  "language_info": {
   "codemirror_mode": {
    "name": "ipython",
    "version": 3
   },
   "file_extension": ".py",
   "mimetype": "text/x-python",
   "name": "python",
   "nbconvert_exporter": "python",
   "pygments_lexer": "ipython3",
   "version": "3.6.3"
  }
 },
 "nbformat": 4,
 "nbformat_minor": 2
}
