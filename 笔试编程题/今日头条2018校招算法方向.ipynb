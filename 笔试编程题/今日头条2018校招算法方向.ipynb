{
 "cells": [
  {
   "cell_type": "markdown",
   "metadata": {},
   "source": [
    "# 编程题1"
   ]
  },
  {
   "cell_type": "markdown",
   "metadata": {},
   "source": [
    "时间限制：1秒<br>\n",
    "空间限制：32768K"
   ]
  },
  {
   "cell_type": "markdown",
   "metadata": {},
   "source": [
    "P为给定的二维平面整数点集。定义 P 中某点x，如果x满足 P 中任意点都不在 x 的右上方区域内（横纵坐标都大于x），则称其为“最大的”。求出所有“最大的”点的集合。（所有点的横坐标和纵坐标都不重复, 坐标轴范围在[0, 1e9) 内）\n",
    "如下图：实心点为满足条件的点的集合。请实现代码找到集合 P 中的所有 ”最大“ 点的集合并输出。"
   ]
  },
  {
   "attachments": {
    "%E7%BC%96%E7%A8%8B%E9%A2%981.jpg": {
     "image/jpeg": "[encoded data removed]"
    }
   },
   "cell_type": "markdown",
   "metadata": {},
   "source": [
    "![%E7%BC%96%E7%A8%8B%E9%A2%981.jpg](attachment:%E7%BC%96%E7%A8%8B%E9%A2%981.jpg)"
   ]
  },
  {
   "cell_type": "markdown",
   "metadata": {},
   "source": [
    "__输入描述：__"
   ]
  },
  {
   "cell_type": "markdown",
   "metadata": {},
   "source": [
    "> 第一行输入点集的个数 N， 接下来 N 行，每行两个数字代表点的 X 轴和 Y 轴。<br>\n",
    "对于 50%的数据,  1 <= N <= 10000;<br>\n",
    "对于 100%的数据, 1 <= N <= 500000;"
   ]
  },
  {
   "cell_type": "markdown",
   "metadata": {},
   "source": [
    "__输出描述：__"
   ]
  },
  {
   "cell_type": "markdown",
   "metadata": {},
   "source": [
    "> 输出“最大的” 点集合， 按照 X 轴从小到大的方式输出，每行两个数字分别代表点的 X 轴和 Y轴。"
   ]
  },
  {
   "cell_type": "markdown",
   "metadata": {},
   "source": [
    "__输入例子1：__"
   ]
  },
  {
   "cell_type": "markdown",
   "metadata": {},
   "source": [
    "> 5<br>\n",
    "1 2<br>\n",
    "5 3<br>\n",
    "4 6<br>\n",
    "7 5<br>\n",
    "9 0"
   ]
  },
  {
   "cell_type": "markdown",
   "metadata": {},
   "source": [
    "__输出例子1：__"
   ]
  },
  {
   "cell_type": "markdown",
   "metadata": {},
   "source": [
    "> 4 6<br>\n",
    "7 5<br>\n",
    "9 0"
   ]
  },
  {
   "cell_type": "markdown",
   "metadata": {},
   "source": [
    "## 代码"
   ]
  },
  {
   "cell_type": "code",
   "execution_count": null,
   "metadata": {
    "collapsed": true
   },
   "outputs": [],
   "source": []
  },
  {
   "cell_type": "markdown",
   "metadata": {},
   "source": [
    "# 编程题2"
   ]
  },
  {
   "cell_type": "markdown",
   "metadata": {},
   "source": [
    "时间限制：3秒<br>\n",
    "空间限制：131072K"
   ]
  },
  {
   "cell_type": "markdown",
   "metadata": {},
   "source": [
    "给定一个数组序列, 需要求选出一个区间, 使得该区间是所有区间中经过如下计算的值最大的一个：<br>\n",
    "区间中的最小数 * 区间所有数的和最后程序输出经过计算后的最大值即可，不需要输出具体的区间。如给定序列  [6 2 1]则根据上述公式, 可得到所有可以选定各个区间的计算值:"
   ]
  },
  {
   "cell_type": "markdown",
   "metadata": {},
   "source": [
    "[6] = 6 * 6 = 36;<br>\n",
    "[2] = 2 * 2 = 4;<br>\n",
    "[1] = 1 * 1 = 1;<br>\n",
    "[6,2] = 2 * 8 = 16;<br>\n",
    "[2,1] = 1 * 3 = 3;<br>\n",
    "[6, 2, 1] = 1 * 9 = 9;"
   ]
  },
  {
   "cell_type": "markdown",
   "metadata": {},
   "source": [
    "从上述计算可见选定区间 [6] ，计算值为 36， 则程序输出为 36。<br>\n",
    "区间内的所有数字都在[0, 100]的范围内;"
   ]
  },
  {
   "cell_type": "markdown",
   "metadata": {},
   "source": [
    "__输入描述：__"
   ]
  },
  {
   "cell_type": "markdown",
   "metadata": {},
   "source": [
    "> 第一行输入数组序列长度n，第二行输入数组序列。<br>\n",
    "对于 50%的数据,  1 <= n <= 10000;<br>\n",
    "对于 100%的数据, 1 <= n <= 500000;<br>"
   ]
  },
  {
   "cell_type": "markdown",
   "metadata": {},
   "source": [
    "__输出描述：__"
   ]
  },
  {
   "cell_type": "markdown",
   "metadata": {},
   "source": [
    "> 输出数组经过计算后的最大值。"
   ]
  },
  {
   "cell_type": "markdown",
   "metadata": {},
   "source": [
    "__输入例子1：__"
   ]
  },
  {
   "cell_type": "markdown",
   "metadata": {},
   "source": [
    "> 3<br>\n",
    "6 2 1"
   ]
  },
  {
   "cell_type": "markdown",
   "metadata": {},
   "source": [
    "__输出例子1：__"
   ]
  },
  {
   "cell_type": "markdown",
   "metadata": {},
   "source": [
    "> 36"
   ]
  },
  {
   "cell_type": "markdown",
   "metadata": {},
   "source": [
    "## 代码"
   ]
  },
  {
   "cell_type": "code",
   "execution_count": null,
   "metadata": {
    "collapsed": true
   },
   "outputs": [],
   "source": []
  },
  {
   "cell_type": "markdown",
   "metadata": {},
   "source": [
    "# 编程题3"
   ]
  },
  {
   "cell_type": "markdown",
   "metadata": {},
   "source": [
    "时间限制：1秒<br>\n",
    "空间限制：81920K"
   ]
  },
  {
   "cell_type": "markdown",
   "metadata": {},
   "source": [
    "产品经理(PM)有很多好的idea，而这些idea需要程序员实现。现在有N个PM，在某个时间会想出一个 idea，每个 idea 有提出时间、所需时间和优先等级。对于一个PM来说，最想实现的idea首先考虑优先等级高的，相同的情况下优先所需时间最小的，还相同的情况下选择最早想出的，没有 PM 会在同一时刻提出两个 idea。<br>\n",
    "同时有M个程序员，每个程序员空闲的时候就会查看每个PM尚未执行并且最想完成的一个idea,然后从中挑选出所需时间最小的一个idea独立实现，如果所需时间相同则选择PM序号最小的。直到完成了idea才会重复上述操作。如果有多个同时处于空闲状态的程序员，那么他们会依次进行查看idea的操作。<br>\n",
    "求每个idea实现的时间。<br>\n",
    "输入第一行三个数N、M、P，分别表示有N个PM，M个程序员，P个idea。随后有P行，每行有4个数字，分别是PM序号、提出时间、优先等级和所需时间。输出P行，分别表示每个idea实现的时间点。"
   ]
  },
  {
   "cell_type": "markdown",
   "metadata": {},
   "source": [
    "__输入描述：__"
   ]
  },
  {
   "cell_type": "markdown",
   "metadata": {},
   "source": [
    "> 输入第一行三个数N、M、P，分别表示有N个PM，M个程序员，P个idea。随后有P行，每行有4个数字，分别是PM序号、提出时间、优先等级和所需时间。全部数据范围 [1, 3000]。"
   ]
  },
  {
   "cell_type": "markdown",
   "metadata": {},
   "source": [
    "__输出描述：__"
   ]
  },
  {
   "cell_type": "markdown",
   "metadata": {},
   "source": [
    "> 输出P行，分别表示每个idea实现的时间点。"
   ]
  },
  {
   "cell_type": "markdown",
   "metadata": {},
   "source": [
    "__输入例子1：__"
   ]
  },
  {
   "cell_type": "markdown",
   "metadata": {},
   "source": [
    "> 2 2 5<br>\n",
    "1 1 1 2<br>\n",
    "1 2 1 1<br>\n",
    "1 3 2 2<br>\n",
    "2 1 1 2<br>\n",
    "2 3 5 5"
   ]
  },
  {
   "cell_type": "markdown",
   "metadata": {},
   "source": [
    "__输出例子1：__"
   ]
  },
  {
   "cell_type": "markdown",
   "metadata": {},
   "source": [
    "> 3<br>\n",
    "4<br>\n",
    "5<br>\n",
    "3<br>\n",
    "9"
   ]
  },
  {
   "cell_type": "markdown",
   "metadata": {},
   "source": [
    "## 代码"
   ]
  },
  {
   "cell_type": "code",
   "execution_count": null,
   "metadata": {
    "collapsed": true
   },
   "outputs": [],
   "source": []
  },
  {
   "cell_type": "markdown",
   "metadata": {},
   "source": [
    "# 问答题1"
   ]
  },
  {
   "cell_type": "markdown",
   "metadata": {},
   "source": [
    "__题目描述：__"
   ]
  },
  {
   "cell_type": "markdown",
   "metadata": {},
   "source": [
    "给定一棵树的根节点, 在已知该树最大深度的情况下, 求节点数最多的那一层并返回具体的层数。<br>\n",
    "如果最后答案有多层, 输出最浅的那一层，树的深度不会超过100000。实现代码如下，请指出代码中的多处错误："
   ]
  },
  {
   "cell_type": "markdown",
   "metadata": {},
   "source": [
    "``` c\n",
    "struct Node {\n",
    "    vector<Node*> sons;\n",
    "};\n",
    " \n",
    "void dfsFind(Node *node, int dep, int counter[]) {\n",
    "    counter[dep]++;\n",
    " \n",
    "    for(int i = 0; i < node.sons.size(); i++) {\n",
    "        dfsFind(node.sons[i], dep, counter);\n",
    "    }\n",
    "}\n",
    " \n",
    "int find(Node *root, int maxDep) {\n",
    "    int depCounter[100000];\n",
    "    dfsFind(root, 0, depCounter);\n",
    " \n",
    "    int max, maxDep;\n",
    "    for (int i = 1; i <= maxDep; i++) {\n",
    "        if (depCounter[i] > max) {\n",
    "            max = depCounter[i];\n",
    "            maxDep = i;\n",
    "        }\n",
    "    }\n",
    "    return maxDep;\n",
    "}\n",
    "```"
   ]
  },
  {
   "cell_type": "markdown",
   "metadata": {},
   "source": []
  },
  {
   "cell_type": "markdown",
   "metadata": {},
   "source": [
    "# 问答题2"
   ]
  },
  {
   "cell_type": "markdown",
   "metadata": {},
   "source": [
    "__题目描述：__"
   ]
  },
  {
   "cell_type": "markdown",
   "metadata": {},
   "source": [
    "早期短链接广泛应用于图片上传网站，通过缩短网址URL链接字数，达到减少代码字符串的目的。常见于网店图片分类的使用，因有字符个数限制，采用短链接可以达到外链图片的目的。自微博盛行以来，在微博字数有限的特色下，短链接也盛行于微博网站，以节省字数给博主发布更多文字的空间。"
   ]
  },
  {
   "cell_type": "markdown",
   "metadata": {},
   "source": [
    "__问题描述：__设计一个短链生成和查询系统，需要提供以下两个功能：\n",
    "1. 提供长链转换短链的接口\n",
    "2. 点击短链能跳转到对应的长链"
   ]
  },
  {
   "cell_type": "markdown",
   "metadata": {},
   "source": [
    "__题目要求：__\n",
    "1. 同一个长链生成同一个短链接，不要有多个短链指向同一个长链。\n",
    "2. 同一个短链只能指向某一个长链，短链生成后要固定不变，不能再指向其它长链。\n",
    "3. 给出系统架构，需要考虑高并发解决方案。\n",
    "4. 考虑存储和缓存方案\n"
   ]
  },
  {
   "cell_type": "markdown",
   "metadata": {},
   "source": [
    "__数据量预估：__\n",
    "1. 预计长链接总量500亿\n",
    "2. 长链换短链请求量：10W qps\n",
    "3. 短链跳转请求量：100W qps"
   ]
  },
  {
   "cell_type": "markdown",
   "metadata": {},
   "source": []
  },
  {
   "cell_type": "markdown",
   "metadata": {},
   "source": [
    "# 编程题（用户喜好）"
   ]
  },
  {
   "cell_type": "markdown",
   "metadata": {},
   "source": [
    "时间限制：3秒<br>\n",
    "空间限制：262144K"
   ]
  },
  {
   "cell_type": "markdown",
   "metadata": {},
   "source": [
    "为了不断优化推荐效果，今日头条每天要存储和处理海量数据。假设有这样一种场景：我们对用户按照它们的注册时间先后来标号，对于一类文章，每个用户都有不同的喜好值，我们会想知道某一段时间内注册的用户（标号相连的一批用户）中，有多少用户对这类文章喜好值为k。因为一些特殊的原因，不会出现一个查询的用户区间完全覆盖另一个查询的用户区间(不存在L1<=L2<=R2<=R1)。"
   ]
  },
  {
   "cell_type": "markdown",
   "metadata": {},
   "source": [
    "__输入描述：__\n",
    "> 输入： 第1行为n代表用户的个数 第2行为n个整数，第i个代表用户标号为i的用户对某类文章的喜好度 第3行为一个正整数q代表查询的组数  第4行到第（3+q）行，每行包含3个整数l,r,k代表一组查询，即标号为l<=i<=r的用户中对这类文章喜好值为k的用户的个数。 数据范围n <= 300000,q<=300000 k是整型"
   ]
  },
  {
   "cell_type": "markdown",
   "metadata": {},
   "source": [
    "__输出描述：__\n",
    "> 输出：一共q行，每行一个整数代表喜好值为k的用户的个数"
   ]
  },
  {
   "cell_type": "markdown",
   "metadata": {},
   "source": [
    "__输入例子1：__\n",
    "> 5<br>\n",
    "1 2 3 3 5<br>\n",
    "3<br>\n",
    "1 2 1<br>\n",
    "2 4 5<br>\n",
    "3 5 3"
   ]
  },
  {
   "cell_type": "markdown",
   "metadata": {},
   "source": [
    "__输出例子1：__\n",
    "> 1<br>\n",
    "0<br>\n",
    "2"
   ]
  },
  {
   "cell_type": "markdown",
   "metadata": {},
   "source": [
    "__例子说明1：__\n",
    "样例解释:<br>\n",
    "有5个用户，喜好值为分别为1、2、3、3、5，<br>\n",
    "第一组询问对于标号[1,2]的用户喜好值为1的用户的个数是1<br>\n",
    "第二组询问对于标号[2,4]的用户喜好值为5的用户的个数是0<br>\n",
    "第三组询问对于标号[3,5]的用户喜好值为3的用户的个数是2"
   ]
  },
  {
   "cell_type": "markdown",
   "metadata": {},
   "source": [
    "## 代码"
   ]
  },
  {
   "cell_type": "code",
   "execution_count": null,
   "metadata": {
    "collapsed": true
   },
   "outputs": [],
   "source": []
  },
  {
   "cell_type": "markdown",
   "metadata": {},
   "source": [
    "# 编程题（手串）"
   ]
  },
  {
   "cell_type": "markdown",
   "metadata": {},
   "source": [
    "时间限制：1秒<br>\n",
    "空间限制：65536K"
   ]
  },
  {
   "cell_type": "markdown",
   "metadata": {},
   "source": [
    "作为一个手串艺人，有金主向你订购了一条包含n个杂色串珠的手串——每个串珠要么无色，要么涂了若干种颜色。为了使手串的色彩看起来不那么单调，金主要求，手串上的任意一种颜色（不包含无色），在任意连续的m个串珠里至多出现一次（注意这里手串是一个环形）。手串上的颜色一共有c种。现在按顺时针序告诉你n个串珠的手串上，每个串珠用所包含的颜色分别有哪些。请你判断该手串上有多少种颜色不符合要求。即询问有多少种颜色在任意连续m个串珠中出现了至少两次。"
   ]
  },
  {
   "cell_type": "markdown",
   "metadata": {},
   "source": [
    "__输入描述：__\n",
    "> 第一行输入n，m，c三个数，用空格隔开。(1 <= n <= 10000, 1 <= m <= 1000, 1 <= c <= 50) 接下来n行每行的第一个数num_i(0 <= num_i <= c)表示第i颗珠子有多少种颜色。接下来依次读入num_i个数字，每个数字x表示第i颗柱子上包含第x种颜色(1 <= x <= c)"
   ]
  },
  {
   "cell_type": "markdown",
   "metadata": {},
   "source": [
    "__输出描述：__\n",
    "> 一个非负整数，表示该手链上有多少种颜色不符需求。"
   ]
  },
  {
   "cell_type": "markdown",
   "metadata": {},
   "source": [
    "__输入例子1：__\n",
    "> 5 2 3<br>\n",
    "3 1 2 3<br>\n",
    "0<br>\n",
    "2 2 3<br>\n",
    "1 2<br>\n",
    "1 3"
   ]
  },
  {
   "cell_type": "markdown",
   "metadata": {},
   "source": [
    "__输出例子1：__\n",
    "> 2"
   ]
  },
  {
   "cell_type": "markdown",
   "metadata": {},
   "source": [
    "__例子说明1：__\n",
    "> 第一种颜色出现在第1颗串珠，与规则无冲突。<br>\n",
    "第二种颜色分别出现在第 1，3，4颗串珠，第3颗与第4颗串珠相邻，所以不合要求。<br>\n",
    "第三种颜色分别出现在第1，3，5颗串珠，第5颗串珠的下一个是第1颗，所以不合要求。<br>\n",
    "总计有2种颜色的分布是有问题的。 <br>\n",
    "这里第2颗串珠是透明的。"
   ]
  },
  {
   "cell_type": "markdown",
   "metadata": {},
   "source": [
    "## 代码"
   ]
  },
  {
   "cell_type": "code",
   "execution_count": null,
   "metadata": {
    "collapsed": true
   },
   "outputs": [],
   "source": []
  },
  {
   "cell_type": "markdown",
   "metadata": {},
   "source": [
    "# 编程题（字母交换）"
   ]
  },
  {
   "cell_type": "markdown",
   "metadata": {},
   "source": [
    "时间限制：1秒<br>\n",
    "空间限制：32768K"
   ]
  },
  {
   "cell_type": "markdown",
   "metadata": {},
   "source": [
    "【编码题】字符串S由小写字母构成，长度为n。定义一种操作，每次都可以挑选字符串中任意的两个相邻字母进行交换。询问在至多交换m次之后，字符串中最多有多少个连续的位置上的字母相同？"
   ]
  },
  {
   "cell_type": "markdown",
   "metadata": {},
   "source": [
    "__输入描述：__\n",
    "> 第一行为一个字符串S与一个非负整数m。(1 <= |S| <= 1000, 1 <= m <= 1000000)"
   ]
  },
  {
   "cell_type": "markdown",
   "metadata": {},
   "source": [
    "__输出描述：__\n",
    "> 一个非负整数，表示操作之后，连续最长的相同字母数量。"
   ]
  },
  {
   "cell_type": "markdown",
   "metadata": {},
   "source": [
    "__输入例子1：__\n",
    "> abcbaa 2"
   ]
  },
  {
   "cell_type": "markdown",
   "metadata": {},
   "source": [
    "__输出例子1：__\n",
    "> 2"
   ]
  },
  {
   "cell_type": "markdown",
   "metadata": {},
   "source": [
    "__例子说明1：__\n",
    "> 使2个字母a连续出现，至少需要3次操作。即把第1个位置上的a移动到第4个位置。\n",
    "所以在至多操作2次的情况下，最多只能使2个b或2个a连续出现。"
   ]
  },
  {
   "cell_type": "markdown",
   "metadata": {},
   "source": [
    "## 代码"
   ]
  },
  {
   "cell_type": "code",
   "execution_count": null,
   "metadata": {
    "collapsed": true
   },
   "outputs": [],
   "source": []
  },
  {
   "cell_type": "markdown",
   "metadata": {},
   "source": [
    "# 问答题3"
   ]
  },
  {
   "cell_type": "markdown",
   "metadata": {},
   "source": [
    "__题目描述__\n",
    "\n",
    "以下函数使用二分查找搜索一个增序的数组，当有多个元素值与目标元素相等时，返回最后一个元素的下标，目标元素不存在时返回-1。请指出程序代码中错误或不符最佳实践的地方（问题不止一处，请尽量找出所有你认为有问题的地方）"
   ]
  },
  {
   "cell_type": "markdown",
   "metadata": {},
   "source": [
    "``` c\n",
    "int BinarySearchMax(const std::vector<int>& data, int target)\n",
    "{\n",
    "   int left = 0;\n",
    "   int right = data.size();\n",
    "   while (left < right) {\n",
    "       int mid = (left + right) / 2;\n",
    "       if (data[mid] <= target)\n",
    "           left = mid + 1;\n",
    "       else\n",
    "           right = mid - 1;\n",
    "   }\n",
    "   if (data[right] == target)\n",
    "       return right;\n",
    "   return -1;\n",
    "}\n",
    "```"
   ]
  },
  {
   "cell_type": "markdown",
   "metadata": {},
   "source": []
  },
  {
   "cell_type": "markdown",
   "metadata": {},
   "source": [
    "# 问答题4"
   ]
  },
  {
   "cell_type": "markdown",
   "metadata": {},
   "source": [
    "__题目描述__\n",
    "\n",
    "【设计题】今日头条会根据用户的浏览行为、内容偏好等信息，为每个用户抽象出一个标签化的用户画像，用于内容推荐。用户画像的存储、高并发访问，是推荐系统的重要环节之一。现在请你给出一个用户画像存储、访问方案，设计的时候请考虑一下几个方面：\n",
    "1. 用户画像如何存储\n",
    "2. 如何保证在线高并发、低延迟地访问\n",
    "3. 机器宕机、负载均衡问题\n",
    "4. 如果用户增长很快，在你的方案下，该如何做扩容"
   ]
  },
  {
   "cell_type": "markdown",
   "metadata": {},
   "source": []
  },
  {
   "cell_type": "markdown",
   "metadata": {},
   "source": [
    "# 问答题5"
   ]
  },
  {
   "cell_type": "markdown",
   "metadata": {},
   "source": [
    "__题目描述__\n",
    "\n",
    "以下函数用于找到整数矩阵matrix中，元素之和最大的n行m列的子矩阵的元素之和。请指出程序代码中错误的地方（问题不止一处，请尽量找出所有你认为错误的地方），并在不新增代码行的情况下将问题修复。"
   ]
  },
  {
   "cell_type": "markdown",
   "metadata": {},
   "source": [
    "``` c\n",
    " 1 int maxSubmatrixSum(std::vector<std::vector<int>> matrix,\n",
    " 2                     int n, int m) {\n",
    " 3   int base_sum;\n",
    " 4   for (int i = 0; i < n; i++){\n",
    " 5     for (int j = 0; j < m; j++){\n",
    " 6       base_sum += matrix[i][j];\n",
    " 7     }\n",
    " 8   }\n",
    " 9   int result = 0;\n",
    "10   for (int i = 0; i + n < matrix.size(); i++) {\n",
    "11     if(i  > 0){\n",
    "12       for (int y = 0; y < m; y++){\n",
    "13         base_sum += matrix[i + n][y] - matrix[i - 1][y];\n",
    "14       }\n",
    "15     }\n",
    "16     int real_sum = base_sum;\n",
    "17     if (real_sum  > result) {\n",
    "18       result = real_sum;\n",
    "19     }\n",
    "20     for (int j = 0; j + m < matrix.size(); j++) {\n",
    "21       for (int x = 0; x < n; x++) {\n",
    "22         real_sum += matrix[x][j + m] - matrix[x][j - 1];\n",
    "23       }\n",
    "24       if (real_sum > result) {\n",
    "25         result = real_sum;\n",
    "26       }\n",
    "27     }\n",
    "28   }\n",
    "29   return result;\n",
    "30 }\n",
    "```"
   ]
  },
  {
   "cell_type": "markdown",
   "metadata": {},
   "source": []
  },
  {
   "cell_type": "markdown",
   "metadata": {},
   "source": [
    "# 问答题6"
   ]
  },
  {
   "cell_type": "markdown",
   "metadata": {},
   "source": [
    "__题目描述__\n",
    "\n",
    "在生产环境，我们常常要存储一些像服务参数、功能开关之类的键值。传统的做法是把配置都写到文件里，然后同步到线上每台机器上。随着机器变多，配置文件变得难以管理，并且容易出现不一致的情况。我们希望设计一个配置服务来解决这个问题。<br>\n",
    "统一配置服务可能会存在以下问题：由于是非常核心的服务，如果存在单节点问题对服务可用性影响非常大；线上可能读取非常频繁，尽可能提供高性能的服务同时，也要考虑横向扩容能力；需要保证配置在期望的时间内下发与更新；<br>\n",
    "请设计一个存储服务，包含但不限于以下角色：服务端（可能由多个节点组成），客户端（读取、写入一个配置），其他（如旁路的监控等）；<br>\n",
    "系统假设：\n",
    "1. 存储量都在1GB以内，单机内存可以存储下；\n",
    "2. 每秒写入在 1000 以内\n",
    "3. 每秒读取在 1000000 以上\n",
    "4. 使用尽量少的节点\n",
    "5. 无论什么时候，服务总是可以读写\n",
    "6. 允许故障期间读到老的配置数据\n",
    "7. 故障恢复后，数据保持同步"
   ]
  },
  {
   "cell_type": "markdown",
   "metadata": {},
   "source": []
  },
  {
   "cell_type": "markdown",
   "metadata": {},
   "source": [
    "# 编程题4"
   ]
  },
  {
   "attachments": {
    "%E7%BC%96%E7%A8%8B%E9%A2%984.png": {
     "image/png": "[encoded data removed]"
    }
   },
   "cell_type": "markdown",
   "metadata": {},
   "source": [
    "时间限制：1秒<br>\n",
    "空间限制：65536K<br>\n",
    "有一个推箱子的游戏, 一开始的情况如下图:<br>\n",
    "![%E7%BC%96%E7%A8%8B%E9%A2%984.png](attachment:%E7%BC%96%E7%A8%8B%E9%A2%984.png)"
   ]
  },
  {
   "cell_type": "markdown",
   "metadata": {},
   "source": [
    "上图中, '.' 表示可到达的位置, '#' 表示不可到达的位置，其中 S 表示你起始的位置, 0表示初始箱子的位置, E表示预期箱子的位置，你可以走到箱子的上下左右任意一侧, 将箱子向另一侧推动。如下图将箱子向右推动一格;\n",
    "..S0.. -> ...S0.\n",
    "注意不能将箱子推动到'#'上, 也不能将箱子推出边界;\n",
    "现在, 给你游戏的初始样子, 你需要输出最少几步能够完成游戏, 如果不能完成, 则输出-1。"
   ]
  },
  {
   "cell_type": "markdown",
   "metadata": {},
   "source": [
    "__输入描述:__\n",
    "> 第一行为2个数字,n, m, 表示游戏盘面大小有n 行m 列(5< n, m < 50);<br>\n",
    "后面为n行字符串,每行字符串有m字符, 表示游戏盘面;"
   ]
  },
  {
   "cell_type": "markdown",
   "metadata": {},
   "source": [
    "__输出描述:__\n",
    "> 一个数字,表示最少几步能完成游戏,如果不能,输出-1;"
   ]
  },
  {
   "cell_type": "markdown",
   "metadata": {},
   "source": [
    "__输入例子1:__\n",
    "> __3 6<br>\n",
    ".S#..E<br>\n",
    ".#.0..<br>\n",
    "......__"
   ]
  },
  {
   "cell_type": "markdown",
   "metadata": {},
   "source": [
    "__输出例子1:__\n",
    "> 11"
   ]
  },
  {
   "cell_type": "markdown",
   "metadata": {},
   "source": [
    "## 代码"
   ]
  },
  {
   "cell_type": "code",
   "execution_count": null,
   "metadata": {
    "collapsed": true
   },
   "outputs": [],
   "source": []
  },
  {
   "cell_type": "markdown",
   "metadata": {},
   "source": [
    "# 编程题5"
   ]
  },
  {
   "cell_type": "markdown",
   "metadata": {},
   "source": [
    "时间限制：1秒<br>\n",
    "空间限制：65536K<br><br>\n",
    "有n个房间，现在i号房间里的人需要被重新分配，分配的规则是这样的：先让i号房间里的人全都出来，接下来按照 i+1, i+2, i+3, ... 的顺序依此往这些房间里放一个人，n号房间的的下一个房间是1号房间，直到所有的人都被重新分配。<br>\n",
    "现在告诉你分配完后每个房间的人数以及最后一个人被分配的房间号x，你需要求出分配前每个房间的人数。数据保证一定有解，若有多解输出任意一个解。"
   ]
  },
  {
   "cell_type": "markdown",
   "metadata": {},
   "source": [
    "__输入描述:__\n",
    "> 第一行两个整数n, x (2<=n<=10^5, 1<=x<=n)，代表房间房间数量以及最后一个人被分配的房间号；<br>\n",
    "第二行n个整数 a_i(0<=a_i<=10^9) ，代表每个房间分配后的人数。"
   ]
  },
  {
   "cell_type": "markdown",
   "metadata": {},
   "source": [
    "__输出描述:__\n",
    "> 输出n个整数，代表每个房间分配前的人数。"
   ]
  },
  {
   "cell_type": "markdown",
   "metadata": {},
   "source": [
    "__输入例子1:__\n",
    "> 3 1<br>\n",
    "6 5 1"
   ]
  },
  {
   "cell_type": "markdown",
   "metadata": {},
   "source": [
    "__输出例子1:__\n",
    "> 4 4 4"
   ]
  },
  {
   "cell_type": "markdown",
   "metadata": {},
   "source": [
    "# 代码"
   ]
  },
  {
   "cell_type": "code",
   "execution_count": null,
   "metadata": {
    "collapsed": true
   },
   "outputs": [],
   "source": []
  },
  {
   "cell_type": "markdown",
   "metadata": {},
   "source": [
    "# 编程题6"
   ]
  },
  {
   "attachments": {
    "%E7%BC%96%E7%A8%8B%E9%A2%986.png": {
     "image/png": "[encoded data removed]"
    }
   },
   "cell_type": "markdown",
   "metadata": {},
   "source": [
    "时间限制：1秒<br>\n",
    "空间限制：32768K<br><br>\n",
    "二阶魔方又叫小魔方，是2*2*2的立方形结构。每一面都有4个块，共有24个块。每次操作可以将任意一面逆时针或者顺时针旋转90°，如将上面逆时针旋转90°操作如下。\n",
    "![%E7%BC%96%E7%A8%8B%E9%A2%986.png](attachment:%E7%BC%96%E7%A8%8B%E9%A2%986.png)"
   ]
  },
  {
   "attachments": {
    "%E7%BC%96%E7%A8%8B%E9%A2%986-1.png": {
     "image/png": "[encoded data removed]"
    }
   },
   "cell_type": "markdown",
   "metadata": {},
   "source": [
    "Nero在小魔方上做了一些改动，用数字替换每个块上面的颜色，称之为数字魔方。魔方上每一面的优美度就是这个面上4个数字的乘积，而魔方的总优美度就是6个面优美度总和。\n",
    "现在Nero有一个数字魔方，他想知道这个魔方在操作不超过5次的前提下能达到的最大优美度是多少。<br>\n",
    "魔方展开后每一块的序号如下图：\n",
    "![%E7%BC%96%E7%A8%8B%E9%A2%986-1.png](attachment:%E7%BC%96%E7%A8%8B%E9%A2%986-1.png)"
   ]
  },
  {
   "cell_type": "markdown",
   "metadata": {},
   "source": [
    "__输入描述:__\n",
    "> 输入一行包含24个数字，按序号顺序给出魔方每一块上面的数字。所有数大小范围为[-100,100]。"
   ]
  },
  {
   "cell_type": "markdown",
   "metadata": {},
   "source": [
    "__输出描述:__\n",
    "> 输出一行包含一个数字，表示最大优美度。"
   ]
  },
  {
   "cell_type": "markdown",
   "metadata": {},
   "source": [
    "__输入例子1:__\n",
    "> 2 -3 -2 3 7 -6 -6 -7 9 -5 -9 -3 -2 1 4 -9 -1 -10 -5 -5 -10 -4 8 2"
   ]
  },
  {
   "cell_type": "markdown",
   "metadata": {},
   "source": [
    "__输出例子1:__\n",
    "> 8281"
   ]
  },
  {
   "cell_type": "markdown",
   "metadata": {},
   "source": [
    "## 代码"
   ]
  },
  {
   "cell_type": "code",
   "execution_count": null,
   "metadata": {
    "collapsed": true
   },
   "outputs": [],
   "source": []
  },
  {
   "cell_type": "markdown",
   "metadata": {},
   "source": [
    "# 问答题7"
   ]
  },
  {
   "cell_type": "markdown",
   "metadata": {},
   "source": [
    "__题目描述__\n",
    "\n",
    "以下函数用于将一颗二叉搜索树转换成一个有序的双向链表。要求不能创建任何新的节点，只能调整树种节点指针的指向。<br>\n",
    "如输入下图中左边的二叉搜索树，则输出转换后的排序双向链表：<br>\n",
    "     　 10   <br>\n",
    "   　/　 　\\   <br>\n",
    " 　6     　　14    <br>\n",
    "  / 　 \\  　 /　　\\    <br>\n",
    "4  　 8  12　  16<br>\n",
    "转换成：<br>\n",
    " 4 <=> 6 <=> 8 <=> 10 <=> 12  <=> 14 <=> 16<br>\n",
    " \n",
    "请指出程序代码中错误的地方（问题不止一处，请尽量找出所有你认为错误的地方）："
   ]
  },
  {
   "cell_type": "markdown",
   "metadata": {},
   "source": [
    "``` c\n",
    "1  #include <stack>\n",
    "2  using namespace std;\n",
    "3\n",
    "4  struct TreeNode {\n",
    "5        int val;  \n",
    "6        TreeNode *left, *right;  \n",
    "7  };\n",
    "8\n",
    "9  TreeNode* Convert(TreeNode* root){  \n",
    "10         if (root == NULL)  \n",
    "11             return root;\n",
    "12\n",
    "13         TreeNode* listHead = NULL;\n",
    "14         TreeNode* listLastNode = NULL;\n",
    "15\n",
    "16         stack<TreeNode*> s;\n",
    "17         while(root){\n",
    "18             while(root){\n",
    "19                 root=root->left;\n",
    "20                 s.push(root);\n",
    "21             }\n",
    "22             root=s.top();  \n",
    "23             s.pop();\n",
    "24             if (listHead == NULL){\n",
    "25                 listHead = root;\n",
    "26             }else{\n",
    "27                 listLastNode->right = root;\n",
    "28             }\n",
    "29             listLastNode = root;\n",
    "30             root= root->right;\n",
    "31         }\n",
    "32         return listHead;\n",
    "33 }\n",
    "```"
   ]
  },
  {
   "cell_type": "markdown",
   "metadata": {},
   "source": []
  },
  {
   "cell_type": "markdown",
   "metadata": {},
   "source": [
    "# 问答题8"
   ]
  },
  {
   "cell_type": "markdown",
   "metadata": {},
   "source": [
    "__题目描述__\n",
    "\n",
    "对于广告投放引擎， 广告库索引服务是基础服务，每次广告请求会从广告索引中找出匹配的广告创意列表。假设每一次请求会携带 地域、运营商、设备机型、网络接入方式 等信息，每个广告策略都可以设置 地域、运营商、设备机型、网络接入方式 的投放定向（即只能投放到定向匹配的请求， 比如只投放特定地域）。每个广告策略下包含N(N>=1)个广告创意。设计一个广告库索引模块， 需要支持以下几点：\n",
    "1.    支持多线程广告请求可以快速的找到匹配的所有广告创意\n",
    "2.    支持广告库数据的热更新\n",
    "3.    支持十万级广告策略，百万级广告创意\n",
    "4.    支持高并发请求\n",
    "请给出广告库索引服务整体系统设计以及所使用到的数据结构设计；"
   ]
  },
  {
   "cell_type": "markdown",
   "metadata": {},
   "source": []
  },
  {
   "cell_type": "markdown",
   "metadata": {},
   "source": [
    "# 编程题7"
   ]
  },
  {
   "cell_type": "markdown",
   "metadata": {},
   "source": [
    "时间限制：2秒<br>\n",
    "空间限制：65536K<br><br>\n",
    "有三只球队，每只球队编号分别为球队1，球队2，球队3，这三只球队一共需要进行 n 场比赛。现在已经踢完了k场比赛，每场比赛不能打平，踢赢一场比赛得一分，输了不得分不减分。已知球队1和球队2的比分相差d1分，球队2和球队3的比分相差d2分，每场比赛可以任意选择两只队伍进行。求如果打完最后的 (n-k) 场比赛，有没有可能三只球队的分数打平。"
   ]
  },
  {
   "cell_type": "markdown",
   "metadata": {},
   "source": [
    "__输入描述:__\n",
    "> 第一行包含一个数字 t (1 <= t <= 10)<br>\n",
    "接下来的t行每行包括四个数字 n, k, d1, d2(1 <= n <= 10^12; 0 <= k <= n, 0 <= d1, d2 <= k)"
   ]
  },
  {
   "cell_type": "markdown",
   "metadata": {},
   "source": [
    "__输出描述:__\n",
    "> 每行的比分数据，最终三只球队若能够打平，则输出“yes”，否则输出“no”"
   ]
  },
  {
   "cell_type": "markdown",
   "metadata": {},
   "source": [
    "__输入例子1:__\n",
    "> 2<br>\n",
    "3 3 0 0<br>\n",
    "3 3 3 3"
   ]
  },
  {
   "cell_type": "markdown",
   "metadata": {},
   "source": [
    "__输出例子1:__\n",
    "> yes<br>\n",
    "no"
   ]
  },
  {
   "cell_type": "markdown",
   "metadata": {},
   "source": [
    "__例子说明1:__\n",
    "> case1: 球队1和球队2 差0分，球队2 和球队3也差0分，所以可能的赛得分是三只球队各得1分<br>\n",
    "case2: 球队1和球队2差3分，球队2和球队3差3分，所以可能的得分是 球队1得0分，球队2得3分, 球队3 得0分，比赛已经全部结束因此最终不能打平。"
   ]
  },
  {
   "cell_type": "markdown",
   "metadata": {},
   "source": [
    "## 代码"
   ]
  },
  {
   "cell_type": "code",
   "execution_count": null,
   "metadata": {
    "collapsed": true
   },
   "outputs": [],
   "source": []
  },
  {
   "cell_type": "markdown",
   "metadata": {},
   "source": [
    "# 编程题8"
   ]
  },
  {
   "cell_type": "markdown",
   "metadata": {},
   "source": [
    "时间限制：1秒<br>\n",
    "空间限制：65536K<br><br>\n",
    "有一个仅包含’a’和’b’两种字符的字符串s，长度为n，每次操作可以把一个字符做一次转换（把一个’a’设置为’b’，或者把一个’b’置成’a’)；但是操作的次数有上限m，问在有限的操作数范围内，能够得到最大连续的相同字符的子串的长度是多少。 "
   ]
  },
  {
   "cell_type": "markdown",
   "metadata": {},
   "source": [
    "__输入描述:__\n",
    "> 第一行两个整数 n , m (1<=m<=n<=50000)，第二行为长度为n且只包含’a’和’b’的字符串s。"
   ]
  },
  {
   "cell_type": "markdown",
   "metadata": {},
   "source": [
    "__输出描述:__\n",
    "> 输出在操作次数不超过 m 的情况下，能够得到的 最"
   ]
  },
  {
   "cell_type": "markdown",
   "metadata": {},
   "source": [
    "__输入例子1:__\n",
    "> 8 1<br>\n",
    "aabaabaa"
   ]
  },
  {
   "cell_type": "markdown",
   "metadata": {},
   "source": [
    "__输出例子1:__\n",
    "> 5"
   ]
  },
  {
   "cell_type": "markdown",
   "metadata": {},
   "source": [
    "__例子说明1:__\n",
    "> 把第一个 'b' 或者第二个 'b' 置成 'a'，可得到长度为 5 的全 'a' 子串。"
   ]
  },
  {
   "cell_type": "markdown",
   "metadata": {},
   "source": [
    "# 代码"
   ]
  },
  {
   "cell_type": "code",
   "execution_count": null,
   "metadata": {
    "collapsed": true
   },
   "outputs": [],
   "source": []
  },
  {
   "cell_type": "markdown",
   "metadata": {},
   "source": [
    "# 编程题9"
   ]
  },
  {
   "cell_type": "markdown",
   "metadata": {},
   "source": [
    "时间限制：1秒<br>\n",
    "空间限制：65536K<br><br>\n",
    "存在n+1个房间，每个房间依次为房间1 2 3...i，每个房间都存在一个传送门，i房间的传送门可以把人传送到房间pi(1<=pi<=i),现在路人甲从房间1开始出发(当前房间1即第一次访问)，每次移动他有两种移动策略：<br>\n",
    "    A. 如果访问过当前房间 i 偶数次，那么下一次移动到房间i+1；<br>\n",
    "    B. 如果访问过当前房间 i 奇数次，那么移动到房间pi；<br>\n",
    "现在路人甲想知道移动到房间n+1一共需要多少次移动；"
   ]
  },
  {
   "cell_type": "markdown",
   "metadata": {},
   "source": [
    "__输入描述:__\n",
    "> 第一行包括一个数字n(30%数据1<=n<=100，100%数据 1<=n<=1000)，表示房间的数量，接下来一行存在n个数字 pi(1<=pi<=i), pi表示从房间i可以传送到房间pi。"
   ]
  },
  {
   "cell_type": "markdown",
   "metadata": {},
   "source": [
    "__输出描述:__\n",
    "> 输出一行数字，表示最终移动的次数，最终结果需要对1000000007 (10e9 + 7) 取模。"
   ]
  },
  {
   "cell_type": "markdown",
   "metadata": {},
   "source": [
    "__输入例子1:__\n",
    "> 2<br>\n",
    "1 2"
   ]
  },
  {
   "cell_type": "markdown",
   "metadata": {},
   "source": [
    "__输出例子1:__\n",
    "> 4"
   ]
  },
  {
   "cell_type": "markdown",
   "metadata": {},
   "source": [
    "__例子说明1:__\n",
    "> 开始从房间1 只访问一次所以只能跳到p1即 房间1， 之后采用策略A跳到房间2，房间2这时访问了一次因此采用策略B跳到房间2，之后采用策略A跳到房间3，因此到达房间3需要 4 步操作。"
   ]
  },
  {
   "cell_type": "markdown",
   "metadata": {},
   "source": [
    "## 代码"
   ]
  },
  {
   "cell_type": "code",
   "execution_count": null,
   "metadata": {
    "collapsed": true
   },
   "outputs": [],
   "source": []
  }
 ],
 "metadata": {
  "kernelspec": {
   "display_name": "Python 3",
   "language": "python",
   "name": "python3"
  },
  "language_info": {
   "codemirror_mode": {
    "name": "ipython",
    "version": 3
   },
   "file_extension": ".py",
   "mimetype": "text/x-python",
   "name": "python",
   "nbconvert_exporter": "python",
   "pygments_lexer": "ipython3",
   "version": "3.6.1"
  }
 },
 "nbformat": 4,
 "nbformat_minor": 2
}
