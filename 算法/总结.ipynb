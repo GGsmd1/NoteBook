{
 "cells": [
  {
   "cell_type": "markdown",
   "metadata": {},
   "source": [
    "## 排序算法的时间复杂度\n",
    "![img2.png](img2.png)"
   ]
  },
  {
   "cell_type": "markdown",
   "metadata": {},
   "source": [
    "* 输入：$n$个数的一个序列$<a_1, a_2, …, a_n>$\n",
    "* 输出：输入序列的一个排列$<a_1^{'}, a_2^{'}, …, a_n^{'}>$，满足$a_1^{'} \\le a_2^{'} \\le … \\le a_n^{'}$。"
   ]
  },
  {
   "cell_type": "markdown",
   "metadata": {},
   "source": [
    "## 插入排序"
   ]
  },
  {
   "cell_type": "markdown",
   "metadata": {},
   "source": [
    "插入排序，对于少量元素的排序，它是一个有效的算法。"
   ]
  },
  {
   "cell_type": "code",
   "execution_count": 25,
   "metadata": {},
   "outputs": [
    {
     "name": "stdout",
     "output_type": "stream",
     "text": [
      "[1, 2, 3, 4, 5, 6]\n",
      "[6, 5, 4, 3, 2, 1]\n"
     ]
    }
   ],
   "source": [
    "# A为输入的序列;\n",
    "def insertion_sort(A):\n",
    "    for j in range(1, len(A)):\n",
    "        key = A[j]\n",
    "        i = j - 1\n",
    "        while i >= 0 and A[i] > key:\n",
    "            A[i+1] = A[i]\n",
    "            i = i - 1\n",
    "        A[i+1] = key\n",
    "#         print(A)\n",
    "# 降序\n",
    "def insertion_sort_desc(A):\n",
    "    for j in range(1, len(A)):\n",
    "        key = A[j]\n",
    "        i = j - 1\n",
    "        while i >= 0 and A[i] < key:\n",
    "            A[i+1] = A[i]\n",
    "            i = i - 1\n",
    "        A[i+1] = key\n",
    "#         print(A)\n",
    "A = [5, 2, 4, 6, 1, 3]\n",
    "insertion_sort(A)\n",
    "print(A)\n",
    "B = [5, 2, 4, 6, 1, 3]\n",
    "insertion_sort_desc(B)\n",
    "print(B)"
   ]
  },
  {
   "cell_type": "markdown",
   "metadata": {},
   "source": [
    "* 递归法\n",
    "\n",
    "我们可以把插入表示为如下的一个递归过程。为了排序$A[1 .. n]$，我们递归地排序$[1 .. n-1]$，然后把$A[n]$插入已排序的数组$A[1 .. n-1]$。"
   ]
  },
  {
   "cell_type": "code",
   "execution_count": 1,
   "metadata": {
    "collapsed": true
   },
   "outputs": [],
   "source": [
    "def recursion_insertion_sort(A, n):\n",
    "    if n >= 0:\n",
    "        recursion_insertion_sort(A, n-1)\n",
    "        key = A[n]\n",
    "        i = n - 1\n",
    "        while i>= 0 and A[i] > key:\n",
    "            A[i+1] = A[i]\n",
    "            i = i -1\n",
    "        A[i+1] = key"
   ]
  },
  {
   "cell_type": "code",
   "execution_count": 4,
   "metadata": {},
   "outputs": [
    {
     "data": {
      "text/plain": [
       "[1, 2, 3, 4, 5, 6]"
      ]
     },
     "execution_count": 4,
     "metadata": {},
     "output_type": "execute_result"
    }
   ],
   "source": [
    "A = [5, 2, 4, 6, 1, 3]\n",
    "recursion_insertion_sort(A, len(A)-1)\n",
    "A"
   ]
  },
  {
   "cell_type": "markdown",
   "metadata": {},
   "source": [
    "### 二分查找\n",
    "__二分查找__又称__折半查找__，__优点__是比较次数少，查找速度快，平均性能好，占用系统内存较少；其__缺点__是要求__待查表为有序表__，且插入删除困难。因此，折半查找方法适用于不经常变动而查找频繁的有序列表。"
   ]
  },
  {
   "cell_type": "code",
   "execution_count": 8,
   "metadata": {
    "collapsed": true
   },
   "outputs": [],
   "source": [
    "def binary_search(A, key):\n",
    "    low = 0\n",
    "    high = len(A) - 1\n",
    "    while low < high:\n",
    "        mid = int((low + high) / 2)\n",
    "        if A[mid] > key:\n",
    "            high = min - 1\n",
    "        elif A[mid] < key:\n",
    "            low = mid + 1\n",
    "        else:\n",
    "            return mid\n",
    "    return -1"
   ]
  },
  {
   "cell_type": "code",
   "execution_count": 11,
   "metadata": {},
   "outputs": [
    {
     "data": {
      "text/plain": [
       "2"
      ]
     },
     "execution_count": 11,
     "metadata": {},
     "output_type": "execute_result"
    }
   ],
   "source": [
    "A = [1, 2, 3, 4, 5, 6]\n",
    "binary_search(A, 3)"
   ]
  },
  {
   "cell_type": "markdown",
   "metadata": {},
   "source": [
    "## 归并排序"
   ]
  },
  {
   "cell_type": "markdown",
   "metadata": {},
   "source": [
    "### 分治法（divide-and-conquer）"
   ]
  },
  {
   "cell_type": "code",
   "execution_count": 37,
   "metadata": {},
   "outputs": [
    {
     "name": "stdout",
     "output_type": "stream",
     "text": [
      "[5, 2, 4, 7, 1] [3, 2, 6, 4]\n",
      "[5, 2, 4] [7, 1]\n",
      "[5, 2] [4]\n",
      "[5] [2]\n",
      "[7] [1]\n",
      "[3, 2] [6, 4]\n",
      "[3] [2]\n",
      "[6] [4]\n"
     ]
    },
    {
     "data": {
      "text/plain": [
       "[1, 2, 2, 3, 4, 4, 5, 6, 7]"
      ]
     },
     "execution_count": 37,
     "metadata": {},
     "output_type": "execute_result"
    }
   ],
   "source": [
    "# 归并函数\n",
    "def merge(A, p, q, r):\n",
    "    L = A[p: q+1]\n",
    "    R = A[q+1: r]\n",
    "    i = 0\n",
    "    j = 0\n",
    "    k = p\n",
    "    while i < len(L) and j < len(R) and k < r:\n",
    "        if L[i] <= R[j]:\n",
    "            A[k] = L[i]\n",
    "            i = i + 1\n",
    "        else:\n",
    "            A[k] = R[j]\n",
    "            j = j + 1\n",
    "        k = k + 1\n",
    "    if i < len(L):\n",
    "        A[k: r] = L[i: len(L)]\n",
    "    if j < len(R):\n",
    "        A[k: r]= R[j: len(R)]\n",
    "# 归并排序函数\n",
    "def merge_sort(A, p, r):\n",
    "    if p < r-1:\n",
    "        q = int((p + r - 1) / 2)\n",
    "        merge_sort(A, p, q + 1)\n",
    "        merge_sort(A, q + 1, r)\n",
    "        merge(A, p, q, r)\n",
    "\n",
    "A = [5, 2, 4, 7, 1, 3, 2, 6, 4]\n",
    "merge_sort(A, 0, len(A))\n",
    "A"
   ]
  },
  {
   "cell_type": "markdown",
   "metadata": {},
   "source": [
    "## 渐进记号\n",
    "* $\\Theta$记号，渐进紧确界（asymptotically tight bound）\n",
    "* $O$记号，渐进紧确上界\n",
    "* $\\Omega$记号，渐进紧确下界\n",
    "* $o$记号，非渐进紧确上界\n",
    "* $\\omega$记号，非渐进紧确下界"
   ]
  },
  {
   "cell_type": "markdown",
   "metadata": {},
   "source": [
    "<img src=\"img01.png\"/>"
   ]
  },
  {
   "cell_type": "markdown",
   "metadata": {},
   "source": [
    "* $\\Theta(g(n)) = \\{f(n):存在正常量c_1、c_2和n_0，使得对所有n\\ge n_0，有0\\le c_1g(n)\\le f(n)\\le c_2g(n)\\}$\n",
    "* $O(g(n)) = \\{f(n):存在正常量c和n_0，使得对所有n\\ge n_0，有0\\le f(n)\\le cg(n)\\}$\n",
    "* $\\Omega(g(n)) = \\{f(n):存在正常量c和n_0，使得对所有n\\ge n_0，有0\\le cg(n)\\le f(n)\\}$\n",
    "* $O(g(n)) = \\{f(n):对任意正常量c > 0和n_0，使得对所有n\\ge n_0，有0\\le f(n)\\le cg(n)\\}$\n",
    "* $\\omega(g(n)) = \\{f(n):对任意正常量c > 0和n_0，使得对所有n\\ge n_0，有0\\le cg(n)\\le f(n)\\}$"
   ]
  },
  {
   "cell_type": "markdown",
   "metadata": {},
   "source": [
    "### 最大子数组问题\n",
    "\n",
    "> 寻找数组$A$的的和最大的非空连续子数组。\n",
    "\n",
    "&emsp;&emsp;只有数组中包含负数时，最大子数组问题才有意义。如何所有数组元素都是非负的，最大子数组问题没有任何难度，因为整个数组的和肯定是最大的。"
   ]
  },
  {
   "cell_type": "code",
   "execution_count": 71,
   "metadata": {
    "collapsed": true
   },
   "outputs": [],
   "source": [
    "A = [13, -3, -25, 20, -3, -16, -23, 18, 20, -7, 12, -5, -22, 15, -4, 7]"
   ]
  },
  {
   "cell_type": "markdown",
   "metadata": {},
   "source": [
    "* 暴力求解法（Brute force method）"
   ]
  },
  {
   "cell_type": "code",
   "execution_count": 82,
   "metadata": {
    "collapsed": true
   },
   "outputs": [],
   "source": [
    "def find_max_subarray_brute(A):\n",
    "    max_sum = A[0]\n",
    "    low = 0\n",
    "    high = 1\n",
    "    for i in range(len(A)):\n",
    "        sum = 0\n",
    "        for j in range(i, len(A)):\n",
    "            sum = sum + A[j]\n",
    "            if sum > max_sum:\n",
    "                max_sum = sum\n",
    "                low = i\n",
    "                high = j+1\n",
    "    return low, high, max_sum"
   ]
  },
  {
   "cell_type": "code",
   "execution_count": 83,
   "metadata": {},
   "outputs": [
    {
     "data": {
      "text/plain": [
       "(7, 11, 43)"
      ]
     },
     "execution_count": 83,
     "metadata": {},
     "output_type": "execute_result"
    }
   ],
   "source": [
    "find_max_subarray_brute(A)"
   ]
  },
  {
   "cell_type": "markdown",
   "metadata": {},
   "source": [
    "* 递归思路"
   ]
  },
  {
   "cell_type": "code",
   "execution_count": 84,
   "metadata": {
    "collapsed": true
   },
   "outputs": [],
   "source": [
    "def find_max_crossing_subarray(A, low, mid, high):\n",
    "    sum = 0\n",
    "    left_sum = A[mid]\n",
    "    max_left = mid\n",
    "    for i in range(mid, low-1, -1):\n",
    "        sum = sum + A[i]\n",
    "        if sum >  left_sum:\n",
    "            left_sum = sum\n",
    "            max_left = i\n",
    "    sum = 0\n",
    "    right_sum = A[mid+1]\n",
    "    max_right = mid + 1\n",
    "    for j in range(mid+1, high):\n",
    "        sum = sum + A[j]\n",
    "        if sum > right_sum:\n",
    "            right_sum = sum\n",
    "            max_right = j\n",
    "    return max_left, max_right+1, (left_sum + right_sum)\n",
    "\n",
    "def find_maximum_subarray(A, low, high):\n",
    "    if(high-1 == low):\n",
    "        return low, high, A[low]\n",
    "    else:\n",
    "        mid = int((low+high-1) / 2)\n",
    "        left_low,left_high,left_sum = find_maximum_subarray(A, low, mid+1)\n",
    "        right_low,right_high,right_sum = find_maximum_subarray(A, mid+1, high)\n",
    "        cross_low, cross_high, cross_sum = find_max_crossing_subarray(A, low, mid, high)\n",
    "        \n",
    "        if left_sum >= right_sum and left_sum >= cross_sum:\n",
    "            return left_low, left_high, left_sum\n",
    "        elif right_sum >= left_sum and right_sum >= cross_sum:\n",
    "            return right_low, right_high, right_sum\n",
    "        else:\n",
    "            return cross_low, cross_high, cross_sum"
   ]
  },
  {
   "cell_type": "code",
   "execution_count": 85,
   "metadata": {},
   "outputs": [
    {
     "data": {
      "text/plain": [
       "(7, 11, 43)"
      ]
     },
     "execution_count": 85,
     "metadata": {},
     "output_type": "execute_result"
    }
   ],
   "source": [
    "find_maximum_subarray(A, 0, len(A))"
   ]
  },
  {
   "cell_type": "markdown",
   "metadata": {},
   "source": [
    "* 非递归思路（有些问题，只能求和，不能确定位置）"
   ]
  },
  {
   "cell_type": "code",
   "execution_count": 86,
   "metadata": {
    "collapsed": true
   },
   "outputs": [],
   "source": [
    "def find_maxsum_subarray(A):\n",
    "    cur_sum = A[0]\n",
    "    max_sum = A[0]\n",
    "    for i in range(1, len(A)):\n",
    "        if cur_sum < 0:\n",
    "            cur_sum = 0\n",
    "        cur_sum = cur_sum + A[i]\n",
    "        if cur_sum > max_sum:\n",
    "            max_sum = cur_sum\n",
    "    return max_sum"
   ]
  },
  {
   "cell_type": "code",
   "execution_count": 87,
   "metadata": {},
   "outputs": [
    {
     "data": {
      "text/plain": [
       "43"
      ]
     },
     "execution_count": 87,
     "metadata": {},
     "output_type": "execute_result"
    }
   ],
   "source": [
    "find_maxsum_subarray(A)"
   ]
  },
  {
   "cell_type": "markdown",
   "metadata": {},
   "source": [
    "## 分治策略\n",
    "介绍三种求解递归式的方法，即得出算法“$\\Theta$”或“$O$”渐近界的方法。\n",
    "* __代入法__ 我们猜测一个界，然后用数学归纳法证明这个界是正确的。\n",
    "* __递归树法__ 将递归式转换为一棵树，其结点表示不同层次的递归调用产生的代价。然后采用边界和技术来求解递归式。\n",
    "* __主方法__ 可求解形如公式的递归式的界：$$T(n) = aT(n/b) + f(n)$$\n",
    " 其中$a\\ge 1，b>1，f(n)$是一个给定的函数。这种形式的递归式很常见，它刻画了这样一个分治算法：生成$a$个子问题，每个子问题的规模是原问题规模的$1/b$，分解和合并步骤总共花费时间为$f(n)$。"
   ]
  },
  {
   "cell_type": "markdown",
   "metadata": {},
   "source": [
    "### 主方法求解递归式\n",
    "#### 主定理\n",
    "__定理（主定理）__ 令$a\\ge 1$和$b > 1$是常数，$f(n)$是一个函数，$T(n)$是定义在非负整数上的递归式：\n",
    "$$T(n) = aT(n/b) + f(n)$$\n",
    "其中我们将$n/b$解释为$\\lfloor n/b \\rfloor$或者$\\lceil n/b \\rceil$。那么$T(n)$有如下渐近界：<br>\n",
    "1. 若对某个常数$\\epsilon > 0$有$f(n)=O(n^{log_b\\ a-\\epsilon})$，则$T(n) = \\Theta(n^{log_b\\ a})$\n",
    "2. 若$f(n) = \\Theta(n^{log_b\\ a})$，则$T(n) = \\Theta(n^{log_b\\ a}lgn)$\n",
    "3. 若对某个常数$\\epsilon > 0$ 有 $f(n)=\\Omega(n^{log_b\\ a})$，且对某个常数$c < 1$和所有足够大的$n$有$af(n/n)\\le cf(n)$，则$T(n)=\\Theta(f(n))$"
   ]
  },
  {
   "cell_type": "code",
   "execution_count": null,
   "metadata": {
    "collapsed": true
   },
   "outputs": [],
   "source": []
  },
  {
   "cell_type": "markdown",
   "metadata": {},
   "source": [
    "## 指示器随机变量\n",
    "> 指示器随机变量（indicator random variable），它为概率与期望之间的转换提供了一个便利的方法。\n",
    "\n",
    "给定一个样本空间$S$和一个时间$A$,那么时间$A$对应的__指示器随机变量$I\\{A\\}$__定义为：\n",
    "$$I\\{A\\}=\\Big \\{_{0 \\qquad 如果A不发生}^{1 \\qquad 如何A发生} $$"
   ]
  },
  {
   "cell_type": "code",
   "execution_count": null,
   "metadata": {
    "collapsed": true
   },
   "outputs": [],
   "source": []
  },
  {
   "cell_type": "markdown",
   "metadata": {},
   "source": [
    "## 堆排序"
   ]
  },
  {
   "cell_type": "code",
   "execution_count": 14,
   "metadata": {
    "collapsed": true
   },
   "outputs": [],
   "source": [
    "def exchange(x, y):\n",
    "    return y, x"
   ]
  },
  {
   "cell_type": "code",
   "execution_count": 18,
   "metadata": {
    "collapsed": true
   },
   "outputs": [],
   "source": [
    "# 调整节点维护最大堆性质（递归）\n",
    "def max_heapify(A, i, heap_size):\n",
    "    largest = i   \n",
    "    \n",
    "    l = 2 * i + 1 # 左子下标\n",
    "    r = 2 * (i + 1)# 右子下标\n",
    "    \n",
    "    if l < heap_size and A[l] > A[i]:\n",
    "        largest = l\n",
    "    else:\n",
    "        largest = i\n",
    "    if r < heap_size and A[r] > A[largest]:\n",
    "        largest = r\n",
    "    if largest != i:\n",
    "        A[largest], A[i] = exchange(A[largest], A[i])\n",
    "        max_heapify(A, largest, heap_size)\n",
    "\n",
    "#建最大堆\n",
    "def build_max_heap(A):\n",
    "    heap_size = len(A)\n",
    "    for i in range(int(heap_size / 2 - 1), -1, -1):\n",
    "        max_heapify(A, i, heap_size)\n",
    "\n",
    "# 堆排序\n",
    "def heap_sort(A):\n",
    "    heap_size = len(A)\n",
    "    build_max_heap(A)\n",
    "    for i in range(len(A)-1, 0, -1):\n",
    "        A[0], A[i] = exchange(A[0], A[i])\n",
    "        heap_size = heap_size - 1\n",
    "        max_heapify(A, 0, heap_size)\n",
    "    return A"
   ]
  },
  {
   "cell_type": "code",
   "execution_count": 19,
   "metadata": {},
   "outputs": [
    {
     "data": {
      "text/plain": [
       "[1, 2, 3, 4, 7, 8, 9, 10, 14, 16]"
      ]
     },
     "execution_count": 19,
     "metadata": {},
     "output_type": "execute_result"
    }
   ],
   "source": [
    "# 数组下标从0开始\n",
    "A = [4, 1, 3, 2, 16, 9, 10, 14, 8, 7]\n",
    "heap_sort(A)"
   ]
  },
  {
   "cell_type": "markdown",
   "metadata": {},
   "source": [
    "## 快速排序"
   ]
  },
  {
   "cell_type": "markdown",
   "metadata": {
    "collapsed": true
   },
   "source": [
    "* 递归法（分治思想）"
   ]
  },
  {
   "cell_type": "code",
   "execution_count": 21,
   "metadata": {
    "collapsed": true
   },
   "outputs": [],
   "source": [
    "def partition(A, p, r):\n",
    "    x = A[r-1]\n",
    "    i = p - 1\n",
    "    for j in range(p, r-1):\n",
    "        if A[j] <= x:\n",
    "            i = i + 1\n",
    "            A[i],A[j] = exchange(A[i], A[j])\n",
    "    A[i+1], A[r-1] = exchange(A[i+1], A[r-1])\n",
    "    return i + 1\n",
    "def quick_sort(A, p, r):\n",
    "    if p < r-1:\n",
    "        q = partition(A, p, r)\n",
    "        quick_sort(A, p, q)\n",
    "        quick_sort(A, q+1, r)\n",
    "    return A"
   ]
  },
  {
   "cell_type": "code",
   "execution_count": 25,
   "metadata": {},
   "outputs": [
    {
     "data": {
      "text/plain": [
       "[1, 2, 3, 4, 7, 8, 9, 10, 14, 16]"
      ]
     },
     "execution_count": 25,
     "metadata": {},
     "output_type": "execute_result"
    }
   ],
   "source": [
    "A = [4, 1, 3, 2, 16, 9, 10, 14, 8, 7]\n",
    "quick_sort(A, 0, len(A))"
   ]
  },
  {
   "cell_type": "markdown",
   "metadata": {},
   "source": [
    "* 快速排序的随机化版本"
   ]
  },
  {
   "cell_type": "code",
   "execution_count": 22,
   "metadata": {
    "collapsed": true
   },
   "outputs": [],
   "source": [
    "import random\n",
    "def randomized_partition(A, p, r):\n",
    "    i = random.randint(p, r-1)  # 随机抽样（random sampling）\n",
    "    A[i], A[r-1] = exchange(A[i], A[r-1])\n",
    "    return partition(A, p, r)\n",
    "\n",
    "def randomized_quick_sort(A, p, r):\n",
    "    if p < r-1:\n",
    "        q = randomized_partition(A, p, r)\n",
    "        randomized_quick_sort(A, p, q)\n",
    "        randomized_quick_sort(A, q+1, r)\n",
    "    return A"
   ]
  },
  {
   "cell_type": "code",
   "execution_count": 23,
   "metadata": {},
   "outputs": [
    {
     "data": {
      "text/plain": [
       "[1, 2, 3, 4, 7, 8, 9, 10, 14, 16]"
      ]
     },
     "execution_count": 23,
     "metadata": {},
     "output_type": "execute_result"
    }
   ],
   "source": [
    "A = [4, 1, 3, 2, 16, 9, 10, 14, 8, 7]\n",
    "randomized_quick_sort(A, 0, len(A))"
   ]
  },
  {
   "cell_type": "markdown",
   "metadata": {},
   "source": [
    "* 非递归"
   ]
  },
  {
   "cell_type": "code",
   "execution_count": null,
   "metadata": {
    "collapsed": true
   },
   "outputs": [],
   "source": []
  },
  {
   "cell_type": "markdown",
   "metadata": {},
   "source": [
    "## 计数排序"
   ]
  },
  {
   "cell_type": "code",
   "execution_count": 55,
   "metadata": {
    "collapsed": true
   },
   "outputs": [],
   "source": [
    "def counting_sort(A, k):\n",
    "    B = [0] * len(A)\n",
    "    C = [0] * (k+1) # let C[0..k] be a new array\n",
    "    for Aj in A:\n",
    "        C[Aj] = C[Aj] + 1\n",
    "    for i in range(1, len(C)):\n",
    "        C[i] = C[i] + C[i-1]\n",
    "    for j in range(len(A)-1, -1, -1):\n",
    "        B[C[A[j]]-1] = A[j]\n",
    "        C[A[j]] = C[A[j]] -1\n",
    "    return B"
   ]
  },
  {
   "cell_type": "code",
   "execution_count": 56,
   "metadata": {},
   "outputs": [
    {
     "data": {
      "text/plain": [
       "[0, 0, 2, 2, 3, 3, 3, 5]"
      ]
     },
     "execution_count": 56,
     "metadata": {},
     "output_type": "execute_result"
    }
   ],
   "source": [
    "A = [2, 5, 3, 0, 2, 3, 0, 3]\n",
    "counting_sort(A, 5)"
   ]
  },
  {
   "cell_type": "markdown",
   "metadata": {},
   "source": [
    "## 基数排序"
   ]
  },
  {
   "cell_type": "code",
   "execution_count": null,
   "metadata": {
    "collapsed": true
   },
   "outputs": [],
   "source": [
    "def radix_sort(A):\n",
    "    pass"
   ]
  },
  {
   "cell_type": "markdown",
   "metadata": {},
   "source": [
    "## 桶排序"
   ]
  },
  {
   "cell_type": "code",
   "execution_count": 34,
   "metadata": {
    "collapsed": true
   },
   "outputs": [],
   "source": [
    "def bucket_sort(A):\n",
    "    n = len(A)\n",
    "    B = []\n",
    "    for i in range(n):\n",
    "        B.append([])\n",
    "    for i in range(n):\n",
    "        B[int(n*A[i])].append(A[i])\n",
    "    A = []\n",
    "    for i in range(n):\n",
    "        insertion_sort(B[i])\n",
    "        if len(B[i]) > 1:\n",
    "            for bi in B[i]:\n",
    "                A.append(bi)\n",
    "    return A"
   ]
  },
  {
   "cell_type": "code",
   "execution_count": 35,
   "metadata": {},
   "outputs": [
    {
     "data": {
      "text/plain": [
       "[0.12, 0.17, 0.21, 0.23, 0.26, 0.72, 0.78]"
      ]
     },
     "execution_count": 35,
     "metadata": {},
     "output_type": "execute_result"
    }
   ],
   "source": [
    "A = [0.78, 0.17, 0.39, 0.26, .72, .94, .21, .12, .23, .68]\n",
    "bucket_sort(A)"
   ]
  },
  {
   "cell_type": "markdown",
   "metadata": {},
   "source": [
    "## 散列表"
   ]
  },
  {
   "cell_type": "markdown",
   "metadata": {
    "collapsed": true
   },
   "source": [
    "* 通过链接法（chaining）解决冲突<br>\n",
    "  在链接法中，把散列到同一槽中的所有元素都发在一个链表中,如下图所示："
   ]
  },
  {
   "cell_type": "markdown",
   "metadata": {},
   "source": [
    "<img src=\"%E9%93%BE%E6%8E%A5%E6%B3%95.png\" width=\"60%\"/>"
   ]
  },
  {
   "cell_type": "markdown",
   "metadata": {},
   "source": [
    "* 给定一个能存放$n$个元素的、具有$m$个槽位的散列表$T$，定义$T$的__装填因子（load factor）__$\\alpha$为$n/m$，即一个链的平均存储数。\n",
    "<br><br>\n",
    "* 假设任何一个给定元素等可能散列到$m$个槽中的任何一个位置，且与其他元素被散列到什么位置上无关，我们称在这个假设为__简单均匀散列（simple uniform hashing）__。<br>\n",
    "&emsp;&emsp;对于$j = 0, 1, …, m-1,$列表$T[j]$的长度用$n_j$表示，于是有$$n = n_0 + n_1 + … + n_{m-1}$$并且$n_j$的期望为$E[n_j] = \\alpha = n/m$"
   ]
  },
  {
   "cell_type": "markdown",
   "metadata": {},
   "source": [
    "### 散列函数"
   ]
  },
  {
   "cell_type": "markdown",
   "metadata": {},
   "source": [
    "* 除法散列法\n",
    "* 乘法散列法\n",
    "* 直接地址法\n",
    "* 平方取中法\n",
    "* 随机数法"
   ]
  },
  {
   "cell_type": "markdown",
   "metadata": {},
   "source": [
    "### 处理冲突的方法\n",
    "* 链接法\n",
    "* 开放寻址法\n",
    "  * 线性探查（探测）法\n",
    "  * 二次探查法\n",
    "  * 双重散列"
   ]
  },
  {
   "cell_type": "markdown",
   "metadata": {},
   "source": [
    "## 二叉搜索树"
   ]
  },
  {
   "cell_type": "code",
   "execution_count": 58,
   "metadata": {
    "collapsed": true
   },
   "outputs": [],
   "source": [
    "class TreeNode(object):\n",
    "    def __init__(self, data = -1, parents = None, lchild = None, rchild = None):\n",
    "        self.data = data\n",
    "        self.parents = parents\n",
    "        self.lchild = lchild\n",
    "        self.rchild = rchild\n",
    "class BST(object):\n",
    "    def __init__(self, root = None):\n",
    "        self.root = root\n",
    "        \n",
    "# 插入节点\n",
    "def tree_insert(T, z):\n",
    "    y = None\n",
    "    x = T.root\n",
    "    while x != None:\n",
    "        y = x\n",
    "        if z.data < x.data:\n",
    "            x = x.lchild\n",
    "        else:\n",
    "            x = x.rchild\n",
    "    z.parents = y\n",
    "    if y == None:\n",
    "        T.root = z\n",
    "    elif z.data < y.data:\n",
    "        y.lchild = z\n",
    "    else:\n",
    "        y.rchild = z\n",
    "\n",
    "def inorder_tree_walk(node):\n",
    "    if node != None:\n",
    "        inorder_tree_walk(node.lchild)\n",
    "        print(node.data, end=' ')\n",
    "        inorder_tree_walk(node.rchild)\n",
    "        \n",
    "def tree_search(x, k):\n",
    "    if x == None or k == x.data:\n",
    "        return x\n",
    "    if k < x.data:\n",
    "        return tree_search(x.lchild, k)\n",
    "    else:\n",
    "        return tree_search(x.rchild, k)\n",
    "    \n",
    "# 非递归查找（采用while循环展开递归）\n",
    "def iterative_tree_search(x, k):\n",
    "    while x!= None and k!= x.data:\n",
    "        if k < x.data:\n",
    "            x = x.lchild\n",
    "        else:\n",
    "            x = x.rchild\n",
    "    return x\n",
    "\n",
    "# 最小关键字元素\n",
    "def tree_minimum(x):\n",
    "    while x.lchild != None:\n",
    "        x = x.lchild\n",
    "    return x\n",
    "\n",
    "# 最大关键之元素\n",
    "def tree_maximum(x):\n",
    "    while x.rchild != None:\n",
    "        x = x.rchild\n",
    "    return x\n",
    "\n",
    "# 移动子树（为删除节点做准备）    \n",
    "def transplant(T, u, v):\n",
    "    if u.parents == None:\n",
    "        T.root = v\n",
    "    elif u == u.parents.lchild:\n",
    "        u.parents.lchild = v\n",
    "    else:\n",
    "        u.parents.rchild = v\n",
    "    if v != None:\n",
    "        v.parents = u.parents\n",
    "\n",
    "# 删除节点\n",
    "def tree_delete(T, z):\n",
    "    if z.lchild == None:\n",
    "        transplant(T, z, z.rchild)\n",
    "    elif z.rchild == None:\n",
    "        transplant(T, z, z.lchild)\n",
    "    else:\n",
    "        y = tree_minimun(z.rchild)\n",
    "        if y.parents != z:\n",
    "            transplant(T, y, y.rchild)\n",
    "            y.rchild = z.rchild\n",
    "            y.rchild.parents = y\n",
    "        transplant(T, z, y)\n",
    "        y.lchild = z.lchild\n",
    "        y.lchild.parents = y"
   ]
  },
  {
   "cell_type": "code",
   "execution_count": 78,
   "metadata": {},
   "outputs": [
    {
     "name": "stdout",
     "output_type": "stream",
     "text": [
      "1 2 3 4 5 6 7 8 9 "
     ]
    }
   ],
   "source": [
    "A = [3, 5, 2, 9, 1, 8, 4, 7, 6]\n",
    "T = BST()\n",
    "for Ai in A:\n",
    "    tree_insert(T, TreeNode(Ai))\n",
    "inorder_tree_walk(T.root)"
   ]
  },
  {
   "cell_type": "code",
   "execution_count": 79,
   "metadata": {},
   "outputs": [
    {
     "data": {
      "text/plain": [
       "9"
      ]
     },
     "execution_count": 79,
     "metadata": {},
     "output_type": "execute_result"
    }
   ],
   "source": [
    "node = tree_maximum(T.root)\n",
    "node.data"
   ]
  },
  {
   "cell_type": "code",
   "execution_count": 80,
   "metadata": {},
   "outputs": [
    {
     "data": {
      "text/plain": [
       "1"
      ]
     },
     "execution_count": 80,
     "metadata": {},
     "output_type": "execute_result"
    }
   ],
   "source": [
    "node = tree_minimum(T.root)\n",
    "node.data"
   ]
  },
  {
   "cell_type": "code",
   "execution_count": 81,
   "metadata": {
    "collapsed": true
   },
   "outputs": [],
   "source": [
    "# 递归最小关键字元素\n",
    "def tree_minimum_recurtion(x):\n",
    "    if x.lchild != None:\n",
    "         x = tree_minimum_recurtion(x.lchild)\n",
    "    return x\n",
    "    \n",
    "# 递归最大关键字元素\n",
    "def tree_maximum_recurtion(x):\n",
    "    if x.rchild != None:\n",
    "        x = tree_maximum_recurtion(x.rchild)\n",
    "    return x"
   ]
  },
  {
   "cell_type": "code",
   "execution_count": 82,
   "metadata": {},
   "outputs": [
    {
     "data": {
      "text/plain": [
       "1"
      ]
     },
     "execution_count": 82,
     "metadata": {},
     "output_type": "execute_result"
    }
   ],
   "source": [
    "node = tree_minimum_recurtion(T.root)\n",
    "node.data"
   ]
  },
  {
   "cell_type": "code",
   "execution_count": 83,
   "metadata": {},
   "outputs": [
    {
     "data": {
      "text/plain": [
       "9"
      ]
     },
     "execution_count": 83,
     "metadata": {},
     "output_type": "execute_result"
    }
   ],
   "source": [
    "node = tree_maximum_recurtion(T.root)\n",
    "node.data"
   ]
  },
  {
   "cell_type": "code",
   "execution_count": 89,
   "metadata": {},
   "outputs": [
    {
     "name": "stdout",
     "output_type": "stream",
     "text": [
      "1 2 3 4 5 6 7 8 9 \n",
      "1 2 4 5 6 7 8 9 "
     ]
    }
   ],
   "source": [
    "tree_insert(T, TreeNode(3))\n",
    "inorder_tree_walk(T.root)\n",
    "z = tree_search(T.root, 3)\n",
    "tree_delete(T, z)\n",
    "print()\n",
    "inorder_tree_walk(T.root)"
   ]
  },
  {
   "cell_type": "markdown",
   "metadata": {},
   "source": [
    " ## 红黑树"
   ]
  },
  {
   "cell_type": "markdown",
   "metadata": {},
   "source": [
    "### 什么是红黑树"
   ]
  },
  {
   "cell_type": "markdown",
   "metadata": {
    "collapsed": true
   },
   "source": [
    "&emsp;&emsp;红黑树是一棵二叉搜索树，它在每个节点上增加了存储位来表示结点的__颜色__，可以使__RED__或__BLACK__。通过对任何一条从根到叶子的简单路劲上各个结点的颜色进行约束，红黑树确保没有一条路径会比其他路径长出2倍，因此是近似于__平衡__。<br>\n",
    "&emsp;&emsp;树中每个结点包换5个属性：$color、key、left、right和p$。<br>\n",
    "* 一个红黑树是满足下面红黑性质的二叉搜索树：\n",
    "    1. 每个结点或是红色的，或是黑色的。\n",
    "    2. 根结点是黑色的。\n",
    "    3. 每个叶结点（NIL）是黑色的。\n",
    "    4. 如果一个结点是红色的，则它的子结点都是黑色的。\n",
    "    5. 对于每个结点，从该结点到其所有后代叶结点的简单路径上，均包含相同数目的黑色结点。"
   ]
  },
  {
   "cell_type": "markdown",
   "metadata": {},
   "source": [
    "### 旋转"
   ]
  },
  {
   "cell_type": "markdown",
   "metadata": {},
   "source": [
    "&emsp;&emsp;在对红黑树进行插入或者删除结点时，很可能会破坏红黑树的性质。为了维护这些性质，必须要改变树中某些结点的颜色以及指针结构。<br>\n",
    "&emsp;&emsp;指针的结构修改是通过__旋转（ratation）__来完成的。这是一种能保持二叉搜索树性质的搜索树局部操作。下图所示左旋和右旋："
   ]
  },
  {
   "cell_type": "markdown",
   "metadata": {},
   "source": [
    "<img src=\"旋转01.png\" width=\"60%\">"
   ]
  },
  {
   "cell_type": "code",
   "execution_count": 90,
   "metadata": {
    "collapsed": true
   },
   "outputs": [],
   "source": [
    "# 二叉搜索树的左旋\n",
    "def left_rotate(T, x):\n",
    "    pass\n",
    "\n",
    "# 二叉搜索树的右旋\n",
    "def right_rotate(T, x):\n",
    "    pass"
   ]
  },
  {
   "cell_type": "markdown",
   "metadata": {},
   "source": [
    "### 定义红黑树的数据结构"
   ]
  },
  {
   "cell_type": "code",
   "execution_count": 91,
   "metadata": {
    "collapsed": true
   },
   "outputs": [],
   "source": [
    "class RBNode(object):\n",
    "    def __init__(self, color = 'red', key = -1, left = None, right = None, p = None):\n",
    "        self.color = color\n",
    "        self.key = key\n",
    "        self.left  = left\n",
    "        self.right = right\n",
    "        self.p = p\n",
    "class RBTree(object):\n",
    "    def __init__(self, root = None):\n",
    "        self.root = root\n",
    "        self.nil = None"
   ]
  },
  {
   "cell_type": "markdown",
   "metadata": {},
   "source": [
    "### 红黑树的插入操作"
   ]
  },
  {
   "cell_type": "markdown",
   "metadata": {},
   "source": [
    "1. __$z$的叔结点$y$是红色的__\n",
    "2. __$z$的叔结点$y$是黑色的且$z$是一个右孩子__\n",
    "3. __$z$的叔结点$y$是黑色的且$z$是一个左孩子__"
   ]
  },
  {
   "cell_type": "code",
   "execution_count": null,
   "metadata": {
    "collapsed": true
   },
   "outputs": [],
   "source": [
    "# 插入时进行调整（旋转调整）\n",
    "def rb_insert_fixup(T, z):\n",
    "    pass\n"
   ]
  },
  {
   "cell_type": "code",
   "execution_count": null,
   "metadata": {
    "collapsed": true
   },
   "outputs": [],
   "source": [
    "# 红黑树结点插入函数\n",
    "# def rb_insert(T, z):\n",
    "#     y = T.nil\n",
    "#     x = T.root\n",
    "#     while x != T.nil:\n",
    "#         y = x\n",
    "#         if z.key < x.key:\n",
    "#             x = x.left\n",
    "#         else:\n",
    "#             x = x.right\n",
    "#     z.p = y\n",
    "#     if y == T.nil:\n",
    "#         T.root = z\n",
    "#     elif z.key < y.key:\n",
    "#         y.left = z\n",
    "#     else:\n",
    "#         y.right = z\n",
    "#     z.left = T.nil\n",
    "#     z.right = T.nil\n",
    "#     z.color = 'red'\n",
    "    "
   ]
  },
  {
   "cell_type": "markdown",
   "metadata": {},
   "source": [
    "### 红黑树删除操作"
   ]
  },
  {
   "cell_type": "markdown",
   "metadata": {},
   "source": [
    "1. __$x$的兄弟结点$w$是红色的__\n",
    "2. __$x$的兄弟结点$w$是黑色的，而且$w$的两个子结点都是黑色的__\n",
    "3. __$x$的兄弟结点$w$是黑色的，$w$的左孩子是红色的，$w$的右孩子是黑色的__\n",
    "4. __$x$的兄弟结点$w$是黑色的，且$w$的右孩子是红色的__"
   ]
  },
  {
   "cell_type": "code",
   "execution_count": null,
   "metadata": {
    "collapsed": true
   },
   "outputs": [],
   "source": []
  },
  {
   "cell_type": "markdown",
   "metadata": {},
   "source": [
    "## 最长公共子序列"
   ]
  },
  {
   "cell_type": "code",
   "execution_count": null,
   "metadata": {
    "collapsed": true
   },
   "outputs": [],
   "source": []
  }
 ],
 "metadata": {
  "kernelspec": {
   "display_name": "Python 3",
   "language": "python",
   "name": "python3"
  },
  "language_info": {
   "codemirror_mode": {
    "name": "ipython",
    "version": 3
   },
   "file_extension": ".py",
   "mimetype": "text/x-python",
   "name": "python",
   "nbconvert_exporter": "python",
   "pygments_lexer": "ipython3",
   "version": "3.6.2"
  }
 },
 "nbformat": 4,
 "nbformat_minor": 2
}
