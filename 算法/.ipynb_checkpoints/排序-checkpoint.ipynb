{
 "cells": [
  {
   "cell_type": "markdown",
   "metadata": {},
   "source": [
    "# 各种排序算法"
   ]
  },
  {
   "cell_type": "markdown",
   "metadata": {},
   "source": [
    "![img2.png](img2.png)"
   ]
  },
  {
   "cell_type": "markdown",
   "metadata": {},
   "source": [
    "## 冒泡排序"
   ]
  },
  {
   "cell_type": "code",
   "execution_count": 2,
   "metadata": {},
   "outputs": [
    {
     "data": {
      "text/plain": [
       "[0, 1, 2, 3, 4, 5, 6, 7, 8, 9]"
      ]
     },
     "execution_count": 2,
     "metadata": {},
     "output_type": "execute_result"
    }
   ],
   "source": [
    "# 冒泡排序\n",
    "def bubbling_sort(A):\n",
    "    for i in range(len(A))[::-1]:\n",
    "        for j in range(i):\n",
    "            if A[j] > A[j+1]:\n",
    "                A[j], A[j+1] = A[j+1], A[j]\n",
    "            \n",
    "A = [9, 8, 7, 6, 5, 4, 3, 2, 1, 0]\n",
    "bubbling_sort(A)\n",
    "A"
   ]
  },
  {
   "cell_type": "markdown",
   "metadata": {},
   "source": [
    "## 插入排序"
   ]
  },
  {
   "cell_type": "code",
   "execution_count": 2,
   "metadata": {},
   "outputs": [
    {
     "data": {
      "text/plain": [
       "[0, 1, 2, 3, 4, 5, 6, 7, 8, 9]"
      ]
     },
     "execution_count": 2,
     "metadata": {},
     "output_type": "execute_result"
    }
   ],
   "source": [
    "# 插入排序\n",
    "def insert_sort(A):\n",
    "    for i in range(1, len(A)):\n",
    "        temp = A[i]\n",
    "        j = i - 1\n",
    "        while j >= 0 and A[j] > temp:\n",
    "            A[j+1] = A[j]\n",
    "            j = j - 1\n",
    "        A[j+1] = temp\n",
    "A = [9, 8, 7, 6, 5, 4, 3, 2, 1, 0]\n",
    "insert_sort(A)\n",
    "A"
   ]
  },
  {
   "cell_type": "markdown",
   "metadata": {},
   "source": [
    "## 归并排序"
   ]
  },
  {
   "cell_type": "code",
   "execution_count": 10,
   "metadata": {},
   "outputs": [
    {
     "data": {
      "text/plain": [
       "[1, 2, 2, 3, 4, 4, 5, 6, 7]"
      ]
     },
     "execution_count": 10,
     "metadata": {},
     "output_type": "execute_result"
    }
   ],
   "source": [
    "# 归并函数\n",
    "'''\n",
    "A为数组，l为起始位置，m为中间位置，h为结束位置（不包含）\n",
    "'''\n",
    "def merge(A, l, m, h):\n",
    "    L = A[l: m+1]  # 左半边数组\n",
    "    R = A[m+1: h]  # 右半边数组\n",
    "    \n",
    "    i = j = 0\n",
    "    k = l\n",
    "    while i < len(L) and j < len(R) and k < h:\n",
    "        if L[i] <= R[j]:\n",
    "            A[k] = L[i]\n",
    "            i = i + 1\n",
    "        else:\n",
    "            A[k] = R[j]\n",
    "            j = j + 1\n",
    "        k = k + 1\n",
    "    \n",
    "    if i < len(L):\n",
    "        A[k: h] = L[i: len(L)]\n",
    "    if j < len(R):\n",
    "        A[k: h] = R[j: len(R)]\n",
    "    return\n",
    "\n",
    "# 归并排序（递归）\n",
    "def merge_sort(A, l, h):\n",
    "    if l < h-1:\n",
    "        m = int((l + h - 1) / 2)\n",
    "        merge_sort(A, l, m+1)\n",
    "        merge_sort(A, m+1, h)\n",
    "        merge(A, l, m, h)\n",
    "\n",
    "A = [5, 2, 4, 7, 1, 3, 2, 6, 4]\n",
    "merge_sort(A, 0, len(A))\n",
    "A"
   ]
  },
  {
   "cell_type": "markdown",
   "metadata": {},
   "source": [
    "## 快速排序 "
   ]
  },
  {
   "cell_type": "code",
   "execution_count": 11,
   "metadata": {},
   "outputs": [
    {
     "data": {
      "text/plain": [
       "[1, 2, 2, 3, 4, 4, 5, 6, 7]"
      ]
     },
     "execution_count": 11,
     "metadata": {},
     "output_type": "execute_result"
    }
   ],
   "source": [
    "def partition(A, l, h):\n",
    "    x = A[l]\n",
    "    i = l\n",
    "    for j in range(l+1, h):\n",
    "        if A[j] <= x:\n",
    "            i = i + 1\n",
    "            A[i], A[j] = A[j], A[i] # exchange\n",
    "    A[l], A[i] = A[i], A[l]  # exchange\n",
    "    return i\n",
    "\n",
    "# 快速排序\n",
    "def quick_sort(A, l, h):\n",
    "    if l < h-1:\n",
    "        m = partition(A, l, h)\n",
    "        quick_sort(A, l, m)\n",
    "        quick_sort(A, m+1, h)\n",
    "        \n",
    "A = [5, 2, 4, 7, 1, 3, 2, 6, 4]\n",
    "quick_sort(A, 0, len(A))\n",
    "A"
   ]
  },
  {
   "cell_type": "markdown",
   "metadata": {},
   "source": [
    "## 计数排序"
   ]
  },
  {
   "cell_type": "code",
   "execution_count": 33,
   "metadata": {},
   "outputs": [
    {
     "data": {
      "text/plain": [
       "[1, 2, 2, 3, 4, 4, 5, 6, 7]"
      ]
     },
     "execution_count": 33,
     "metadata": {},
     "output_type": "execute_result"
    }
   ],
   "source": [
    "# 获取一个数列的最大值\n",
    "def get_max(A):\n",
    "    _max = A[0]\n",
    "    for Ai in A:\n",
    "        if Ai > _max:\n",
    "            _max = Ai\n",
    "    return _max\n",
    "#   retrurn max(A)\n",
    "\n",
    "# 计数排序\n",
    "def count_sort(A, k):\n",
    "    C = [0] * (k+1)\n",
    "    B = [0] * len(A)\n",
    "    for i in range(len(A)):\n",
    "        C[A[i]] = C[A[i]] + 1\n",
    "    for i in range(1, len(C)):\n",
    "        C[i] = C[i] + C[i-1]\n",
    "    for i in range(len(A))[::-1]:\n",
    "        B[C[A[i]]-1] = A[i]\n",
    "        C[A[i]] = C[A[i]] - 1\n",
    "    return B\n",
    "        \n",
    "A = [5, 2, 4, 7, 1, 3, 2, 6, 4]\n",
    "count_sort(A, get_max(A))"
   ]
  },
  {
   "cell_type": "markdown",
   "metadata": {},
   "source": [
    "## 堆排序"
   ]
  },
  {
   "cell_type": "code",
   "execution_count": 34,
   "metadata": {},
   "outputs": [
    {
     "data": {
      "text/plain": [
       "[1, 2, 3, 4, 7, 8, 9, 10, 14, 16]"
      ]
     },
     "execution_count": 34,
     "metadata": {},
     "output_type": "execute_result"
    }
   ],
   "source": [
    "def exchange(x, y):\n",
    "    return y, x\n",
    "\n",
    "# 调整节点维护最大堆性质（递归）\n",
    "def max_heapify(A, i, heap_size):\n",
    "    largest = i   \n",
    "    \n",
    "    l = 2 * i + 1 # 左子下标\n",
    "    r = 2 * (i + 1)# 右子下标\n",
    "    \n",
    "    if l < heap_size and A[l] > A[i]:\n",
    "        largest = l\n",
    "    else:\n",
    "        largest = i\n",
    "    if r < heap_size and A[r] > A[largest]:\n",
    "        largest = r\n",
    "    if largest != i:\n",
    "        A[largest], A[i] = exchange(A[largest], A[i])\n",
    "        max_heapify(A, largest, heap_size)\n",
    "\n",
    "#建最大堆\n",
    "def build_max_heap(A):\n",
    "    heap_size = len(A)\n",
    "    for i in range(int(heap_size / 2 - 1), -1, -1):\n",
    "        max_heapify(A, i, heap_size)\n",
    "\n",
    "# 堆排序\n",
    "def heap_sort(A):\n",
    "    heap_size = len(A)\n",
    "    build_max_heap(A)\n",
    "    for i in range(len(A)-1, 0, -1):\n",
    "        A[0], A[i] = exchange(A[0], A[i])\n",
    "        heap_size = heap_size - 1\n",
    "        max_heapify(A, 0, heap_size)\n",
    "\n",
    "# 数组下标从0开始\n",
    "A = [4, 1, 3, 2, 16, 9, 10, 14, 8, 7]\n",
    "heap_sort(A)\n",
    "A"
   ]
  }
 ],
 "metadata": {
  "kernelspec": {
   "display_name": "Python 3",
   "language": "python",
   "name": "python3"
  },
  "language_info": {
   "codemirror_mode": {
    "name": "ipython",
    "version": 3
   },
   "file_extension": ".py",
   "mimetype": "text/x-python",
   "name": "python",
   "nbconvert_exporter": "python",
   "pygments_lexer": "ipython3",
   "version": "3.6.2"
  }
 },
 "nbformat": 4,
 "nbformat_minor": 2
}
